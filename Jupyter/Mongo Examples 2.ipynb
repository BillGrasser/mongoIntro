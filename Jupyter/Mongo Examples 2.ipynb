{
 "cells": [
  {
   "cell_type": "markdown",
   "metadata": {},
   "source": [
    "# Mongo Examples Part 2\n",
    "### working with a larger data set\n",
    "\n",
    "Sample Data from [United States Department of Transportation On-Time Performance](https://www.transtats.bts.gov/DL_SelectFields.asp?Table_ID=236&DB_Short_Name=On-Time)\n",
    "\n",
    "Imported to Mongo using [MongoImport](https://docs.mongodb.com/manual/reference/program/mongoimport/)\n",
    "\n",
    "> mongoimport -d flights -c flightstats --type csv --file 642648472_T_ONTIME.csv --headerline\n"
   ]
  },
  {
   "cell_type": "code",
   "execution_count": 1,
   "metadata": {},
   "outputs": [
    {
     "data": {},
     "metadata": {},
     "output_type": "display_data"
    },
    {
     "data": {},
     "metadata": {},
     "output_type": "display_data"
    },
    {
     "data": {
      "text/plain": [
       "switched to db flights"
      ]
     },
     "execution_count": 1,
     "metadata": {},
     "output_type": "execute_result"
    }
   ],
   "source": [
    "use flights"
   ]
  },
  {
   "cell_type": "markdown",
   "metadata": {},
   "source": [
    "**Grab the first record (find all, limit to one) and make it look pretty**\n",
    "\n",
    "**find() takes two parameters, query and projection**\n",
    "+ query is like the where clause\n",
    "+ projection is the fields to be returnd\n",
    "\n",
    "**We start with both empty to get everything** _( find({},{}) = find({}) )_"
   ]
  },
  {
   "cell_type": "code",
   "execution_count": 2,
   "metadata": {},
   "outputs": [],
   "source": [
    "db.flightstats.find({}).limit(1).pretty();"
   ]
  },
  {
   "cell_type": "markdown",
   "metadata": {},
   "source": [
    "** We don't need all of those fields, just limit to the few care about **"
   ]
  },
  {
   "cell_type": "code",
   "execution_count": 3,
   "metadata": {},
   "outputs": [
    {
     "data": {},
     "metadata": {},
     "output_type": "display_data"
    },
    {
     "data": {},
     "metadata": {},
     "output_type": "display_data"
    },
    {
     "data": {
      "text/plain": [
       "{\r\n",
       "\t\"_id\" : ObjectId(\"59e9449672df5c7b88add6a1\"),\r\n",
       "\t\"FL_DATE\" : \"2017-06-05\",\r\n",
       "\t\"FL_NUM\" : 4768,\r\n",
       "\t\"ORIGIN_CITY_NAME\" : \"South Bend, IN\",\r\n",
       "\t\"DEST_CITY_NAME\" : \"Detroit, MI\",\r\n",
       "\t\"DEST_STATE_ABR\" : \"MI\",\r\n",
       "\t\"DEST_STATE_NM\" : \"Michigan\",\r\n",
       "\t\"DEP_TIME\" : 1927,\r\n",
       "\t\"ARR_TIME\" : 2021,\r\n",
       "\t\"CANCELLED\" : 0,\r\n",
       "\t\"DIVERTED\" : 0,\r\n",
       "\t\"ACTUAL_ELAPSED_TIME\" : 54,\r\n",
       "\t\"AIR_TIME\" : 31\r\n",
       "}"
      ]
     },
     "execution_count": 3,
     "metadata": {},
     "output_type": "execute_result"
    }
   ],
   "source": [
    "db.flightstats.find(\n",
    "    {},\n",
    "    {\n",
    "        \"FL_DATE\" : 1, \"FL_NUM\" : 1, \"ORIGIN_CITY_NAME\" : 1, \n",
    "        \"DEST_CITY_NAME\" : 1, \"DEST_STATE_ABR\" : 1, \"DEST_STATE_NM\" : 1, \n",
    "        \"DEP_TIME\" : 1, \"ARR_TIME\" : 1, \"CANCELLED\" : 1, \n",
    "        \"DIVERTED\" : 1, \"ACTUAL_ELAPSED_TIME\" : 1, \"AIR_TIME\" : 1\n",
    "    }).limit(1).pretty();"
   ]
  },
  {
   "cell_type": "markdown",
   "metadata": {},
   "source": [
    "** Drop the _id by setting it to 0 **"
   ]
  },
  {
   "cell_type": "code",
   "execution_count": 4,
   "metadata": {},
   "outputs": [
    {
     "data": {},
     "metadata": {},
     "output_type": "display_data"
    },
    {
     "data": {},
     "metadata": {},
     "output_type": "display_data"
    },
    {
     "data": {
      "text/plain": [
       "{\r\n",
       "\t\"FL_DATE\" : \"2017-06-05\",\r\n",
       "\t\"FL_NUM\" : 4768,\r\n",
       "\t\"ORIGIN_CITY_NAME\" : \"South Bend, IN\",\r\n",
       "\t\"DEST_CITY_NAME\" : \"Detroit, MI\",\r\n",
       "\t\"DEST_STATE_ABR\" : \"MI\",\r\n",
       "\t\"DEST_STATE_NM\" : \"Michigan\",\r\n",
       "\t\"DEP_TIME\" : 1927,\r\n",
       "\t\"ARR_TIME\" : 2021,\r\n",
       "\t\"CANCELLED\" : 0,\r\n",
       "\t\"DIVERTED\" : 0,\r\n",
       "\t\"ACTUAL_ELAPSED_TIME\" : 54,\r\n",
       "\t\"AIR_TIME\" : 31\r\n",
       "}\r\n",
       "{\r\n",
       "\t\"FL_DATE\" : \"2017-06-05\",\r\n",
       "\t\"FL_NUM\" : 4769,\r\n",
       "\t\"ORIGIN_CITY_NAME\" : \"La Crosse, WI\",\r\n",
       "\t\"DEST_CITY_NAME\" : \"Minneapolis, MN\",\r\n",
       "\t\"DEST_STATE_ABR\" : \"MN\",\r\n",
       "\t\"DEST_STATE_NM\" : \"Minnesota\",\r\n",
       "\t\"DEP_TIME\" : 1122,\r\n",
       "\t\"ARR_TIME\" : 1214,\r\n",
       "\t\"CANCELLED\" : 0,\r\n",
       "\t\"DIVERTED\" : 0,\r\n",
       "\t\"ACTUAL_ELAPSED_TIME\" : 52,\r\n",
       "\t\"AIR_TIME\" : 31\r\n",
       "}\r\n",
       "{\r\n",
       "\t\"FL_DATE\" : \"2017-06-05\",\r\n",
       "\t\"FL_NUM\" : 4769,\r\n",
       "\t\"ORIGIN_CITY_NAME\" : \"Minneapolis, MN\",\r\n",
       "\t\"DEST_CITY_NAME\" : \"La Crosse, WI\",\r\n",
       "\t\"DEST_STATE_ABR\" : \"WI\",\r\n",
       "\t\"DEST_STATE_NM\" : \"Wisconsin\",\r\n",
       "\t\"DEP_TIME\" : 1000,\r\n",
       "\t\"ARR_TIME\" : 1101,\r\n",
       "\t\"CANCELLED\" : 0,\r\n",
       "\t\"DIVERTED\" : 0,\r\n",
       "\t\"ACTUAL_ELAPSED_TIME\" : 61,\r\n",
       "\t\"AIR_TIME\" : 26\r\n",
       "}\r\n",
       "{\r\n",
       "\t\"FL_DATE\" : \"2017-06-05\",\r\n",
       "\t\"FL_NUM\" : 4770,\r\n",
       "\t\"ORIGIN_CITY_NAME\" : \"Des Moines, IA\",\r\n",
       "\t\"DEST_CITY_NAME\" : \"Salt Lake City, UT\",\r\n",
       "\t\"DEST_STATE_ABR\" : \"UT\",\r\n",
       "\t\"DEST_STATE_NM\" : \"Utah\",\r\n",
       "\t\"DEP_TIME\" : 1739,\r\n",
       "\t\"ARR_TIME\" : 1910,\r\n",
       "\t\"CANCELLED\" : 0,\r\n",
       "\t\"DIVERTED\" : 0,\r\n",
       "\t\"ACTUAL_ELAPSED_TIME\" : 151,\r\n",
       "\t\"AIR_TIME\" : 133\r\n",
       "}\r\n",
       "{\r\n",
       "\t\"FL_DATE\" : \"2017-06-05\",\r\n",
       "\t\"FL_NUM\" : 4773,\r\n",
       "\t\"ORIGIN_CITY_NAME\" : \"Pasco/Kennewick/Richland, WA\",\r\n",
       "\t\"DEST_CITY_NAME\" : \"Salt Lake City, UT\",\r\n",
       "\t\"DEST_STATE_ABR\" : \"UT\",\r\n",
       "\t\"DEST_STATE_NM\" : \"Utah\",\r\n",
       "\t\"DEP_TIME\" : 1626,\r\n",
       "\t\"ARR_TIME\" : 1857,\r\n",
       "\t\"CANCELLED\" : 0,\r\n",
       "\t\"DIVERTED\" : 0,\r\n",
       "\t\"ACTUAL_ELAPSED_TIME\" : 91,\r\n",
       "\t\"AIR_TIME\" : 75\r\n",
       "}\r\n",
       "{\r\n",
       "\t\"FL_DATE\" : \"2017-06-05\",\r\n",
       "\t\"FL_NUM\" : 4773,\r\n",
       "\t\"ORIGIN_CITY_NAME\" : \"Salt Lake City, UT\",\r\n",
       "\t\"DEST_CITY_NAME\" : \"Pasco/Kennewick/Richland, WA\",\r\n",
       "\t\"DEST_STATE_ABR\" : \"WA\",\r\n",
       "\t\"DEST_STATE_NM\" : \"Washington\",\r\n",
       "\t\"DEP_TIME\" : 1520,\r\n",
       "\t\"ARR_TIME\" : 1553,\r\n",
       "\t\"CANCELLED\" : 0,\r\n",
       "\t\"DIVERTED\" : 0,\r\n",
       "\t\"ACTUAL_ELAPSED_TIME\" : 93,\r\n",
       "\t\"AIR_TIME\" : 73\r\n",
       "}\r\n",
       "{\r\n",
       "\t\"FL_DATE\" : \"2017-06-05\",\r\n",
       "\t\"FL_NUM\" : 4774,\r\n",
       "\t\"ORIGIN_CITY_NAME\" : \"Pasco/Kennewick/Richland, WA\",\r\n",
       "\t\"DEST_CITY_NAME\" : \"Salt Lake City, UT\",\r\n",
       "\t\"DEST_STATE_ABR\" : \"UT\",\r\n",
       "\t\"DEST_STATE_NM\" : \"Utah\",\r\n",
       "\t\"DEP_TIME\" : 1218,\r\n",
       "\t\"ARR_TIME\" : 1452,\r\n",
       "\t\"CANCELLED\" : 0,\r\n",
       "\t\"DIVERTED\" : 0,\r\n",
       "\t\"ACTUAL_ELAPSED_TIME\" : 94,\r\n",
       "\t\"AIR_TIME\" : 74\r\n",
       "}\r\n",
       "{\r\n",
       "\t\"FL_DATE\" : \"2017-06-05\",\r\n",
       "\t\"FL_NUM\" : 4774,\r\n",
       "\t\"ORIGIN_CITY_NAME\" : \"Salt Lake City, UT\",\r\n",
       "\t\"DEST_CITY_NAME\" : \"Pasco/Kennewick/Richland, WA\",\r\n",
       "\t\"DEST_STATE_ABR\" : \"WA\",\r\n",
       "\t\"DEST_STATE_NM\" : \"Washington\",\r\n",
       "\t\"DEP_TIME\" : 1102,\r\n",
       "\t\"ARR_TIME\" : 1141,\r\n",
       "\t\"CANCELLED\" : 0,\r\n",
       "\t\"DIVERTED\" : 0,\r\n",
       "\t\"ACTUAL_ELAPSED_TIME\" : 99,\r\n",
       "\t\"AIR_TIME\" : 73\r\n",
       "}\r\n",
       "{\r\n",
       "\t\"FL_DATE\" : \"2017-06-05\",\r\n",
       "\t\"FL_NUM\" : 4775,\r\n",
       "\t\"ORIGIN_CITY_NAME\" : \"Kalispell, MT\",\r\n",
       "\t\"DEST_CITY_NAME\" : \"Salt Lake City, UT\",\r\n",
       "\t\"DEST_STATE_ABR\" : \"UT\",\r\n",
       "\t\"DEST_STATE_NM\" : \"Utah\",\r\n",
       "\t\"DEP_TIME\" : 1746,\r\n",
       "\t\"ARR_TIME\" : 1925,\r\n",
       "\t\"CANCELLED\" : 0,\r\n",
       "\t\"DIVERTED\" : 0,\r\n",
       "\t\"ACTUAL_ELAPSED_TIME\" : 99,\r\n",
       "\t\"AIR_TIME\" : 83\r\n",
       "}\r\n",
       "{\r\n",
       "\t\"FL_DATE\" : \"2017-06-05\",\r\n",
       "\t\"FL_NUM\" : 4775,\r\n",
       "\t\"ORIGIN_CITY_NAME\" : \"Salt Lake City, UT\",\r\n",
       "\t\"DEST_CITY_NAME\" : \"Kalispell, MT\",\r\n",
       "\t\"DEST_STATE_ABR\" : \"MT\",\r\n",
       "\t\"DEST_STATE_NM\" : \"Montana\",\r\n",
       "\t\"DEP_TIME\" : 1514,\r\n",
       "\t\"ARR_TIME\" : 1657,\r\n",
       "\t\"CANCELLED\" : 0,\r\n",
       "\t\"DIVERTED\" : 0,\r\n",
       "\t\"ACTUAL_ELAPSED_TIME\" : 103,\r\n",
       "\t\"AIR_TIME\" : 76\r\n",
       "}"
      ]
     },
     "execution_count": 4,
     "metadata": {},
     "output_type": "execute_result"
    }
   ],
   "source": [
    "db.flightstats.find(\n",
    "    {},\n",
    "    {_id : 0,\n",
    "        \"FL_DATE\" : 1, \"FL_NUM\" : 1, \"ORIGIN_CITY_NAME\" : 1, \n",
    "        \"DEST_CITY_NAME\" : 1, \"DEST_STATE_ABR\" : 1, \"DEST_STATE_NM\" : 1, \n",
    "        \"DEP_TIME\" : 1, \"ARR_TIME\" : 1, \"CANCELLED\" : 1, \n",
    "        \"DIVERTED\" : 1, \"ACTUAL_ELAPSED_TIME\" : 1, \"AIR_TIME\" : 1\n",
    "    }).limit(10).pretty();"
   ]
  },
  {
   "cell_type": "markdown",
   "metadata": {},
   "source": [
    "** How many records in June **"
   ]
  },
  {
   "cell_type": "code",
   "execution_count": 5,
   "metadata": {},
   "outputs": [
    {
     "data": {
      "text/html": [
       "<style>a.disclosure:link{text-decoration:none;}a.disclosure:visited{text-decoration:none;}.disclosure{color:#337AB7;font-size:150%;}.syntax{color:grey;}.string{color:#9A334F;}.number{color:#5C9632;}.boolean{color:#AA9739;}.key{color:#403075;}.keyword{color:#AA9739;}.object.syntax{color:#337AB7;}.array.syntax{color:#337AB7;}></style><div id=\"b2cff84b-b742-46d8-908b-3ed4a1a2a063\"></div>"
      ]
     },
     "metadata": {},
     "output_type": "display_data"
    },
    {
     "data": {
      "application/javascript": [
       "require([\"https://rawgit.com/caldwell/renderjson/master/renderjson.js\"], function() {document.getElementById('b2cff84b-b742-46d8-908b-3ed4a1a2a063').appendChild(renderjson.set_show_to_level(2)(494266))});"
      ]
     },
     "metadata": {},
     "output_type": "display_data"
    },
    {
     "data": {
      "text/plain": [
       "494266"
      ]
     },
     "execution_count": 5,
     "metadata": {},
     "output_type": "execute_result"
    }
   ],
   "source": [
    "db.flightstats.find(\n",
    "    {\n",
    "        \"MONTH\": {$eq: 6}\n",
    "    }).count()"
   ]
  },
  {
   "cell_type": "markdown",
   "metadata": {},
   "source": [
    "** How many flights are recorded on the 15th of the month **\n",
    "_ (note that a set of items are in \\[ & \\] ) _"
   ]
  },
  {
   "cell_type": "code",
   "execution_count": 6,
   "metadata": {},
   "outputs": [
    {
     "data": {
      "text/html": [
       "<style>a.disclosure:link{text-decoration:none;}a.disclosure:visited{text-decoration:none;}.disclosure{color:#337AB7;font-size:150%;}.syntax{color:grey;}.string{color:#9A334F;}.number{color:#5C9632;}.boolean{color:#AA9739;}.key{color:#403075;}.keyword{color:#AA9739;}.object.syntax{color:#337AB7;}.array.syntax{color:#337AB7;}></style><div id=\"4858550c-9325-49bb-984f-c542f4d35424\"></div>"
      ]
     },
     "metadata": {},
     "output_type": "display_data"
    },
    {
     "data": {
      "application/javascript": [
       "require([\"https://rawgit.com/caldwell/renderjson/master/renderjson.js\"], function() {document.getElementById('4858550c-9325-49bb-984f-c542f4d35424').appendChild(renderjson.set_show_to_level(2)(17061))});"
      ]
     },
     "metadata": {},
     "output_type": "display_data"
    },
    {
     "data": {
      "text/plain": [
       "17061"
      ]
     },
     "execution_count": 6,
     "metadata": {},
     "output_type": "execute_result"
    }
   ],
   "source": [
    "db.flightstats.find(\n",
    "    { \n",
    "        $and: [\n",
    "            {\"MONTH\": {$eq: 6}}, \n",
    "            {\"DAY_OF_MONTH\": \n",
    "            {$eq: 15}}\n",
    "        ]\n",
    "    }).count()"
   ]
  },
  {
   "cell_type": "markdown",
   "metadata": {},
   "source": [
    "** How many were going to Ohio? **"
   ]
  },
  {
   "cell_type": "code",
   "execution_count": 7,
   "metadata": {},
   "outputs": [
    {
     "data": {
      "text/html": [
       "<style>a.disclosure:link{text-decoration:none;}a.disclosure:visited{text-decoration:none;}.disclosure{color:#337AB7;font-size:150%;}.syntax{color:grey;}.string{color:#9A334F;}.number{color:#5C9632;}.boolean{color:#AA9739;}.key{color:#403075;}.keyword{color:#AA9739;}.object.syntax{color:#337AB7;}.array.syntax{color:#337AB7;}></style><div id=\"3c224682-3fec-45bc-b87b-bf78926c416c\"></div>"
      ]
     },
     "metadata": {},
     "output_type": "display_data"
    },
    {
     "data": {
      "application/javascript": [
       "require([\"https://rawgit.com/caldwell/renderjson/master/renderjson.js\"], function() {document.getElementById('3c224682-3fec-45bc-b87b-bf78926c416c').appendChild(renderjson.set_show_to_level(2)(219))});"
      ]
     },
     "metadata": {},
     "output_type": "display_data"
    },
    {
     "data": {
      "text/plain": [
       "219"
      ]
     },
     "execution_count": 7,
     "metadata": {},
     "output_type": "execute_result"
    }
   ],
   "source": [
    "db.flightstats.find(\n",
    "    { \n",
    "        $and: [\n",
    "            {\"DEST_STATE_ABR\": {$eq: \"OH\"}},\n",
    "            {\"MONTH\": {$eq: 6}}, \n",
    "            {\"DAY_OF_MONTH\": {$eq: 15}}\n",
    "        ]}\n",
    "    ).count()"
   ]
  },
  {
   "cell_type": "markdown",
   "metadata": {},
   "source": [
    "** How many of those were early? **"
   ]
  },
  {
   "cell_type": "code",
   "execution_count": 8,
   "metadata": {},
   "outputs": [
    {
     "data": {
      "text/html": [
       "<style>a.disclosure:link{text-decoration:none;}a.disclosure:visited{text-decoration:none;}.disclosure{color:#337AB7;font-size:150%;}.syntax{color:grey;}.string{color:#9A334F;}.number{color:#5C9632;}.boolean{color:#AA9739;}.key{color:#403075;}.keyword{color:#AA9739;}.object.syntax{color:#337AB7;}.array.syntax{color:#337AB7;}></style><div id=\"328c726e-7ccd-408b-bca3-c3617083afba\"></div>"
      ]
     },
     "metadata": {},
     "output_type": "display_data"
    },
    {
     "data": {
      "application/javascript": [
       "require([\"https://rawgit.com/caldwell/renderjson/master/renderjson.js\"], function() {document.getElementById('328c726e-7ccd-408b-bca3-c3617083afba').appendChild(renderjson.set_show_to_level(2)(95))});"
      ]
     },
     "metadata": {},
     "output_type": "display_data"
    },
    {
     "data": {
      "text/plain": [
       "95"
      ]
     },
     "execution_count": 8,
     "metadata": {},
     "output_type": "execute_result"
    }
   ],
   "source": [
    "db.flightstats.find({ \n",
    "    $and: [\n",
    "        {\"DEST_STATE_ABR\": {$eq: \"OH\"}},\n",
    "        {\"MONTH\": {$eq: 6}}, \n",
    "        {\"DAY_OF_MONTH\": {$eq: 15}},\n",
    "        {\"ARR_DELAY\": {$lt: 0}}\n",
    "    ]}\n",
    ").count()"
   ]
  },
  {
   "cell_type": "markdown",
   "metadata": {},
   "source": [
    "** Now let's look at those records **"
   ]
  },
  {
   "cell_type": "code",
   "execution_count": 9,
   "metadata": {},
   "outputs": [
    {
     "data": {},
     "metadata": {},
     "output_type": "display_data"
    },
    {
     "data": {},
     "metadata": {},
     "output_type": "display_data"
    },
    {
     "data": {
      "text/plain": [
       "Flight 1913, on 2017-06-15 from Los Angeles, CA to Cleveland, OH was 33 minutes early\r\n",
       "Flight 3954, on 2017-06-15 from New York, NY to Cleveland, OH was 32 minutes early\r\n",
       "Flight 122, on 2017-06-15 from Myrtle Beach, SC to Akron, OH was 26 minutes early\r\n",
       "Flight 1422, on 2017-06-15 from Portland, OR to Cleveland, OH was 26 minutes early\r\n",
       "Flight 365, on 2017-06-15 from Denver, CO to Cleveland, OH was 26 minutes early\r\n",
       "Flight 5180, on 2017-06-15 from New York, NY to Cleveland, OH was 26 minutes early\r\n",
       "Flight 5259, on 2017-06-15 from Minneapolis, MN to Cleveland, OH was 26 minutes early\r\n",
       "Flight 578, on 2017-06-15 from New Orleans, LA to Cleveland, OH was 25 minutes early\r\n",
       "Flight 5914, on 2017-06-15 from Chicago, IL to Dayton, OH was 24 minutes early\r\n",
       "Flight 4336, on 2017-06-15 from Boston, MA to Cleveland, OH was 24 minutes early\r\n",
       "Flight 1367, on 2017-06-15 from Atlanta, GA to Cleveland, OH was 23 minutes early\r\n",
       "Flight 4904, on 2017-06-15 from Minneapolis, MN to Dayton, OH was 22 minutes early\r\n",
       "Flight 4004, on 2017-06-15 from Washington, DC to Cleveland, OH was 22 minutes early\r\n",
       "Flight 4136, on 2017-06-15 from Newark, NJ to Columbus, OH was 22 minutes early\r\n",
       "Flight 4678, on 2017-06-15 from Minneapolis, MN to Dayton, OH was 21 minutes early\r\n",
       "Flight 4831, on 2017-06-15 from Detroit, MI to Dayton, OH was 21 minutes early\r\n",
       "Flight 1388, on 2017-06-15 from Fort Myers, FL to Cleveland, OH was 21 minutes early\r\n",
       "Flight 1739, on 2017-06-15 from Orlando, FL to Cleveland, OH was 21 minutes early\r\n",
       "Flight 1753, on 2017-06-15 from Newark, NJ to Cleveland, OH was 21 minutes early\r\n",
       "Flight 4295, on 2017-06-15 from Houston, TX to Columbus, OH was 21 minutes early\r\n",
       "Flight 5470, on 2017-06-15 from New York, NY to Cleveland, OH was 20 minutes early\r\n",
       "Flight 4091, on 2017-06-15 from Newark, NJ to Akron, OH was 19 minutes early\r\n",
       "Flight 5512, on 2017-06-15 from New York, NY to Cleveland, OH was 19 minutes early\r\n",
       "Flight 2423, on 2017-06-15 from Minneapolis, MN to Cleveland, OH was 18 minutes early\r\n",
       "Flight 334, on 2017-06-15 from Denver, CO to Columbus, OH was 18 minutes early\r\n",
       "Flight 1064, on 2017-06-15 from Orlando, FL to Cleveland, OH was 17 minutes early\r\n",
       "Flight 1112, on 2017-06-15 from Las Vegas, NV to Cleveland, OH was 17 minutes early\r\n",
       "Flight 1276, on 2017-06-15 from Atlanta, GA to Columbus, OH was 17 minutes early\r\n",
       "Flight 4158, on 2017-06-15 from Boston, MA to Cleveland, OH was 17 minutes early\r\n",
       "Flight 2239, on 2017-06-15 from Dallas/Fort Worth, TX to Columbus, OH was 16 minutes early\r\n",
       "Flight 1614, on 2017-06-15 from Orlando, FL to Cleveland, OH was 16 minutes early\r\n",
       "Flight 1394, on 2017-06-15 from Tampa, FL to Cleveland, OH was 16 minutes early\r\n",
       "Flight 441, on 2017-06-15 from Boston, MA to Cleveland, OH was 16 minutes early\r\n",
       "Flight 988, on 2017-06-15 from Orlando, FL to Columbus, OH was 16 minutes early\r\n",
       "Flight 360, on 2017-06-15 from Chicago, IL to Columbus, OH was 16 minutes early\r\n",
       "Flight 1190, on 2017-06-15 from Atlanta, GA to Akron, OH was 15 minutes early\r\n",
       "Flight 1474, on 2017-06-15 from Atlanta, GA to Cleveland, OH was 15 minutes early\r\n",
       "Flight 4269, on 2017-06-15 from Washington, DC to Cleveland, OH was 15 minutes early\r\n",
       "Flight 508, on 2017-06-15 from Los Angeles, CA to Columbus, OH was 14 minutes early\r\n",
       "Flight 1158, on 2017-06-15 from Atlanta, GA to Cleveland, OH was 14 minutes early\r\n",
       "Flight 568, on 2017-06-15 from Baltimore, MD to Cleveland, OH was 14 minutes early\r\n",
       "Flight 702, on 2017-06-15 from Chicago, IL to Cleveland, OH was 13 minutes early\r\n",
       "Flight 5595, on 2017-06-15 from Raleigh/Durham, NC to Cleveland, OH was 13 minutes early\r\n",
       "Flight 1068, on 2017-06-15 from Las Vegas, NV to Cleveland, OH was 12 minutes early\r\n",
       "Flight 1117, on 2017-06-15 from Fort Myers, FL to Cleveland, OH was 12 minutes early\r\n",
       "Flight 1292, on 2017-06-15 from Atlanta, GA to Akron, OH was 12 minutes early\r\n",
       "Flight 976, on 2017-06-15 from Chicago, IL to Cleveland, OH was 12 minutes early\r\n",
       "Flight 948, on 2017-06-15 from Phoenix, AZ to Columbus, OH was 12 minutes early\r\n",
       "Flight 386, on 2017-06-15 from Orlando, FL to Akron, OH was 11 minutes early\r\n",
       "Flight 226, on 2017-06-15 from Denver, CO to Columbus, OH was 11 minutes early\r\n",
       "Flight 1364, on 2017-06-15 from Minneapolis, MN to Cleveland, OH was 11 minutes early\r\n",
       "Flight 672, on 2017-06-15 from Chicago, IL to Cleveland, OH was 11 minutes early\r\n",
       "Flight 364, on 2017-06-15 from Tampa, FL to Columbus, OH was 11 minutes early\r\n",
       "Flight 4474, on 2017-06-15 from Minneapolis, MN to Cleveland, OH was 10 minutes early\r\n",
       "Flight 5942, on 2017-06-15 from Chicago, IL to Akron, OH was 10 minutes early\r\n",
       "Flight 3815, on 2017-06-15 from Newark, NJ to Columbus, OH was 10 minutes early\r\n",
       "Flight 2008, on 2017-06-15 from St. Louis, MO to Cleveland, OH was 10 minutes early\r\n",
       "Flight 5602, on 2017-06-15 from Chicago, IL to Columbus, OH was 9 minutes early\r\n",
       "Flight 1830, on 2017-06-15 from Charlotte, NC to Cleveland, OH was 9 minutes early\r\n",
       "Flight 524, on 2017-06-15 from Denver, CO to Cleveland, OH was 9 minutes early\r\n",
       "Flight 670, on 2017-06-15 from Minneapolis, MN to Columbus, OH was 9 minutes early\r\n",
       "Flight 1786, on 2017-06-15 from Los Angeles, CA to Cleveland, OH was 9 minutes early\r\n",
       "Flight 3967, on 2017-06-15 from Milwaukee, WI to Cleveland, OH was 9 minutes early\r\n",
       "Flight 3263, on 2017-06-15 from Boston, MA to Columbus, OH was 9 minutes early\r\n",
       "Flight 234, on 2017-06-15 from Myrtle Beach, SC to Cleveland, OH was 8 minutes early\r\n",
       "Flight 1862, on 2017-06-15 from Phoenix, AZ to Cleveland, OH was 8 minutes early\r\n",
       "Flight 1533, on 2017-06-15 from Chicago, IL to Cleveland, OH was 8 minutes early\r\n",
       "Flight 644, on 2017-06-15 from Denver, CO to Cleveland, OH was 8 minutes early\r\n",
       "Flight 5386, on 2017-06-15 from Chicago, IL to Dayton, OH was 7 minutes early\r\n",
       "Flight 5420, on 2017-06-15 from Chicago, IL to Cleveland, OH was 7 minutes early\r\n",
       "Flight 242, on 2017-06-15 from Atlanta, GA to Cleveland, OH was 7 minutes early\r\n",
       "Flight 1695, on 2017-06-15 from Atlanta, GA to Columbus, OH was 7 minutes early\r\n",
       "Flight 3977, on 2017-06-15 from Chicago, IL to Akron, OH was 7 minutes early\r\n",
       "Flight 2042, on 2017-06-15 from Orlando, FL to Columbus, OH was 7 minutes early\r\n",
       "Flight 1335, on 2017-06-15 from Chicago, IL to Columbus, OH was 7 minutes early\r\n",
       "Flight 256, on 2017-06-15 from Phoenix, AZ to Cleveland, OH was 7 minutes early\r\n",
       "Flight 910, on 2017-06-15 from Detroit, MI to Cleveland, OH was 6 minutes early\r\n",
       "Flight 1170, on 2017-06-15 from Los Angeles, CA to Columbus, OH was 6 minutes early\r\n",
       "Flight 5779, on 2017-06-15 from Chicago, IL to Akron, OH was 5 minutes early\r\n",
       "Flight 4302, on 2017-06-15 from New York, NY to Cleveland, OH was 5 minutes early\r\n",
       "Flight 159, on 2017-06-15 from Chicago, IL to Cleveland, OH was 5 minutes early\r\n",
       "Flight 5697, on 2017-06-15 from Chicago, IL to Dayton, OH was 4 minutes early\r\n",
       "Flight 1646, on 2017-06-15 from Atlanta, GA to Columbus, OH was 4 minutes early\r\n",
       "Flight 3210, on 2017-06-15 from Boston, MA to Columbus, OH was 4 minutes early\r\n",
       "Flight 4520, on 2017-06-15 from Detroit, MI to Columbus, OH was 3 minutes early\r\n",
       "Flight 4951, on 2017-06-15 from Detroit, MI to Cleveland, OH was 3 minutes early\r\n",
       "Flight 1193, on 2017-06-15 from Atlanta, GA to Columbus, OH was 3 minutes early\r\n",
       "Flight 419, on 2017-06-15 from Atlanta, GA to Cleveland, OH was 3 minutes early\r\n",
       "Flight 1897, on 2017-06-15 from Atlanta, GA to Columbus, OH was 2 minutes early\r\n",
       "Flight 164, on 2017-06-15 from Washington, DC to Columbus, OH was 2 minutes early\r\n",
       "Flight 1698, on 2017-06-15 from Denver, CO to Columbus, OH was 2 minutes early\r\n",
       "Flight 4527, on 2017-06-15 from Detroit, MI to Columbus, OH was 1 minutes early\r\n",
       "Flight 1521, on 2017-06-15 from Atlanta, GA to Dayton, OH was 1 minutes early\r\n",
       "Flight 1990, on 2017-06-15 from Chicago, IL to Cleveland, OH was 1 minutes early\r\n",
       "Flight 379, on 2017-06-15 from Nashville, TN to Cleveland, OH was 1 minutes early"
      ]
     },
     "execution_count": 9,
     "metadata": {},
     "output_type": "execute_result"
    }
   ],
   "source": [
    "db.flightstats.find(\n",
    "    { \n",
    "        $and: [\n",
    "            {\"DEST_STATE_ABR\": {$eq: \"OH\"}},\n",
    "            {\"MONTH\": {$eq: 6}}, \n",
    "            {\"DAY_OF_MONTH\": {$eq: 15}},\n",
    "            {\"ARR_DELAY\": {$lt: 0}}\n",
    "        ]}\n",
    "    ).sort({\"ARR_DELAY\": 1}).forEach( function(theFlight)  { \n",
    "            print( \"Flight \" + theFlight.FL_NUM + \", on \" + theFlight.FL_DATE + \" from \" +\n",
    "                theFlight.ORIGIN_CITY_NAME + \" to \" + theFlight.DEST_CITY_NAME + \" was \" +\n",
    "                (theFlight.ARR_DELAY * -1) + \" minutes early\"); \n",
    "    } )\n"
   ]
  },
  {
   "cell_type": "code",
   "execution_count": null,
   "metadata": {},
   "outputs": [],
   "source": []
  }
 ],
 "metadata": {
  "kernelspec": {
   "display_name": "IMongo",
   "language": "",
   "name": "imongo"
  },
  "language_info": {
   "codemirror_mode": "shell",
   "file_extension": ".js",
   "mimetype": "text/x-mongodb",
   "name": "javascript"
  }
 },
 "nbformat": 4,
 "nbformat_minor": 2
}

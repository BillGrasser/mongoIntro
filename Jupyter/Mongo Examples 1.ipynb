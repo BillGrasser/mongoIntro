{
 "cells": [
  {
   "cell_type": "markdown",
   "metadata": {},
   "source": [
    "# Mongo Examples Part 1\n",
    "### working with the Mongo Shell\n",
    "\n",
    "List the available databases -\n"
   ]
  },
  {
   "cell_type": "code",
   "execution_count": 1,
   "metadata": {},
   "outputs": [
    {
     "data": {},
     "metadata": {},
     "output_type": "display_data"
    },
    {
     "data": {},
     "metadata": {},
     "output_type": "display_data"
    },
    {
     "data": {
      "text/plain": [
       "admin    0.000GB\r\n",
       "courses  0.000GB\r\n",
       "flights  0.116GB\r\n",
       "local    0.000GB"
      ]
     },
     "execution_count": 1,
     "metadata": {},
     "output_type": "execute_result"
    }
   ],
   "source": [
    "show dbs"
   ]
  },
  {
   "cell_type": "markdown",
   "metadata": {},
   "source": [
    "** When we use a new database, it isn't created until we insert a collection/document - **\n"
   ]
  },
  {
   "cell_type": "code",
   "execution_count": 2,
   "metadata": {},
   "outputs": [
    {
     "data": {},
     "metadata": {},
     "output_type": "display_data"
    },
    {
     "data": {},
     "metadata": {},
     "output_type": "display_data"
    },
    {
     "data": {
      "text/plain": [
       "switched to db courses"
      ]
     },
     "execution_count": 2,
     "metadata": {},
     "output_type": "execute_result"
    }
   ],
   "source": [
    "use courses"
   ]
  },
  {
   "cell_type": "code",
   "execution_count": 3,
   "metadata": {},
   "outputs": [
    {
     "data": {},
     "metadata": {},
     "output_type": "display_data"
    },
    {
     "data": {},
     "metadata": {},
     "output_type": "display_data"
    },
    {
     "data": {
      "text/plain": [
       "admin    0.000GB\r\n",
       "courses  0.000GB\r\n",
       "flights  0.116GB\r\n",
       "local    0.000GB"
      ]
     },
     "execution_count": 3,
     "metadata": {},
     "output_type": "execute_result"
    }
   ],
   "source": [
    "show dbs"
   ]
  },
  {
   "cell_type": "markdown",
   "metadata": {},
   "source": [
    "**Now insert an empty document into the collection schedules**"
   ]
  },
  {
   "cell_type": "code",
   "execution_count": 4,
   "metadata": {},
   "outputs": [
    {
     "data": {},
     "metadata": {},
     "output_type": "display_data"
    },
    {
     "data": {},
     "metadata": {},
     "output_type": "display_data"
    },
    {
     "data": {
      "text/plain": [
       "WriteResult({ \"nInserted\" : 1 })"
      ]
     },
     "execution_count": 4,
     "metadata": {},
     "output_type": "execute_result"
    }
   ],
   "source": [
    "db.schedules.insert({})"
   ]
  },
  {
   "cell_type": "code",
   "execution_count": 5,
   "metadata": {},
   "outputs": [
    {
     "data": {},
     "metadata": {},
     "output_type": "display_data"
    },
    {
     "data": {},
     "metadata": {},
     "output_type": "display_data"
    },
    {
     "data": {
      "text/plain": [
       "admin    0.000GB\r\n",
       "courses  0.000GB\r\n",
       "flights  0.116GB\r\n",
       "local    0.000GB"
      ]
     },
     "execution_count": 5,
     "metadata": {},
     "output_type": "execute_result"
    }
   ],
   "source": [
    "show dbs"
   ]
  },
  {
   "cell_type": "markdown",
   "metadata": {},
   "source": [
    "**Insert a document from the notes**\n",
    "\n",
    "**start with**\n",
    "\n",
    ">db.schedules.insert()\n",
    "\n",
    "**and paste in the JSON document**\n"
   ]
  },
  {
   "cell_type": "code",
   "execution_count": 6,
   "metadata": {},
   "outputs": [
    {
     "data": {},
     "metadata": {},
     "output_type": "display_data"
    },
    {
     "data": {},
     "metadata": {},
     "output_type": "display_data"
    },
    {
     "data": {
      "text/plain": [
       "WriteResult({ \"nInserted\" : 1 })"
      ]
     },
     "execution_count": 6,
     "metadata": {},
     "output_type": "execute_result"
    }
   ],
   "source": [
    "db.schedules.insert({\"academicTerm\" : \"2013/2014\",\n",
    "\"events\" : [\n",
    " {\n",
    "      \"classPeriod\" : {\n",
    "           \"start\" : \"18/09/2013 17:30\",\n",
    "           \"end\" : \"18/09/2013 19:00\"\n",
    "      },\n",
    "      \"location\" : [\n",
    "           {\n",
    "                \"type\" : \"ROOM\",\n",
    "                \"name\" : \"F4\",\n",
    "                \"id\" : \"2448131363674\"\n",
    "           }\n",
    "      ],\n",
    "      \"title\" : \"Gestão : Problemas\",\n",
    "      \"course\" : {\n",
    "           \"acronym\" : \"Ges5\",\n",
    "           \"name\" : \"Gestão\",\n",
    "           \"academicTerm\" : \"1 Semestre 2013/2014\",\n",
    "           \"id\" : \"1610612925989\"\n",
    "      }\n",
    " },\n",
    " {\n",
    "      \"classPeriod\" : {\n",
    "           \"start\" : \"28/10/2013 14:30\",\n",
    "           \"end\" : \"28/10/2013 15:30\"\n",
    "      },\n",
    "      \"location\" : {\n",
    "           \"type\" : \"ROOM\",\n",
    "           \"name\" : \"QA02.4\",\n",
    "           \"id\" : \"2448131363664\",\n",
    "           \"topLevelSpace\" : {\n",
    "                \"type\" : \"CAMPUS\",\n",
    "                \"id\" : \"2448131360897\",\n",
    "                \"name\" : \"Alameda\"\n",
    "           }\n",
    "      }\n",
    " }\n",
    "]\n",
    "})"
   ]
  },
  {
   "cell_type": "code",
   "execution_count": 7,
   "metadata": {},
   "outputs": [
    {
     "data": {
      "text/html": [
       "<style>a.disclosure:link{text-decoration:none;}a.disclosure:visited{text-decoration:none;}.disclosure{color:#337AB7;font-size:150%;}.syntax{color:grey;}.string{color:#9A334F;}.number{color:#5C9632;}.boolean{color:#AA9739;}.key{color:#403075;}.keyword{color:#AA9739;}.object.syntax{color:#337AB7;}.array.syntax{color:#337AB7;}></style><div id=\"22a169ae-ae36-4ed8-bc42-959ff48cdf9d\"></div>"
      ]
     },
     "metadata": {},
     "output_type": "display_data"
    },
    {
     "data": {
      "application/javascript": [
       "require([\"https://rawgit.com/caldwell/renderjson/master/renderjson.js\"], function() {document.getElementById('22a169ae-ae36-4ed8-bc42-959ff48cdf9d').appendChild(renderjson.set_show_to_level(2)([{\"_id\": {\"$oid\": \"59ecfb00b6207ea20641f610\"}}, {\"_id\": {\"$oid\": \"59ee59509244e464bb7c3109\"}}, {\"_id\": {\"$oid\": \"59ee7658be15b16c71b408fb\"}}]))});"
      ]
     },
     "metadata": {},
     "output_type": "display_data"
    },
    {
     "data": {
      "text/plain": [
       "{ \"_id\" : ObjectId(\"59ecfb00b6207ea20641f610\") }\r\n",
       "{\r\n",
       "\t\"_id\" : ObjectId(\"59ecfb00b6207ea20641f611\"),\r\n",
       "\t\"academicTerm\" : \"2013/2014\",\r\n",
       "\t\"events\" : [\r\n",
       "\t\t{\r\n",
       "\t\t\t\"classPeriod\" : {\r\n",
       "\t\t\t\t\"start\" : \"18/09/2013 17:30\",\r\n",
       "\t\t\t\t\"end\" : \"18/09/2013 19:00\"\r\n",
       "\t\t\t},\r\n",
       "\t\t\t\"location\" : [\r\n",
       "\t\t\t\t{\r\n",
       "\t\t\t\t\t\"type\" : \"ROOM\",\r\n",
       "\t\t\t\t\t\"name\" : \"F4\",\r\n",
       "\t\t\t\t\t\"id\" : \"2448131363674\"\r\n",
       "\t\t\t\t}\r\n",
       "\t\t\t],\r\n",
       "\t\t\t\"title\" : \"Gestão : Problemas\",\r\n",
       "\t\t\t\"course\" : {\r\n",
       "\t\t\t\t\"acronym\" : \"Ges5\",\r\n",
       "\t\t\t\t\"name\" : \"Gestão\",\r\n",
       "\t\t\t\t\"academicTerm\" : \"1 Semestre 2013/2014\",\r\n",
       "\t\t\t\t\"id\" : \"1610612925989\"\r\n",
       "\t\t\t}\r\n",
       "\t\t},\r\n",
       "\t\t{\r\n",
       "\t\t\t\"classPeriod\" : {\r\n",
       "\t\t\t\t\"start\" : \"28/10/2013 14:30\",\r\n",
       "\t\t\t\t\"end\" : \"28/10/2013 15:30\"\r\n",
       "\t\t\t},\r\n",
       "\t\t\t\"location\" : {\r\n",
       "\t\t\t\t\"type\" : \"ROOM\",\r\n",
       "\t\t\t\t\"name\" : \"QA02.4\",\r\n",
       "\t\t\t\t\"id\" : \"2448131363664\",\r\n",
       "\t\t\t\t\"topLevelSpace\" : {\r\n",
       "\t\t\t\t\t\"type\" : \"CAMPUS\",\r\n",
       "\t\t\t\t\t\"id\" : \"2448131360897\",\r\n",
       "\t\t\t\t\t\"name\" : \"Alameda\"\r\n",
       "\t\t\t\t}\r\n",
       "\t\t\t}\r\n",
       "\t\t}\r\n",
       "\t]\r\n",
       "}\r\n",
       "{ \"_id\" : ObjectId(\"59ee59509244e464bb7c3109\") }\r\n",
       "{\r\n",
       "\t\"_id\" : ObjectId(\"59ee59509244e464bb7c310a\"),\r\n",
       "\t\"academicTerm\" : \"2013/2014\",\r\n",
       "\t\"events\" : [\r\n",
       "\t\t{\r\n",
       "\t\t\t\"classPeriod\" : {\r\n",
       "\t\t\t\t\"start\" : \"18/09/2013 17:30\",\r\n",
       "\t\t\t\t\"end\" : \"18/09/2013 19:00\"\r\n",
       "\t\t\t},\r\n",
       "\t\t\t\"location\" : [\r\n",
       "\t\t\t\t{\r\n",
       "\t\t\t\t\t\"type\" : \"ROOM\",\r\n",
       "\t\t\t\t\t\"name\" : \"F4\",\r\n",
       "\t\t\t\t\t\"id\" : \"2448131363674\"\r\n",
       "\t\t\t\t}\r\n",
       "\t\t\t],\r\n",
       "\t\t\t\"title\" : \"Gestão : Problemas\",\r\n",
       "\t\t\t\"course\" : {\r\n",
       "\t\t\t\t\"acronym\" : \"Ges5\",\r\n",
       "\t\t\t\t\"name\" : \"Gestão\",\r\n",
       "\t\t\t\t\"academicTerm\" : \"1 Semestre 2013/2014\",\r\n",
       "\t\t\t\t\"id\" : \"1610612925989\"\r\n",
       "\t\t\t}\r\n",
       "\t\t},\r\n",
       "\t\t{\r\n",
       "\t\t\t\"classPeriod\" : {\r\n",
       "\t\t\t\t\"start\" : \"28/10/2013 14:30\",\r\n",
       "\t\t\t\t\"end\" : \"28/10/2013 15:30\"\r\n",
       "\t\t\t},\r\n",
       "\t\t\t\"location\" : {\r\n",
       "\t\t\t\t\"type\" : \"ROOM\",\r\n",
       "\t\t\t\t\"name\" : \"QA02.4\",\r\n",
       "\t\t\t\t\"id\" : \"2448131363664\",\r\n",
       "\t\t\t\t\"topLevelSpace\" : {\r\n",
       "\t\t\t\t\t\"type\" : \"CAMPUS\",\r\n",
       "\t\t\t\t\t\"id\" : \"2448131360897\",\r\n",
       "\t\t\t\t\t\"name\" : \"Alameda\"\r\n",
       "\t\t\t\t}\r\n",
       "\t\t\t}\r\n",
       "\t\t}\r\n",
       "\t]\r\n",
       "}\r\n",
       "{ \"_id\" : ObjectId(\"59ee7658be15b16c71b408fb\") }\r\n",
       "{\r\n",
       "\t\"_id\" : ObjectId(\"59ee7658be15b16c71b408fc\"),\r\n",
       "\t\"academicTerm\" : \"2013/2014\",\r\n",
       "\t\"events\" : [\r\n",
       "\t\t{\r\n",
       "\t\t\t\"classPeriod\" : {\r\n",
       "\t\t\t\t\"start\" : \"18/09/2013 17:30\",\r\n",
       "\t\t\t\t\"end\" : \"18/09/2013 19:00\"\r\n",
       "\t\t\t},\r\n",
       "\t\t\t\"location\" : [\r\n",
       "\t\t\t\t{\r\n",
       "\t\t\t\t\t\"type\" : \"ROOM\",\r\n",
       "\t\t\t\t\t\"name\" : \"F4\",\r\n",
       "\t\t\t\t\t\"id\" : \"2448131363674\"\r\n",
       "\t\t\t\t}\r\n",
       "\t\t\t],\r\n",
       "\t\t\t\"title\" : \"Gestão : Problemas\",\r\n",
       "\t\t\t\"course\" : {\r\n",
       "\t\t\t\t\"acronym\" : \"Ges5\",\r\n",
       "\t\t\t\t\"name\" : \"Gestão\",\r\n",
       "\t\t\t\t\"academicTerm\" : \"1 Semestre 2013/2014\",\r\n",
       "\t\t\t\t\"id\" : \"1610612925989\"\r\n",
       "\t\t\t}\r\n",
       "\t\t},\r\n",
       "\t\t{\r\n",
       "\t\t\t\"classPeriod\" : {\r\n",
       "\t\t\t\t\"start\" : \"28/10/2013 14:30\",\r\n",
       "\t\t\t\t\"end\" : \"28/10/2013 15:30\"\r\n",
       "\t\t\t},\r\n",
       "\t\t\t\"location\" : {\r\n",
       "\t\t\t\t\"type\" : \"ROOM\",\r\n",
       "\t\t\t\t\"name\" : \"QA02.4\",\r\n",
       "\t\t\t\t\"id\" : \"2448131363664\",\r\n",
       "\t\t\t\t\"topLevelSpace\" : {\r\n",
       "\t\t\t\t\t\"type\" : \"CAMPUS\",\r\n",
       "\t\t\t\t\t\"id\" : \"2448131360897\",\r\n",
       "\t\t\t\t\t\"name\" : \"Alameda\"\r\n",
       "\t\t\t\t}\r\n",
       "\t\t\t}\r\n",
       "\t\t}\r\n",
       "\t]\r\n",
       "}"
      ]
     },
     "execution_count": 7,
     "metadata": {},
     "output_type": "execute_result"
    }
   ],
   "source": [
    "db.schedules.find({}).pretty()"
   ]
  }
 ],
 "metadata": {
  "kernelspec": {
   "display_name": "IMongo",
   "language": "",
   "name": "imongo"
  },
  "language_info": {
   "codemirror_mode": "shell",
   "file_extension": ".js",
   "mimetype": "text/x-mongodb",
   "name": "javascript"
  }
 },
 "nbformat": 4,
 "nbformat_minor": 2
}

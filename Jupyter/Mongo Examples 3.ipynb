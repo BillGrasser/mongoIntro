{
 "cells": [
  {
   "cell_type": "markdown",
   "metadata": {},
   "source": [
    "# Mongo Examples Part 3\n",
    "### aggregation pipeline\n",
    "\n"
   ]
  },
  {
   "cell_type": "code",
   "execution_count": 1,
   "metadata": {},
   "outputs": [
    {
     "data": {},
     "metadata": {},
     "output_type": "display_data"
    },
    {
     "data": {},
     "metadata": {},
     "output_type": "display_data"
    },
    {
     "data": {
      "text/plain": [
       "switched to db flights"
      ]
     },
     "execution_count": 1,
     "metadata": {},
     "output_type": "execute_result"
    }
   ],
   "source": [
    "use flights"
   ]
  },
  {
   "cell_type": "markdown",
   "metadata": {},
   "source": [
    "** Start with one pipeline operator **"
   ]
  },
  {
   "cell_type": "code",
   "execution_count": 2,
   "metadata": {},
   "outputs": [
    {
     "data": {
      "text/html": [
       "<style>a.disclosure:link{text-decoration:none;}a.disclosure:visited{text-decoration:none;}.disclosure{color:#337AB7;font-size:150%;}.syntax{color:grey;}.string{color:#9A334F;}.number{color:#5C9632;}.boolean{color:#AA9739;}.key{color:#403075;}.keyword{color:#AA9739;}.object.syntax{color:#337AB7;}.array.syntax{color:#337AB7;}></style><div id=\"1de88046-7217-4410-9f43-0cc96d3a33db\"></div>"
      ]
     },
     "metadata": {},
     "output_type": "display_data"
    },
    {
     "data": {
      "application/javascript": [
       "require([\"https://rawgit.com/caldwell/renderjson/master/renderjson.js\"], function() {document.getElementById('1de88046-7217-4410-9f43-0cc96d3a33db').appendChild(renderjson.set_show_to_level(2)([{\"_id\": {\"$oid\": \"59e9449772df5c7b88ae4126\"}, \"YEAR\": 2017, \"MONTH\": 6, \"DAY_OF_MONTH\": 15, \"FL_DATE\": \"2017-06-15\", \"AIRLINE_ID\": 20304, \"CARRIER\": \"OO\", \"FL_NUM\": 2880, \"ORIGIN_AIRPORT_ID\": 13485, \"ORIGIN_AIRPORT_SEQ_ID\": 1348502, \"ORIGIN_CITY_MARKET_ID\": 33485, \"ORIGIN\": \"MSN\", \"ORIGIN_CITY_NAME\": \"Madison, WI\", \"ORIGIN_STATE_ABR\": \"WI\", \"ORIGIN_STATE_NM\": \"Wisconsin\", \"DEST_AIRPORT_ID\": 13930, \"DEST_AIRPORT_SEQ_ID\": 1393004, \"DEST_CITY_MARKET_ID\": 30977, \"DEST\": \"ORD\", \"DEST_CITY_NAME\": \"Chicago, IL\", \"DEST_STATE_ABR\": \"IL\", \"DEST_STATE_NM\": \"Illinois\", \"DEP_TIME\": 1808, \"DEP_DELAY\": -4, \"DEP_DELAY_NEW\": 0, \"WHEELS_OFF\": 1819, \"WHEELS_ON\": 1848, \"CRS_ARR_TIME\": 1909, \"ARR_TIME\": 1916, \"ARR_DELAY\": 7, \"ARR_DELAY_NEW\": 7, \"CANCELLED\": 0, \"CANCELLATION_CODE\": \"\", \"DIVERTED\": 0, \"ACTUAL_ELAPSED_TIME\": 68, \"AIR_TIME\": 29, \"DISTANCE\": 108, \"CARRIER_DELAY\": \"\", \"WEATHER_DELAY\": \"\", \"NAS_DELAY\": \"\", \"SECURITY_DELAY\": \"\", \"LATE_AIRCRAFT_DELAY\": \"\", \"\": \"\"}, {\"_id\": {\"$oid\": \"59e9449772df5c7b88ae4127\"}, \"YEAR\": 2017, \"MONTH\": 6, \"DAY_OF_MONTH\": 15, \"FL_DATE\": \"2017-06-15\", \"AIRLINE_ID\": 20304, \"CARRIER\": \"OO\", \"FL_NUM\": 2880, \"ORIGIN_AIRPORT_ID\": 13930, \"ORIGIN_AIRPORT_SEQ_ID\": 1393004, \"ORIGIN_CITY_MARKET_ID\": 30977, \"ORIGIN\": \"ORD\", \"ORIGIN_CITY_NAME\": \"Chicago, IL\", \"ORIGIN_STATE_ABR\": \"IL\", \"ORIGIN_STATE_NM\": \"Illinois\", \"DEST_AIRPORT_ID\": 13485, \"DEST_AIRPORT_SEQ_ID\": 1348502, \"DEST_CITY_MARKET_ID\": 33485, \"DEST\": \"MSN\", \"DEST_CITY_NAME\": \"Madison, WI\", \"DEST_STATE_ABR\": \"WI\", \"DEST_STATE_NM\": \"Wisconsin\", \"DEP_TIME\": 1648, \"DEP_DELAY\": -2, \"DEP_DELAY_NEW\": 0, \"WHEELS_OFF\": 1701, \"WHEELS_ON\": 1731, \"CRS_ARR_TIME\": 1747, \"ARR_TIME\": 1747, \"ARR_DELAY\": 0, \"ARR_DELAY_NEW\": 0, \"CANCELLED\": 0, \"CANCELLATION_CODE\": \"\", \"DIVERTED\": 0, \"ACTUAL_ELAPSED_TIME\": 59, \"AIR_TIME\": 30, \"DISTANCE\": 108, \"CARRIER_DELAY\": \"\", \"WEATHER_DELAY\": \"\", \"NAS_DELAY\": \"\", \"SECURITY_DELAY\": \"\", \"LATE_AIRCRAFT_DELAY\": \"\", \"\": \"\"}, {\"_id\": {\"$oid\": \"59e9449772df5c7b88ae4128\"}, \"YEAR\": 2017, \"MONTH\": 6, \"DAY_OF_MONTH\": 15, \"FL_DATE\": \"2017-06-15\", \"AIRLINE_ID\": 20304, \"CARRIER\": \"OO\", \"FL_NUM\": 2881, \"ORIGIN_AIRPORT_ID\": 13485, \"ORIGIN_AIRPORT_SEQ_ID\": 1348502, \"ORIGIN_CITY_MARKET_ID\": 33485, \"ORIGIN\": \"MSN\", \"ORIGIN_CITY_NAME\": \"Madison, WI\", \"ORIGIN_STATE_ABR\": \"WI\", \"ORIGIN_STATE_NM\": \"Wisconsin\", \"DEST_AIRPORT_ID\": 13930, \"DEST_AIRPORT_SEQ_ID\": 1393004, \"DEST_CITY_MARKET_ID\": 30977, \"DEST\": \"ORD\", \"DEST_CITY_NAME\": \"Chicago, IL\", \"DEST_STATE_ABR\": \"IL\", \"DEST_STATE_NM\": \"Illinois\", \"DEP_TIME\": 1506, \"DEP_DELAY\": 98, \"DEP_DELAY_NEW\": 98, \"WHEELS_OFF\": 1517, \"WHEELS_ON\": 1547, \"CRS_ARR_TIME\": 1425, \"ARR_TIME\": 1600, \"ARR_DELAY\": 95, \"ARR_DELAY_NEW\": 95, \"CANCELLED\": 0, \"CANCELLATION_CODE\": \"\", \"DIVERTED\": 0, \"ACTUAL_ELAPSED_TIME\": 54, \"AIR_TIME\": 30, \"DISTANCE\": 108, \"CARRIER_DELAY\": 0, \"WEATHER_DELAY\": 0, \"NAS_DELAY\": 0, \"SECURITY_DELAY\": 0, \"LATE_AIRCRAFT_DELAY\": 95, \"\": \"\"}, {\"_id\": {\"$oid\": \"59e9449772df5c7b88ae4129\"}, \"YEAR\": 2017, \"MONTH\": 6, \"DAY_OF_MONTH\": 15, \"FL_DATE\": \"2017-06-15\", \"AIRLINE_ID\": 20304, \"CARRIER\": \"OO\", \"FL_NUM\": 2881, \"ORIGIN_AIRPORT_ID\": 13930, \"ORIGIN_AIRPORT_SEQ_ID\": 1393004, \"ORIGIN_CITY_MARKET_ID\": 30977, \"ORIGIN\": \"ORD\", \"ORIGIN_CITY_NAME\": \"Chicago, IL\", \"ORIGIN_STATE_ABR\": \"IL\", \"ORIGIN_STATE_NM\": \"Illinois\", \"DEST_AIRPORT_ID\": 13485, \"DEST_AIRPORT_SEQ_ID\": 1348502, \"DEST_CITY_MARKET_ID\": 33485, \"DEST\": \"MSN\", \"DEST_CITY_NAME\": \"Madison, WI\", \"DEST_STATE_ABR\": \"WI\", \"DEST_STATE_NM\": \"Wisconsin\", \"DEP_TIME\": 1335, \"DEP_DELAY\": 90, \"DEP_DELAY_NEW\": 90, \"WHEELS_OFF\": 1411, \"WHEELS_ON\": 1439, \"CRS_ARR_TIME\": 1300, \"ARR_TIME\": 1445, \"ARR_DELAY\": 105, \"ARR_DELAY_NEW\": 105, \"CANCELLED\": 0, \"CANCELLATION_CODE\": \"\", \"DIVERTED\": 0, \"ACTUAL_ELAPSED_TIME\": 70, \"AIR_TIME\": 28, \"DISTANCE\": 108, \"CARRIER_DELAY\": 0, \"WEATHER_DELAY\": 0, \"NAS_DELAY\": 15, \"SECURITY_DELAY\": 0, \"LATE_AIRCRAFT_DELAY\": 90, \"\": \"\"}, {\"_id\": {\"$oid\": \"59e9449772df5c7b88ae412a\"}, \"YEAR\": 2017, \"MONTH\": 6, \"DAY_OF_MONTH\": 15, \"FL_DATE\": \"2017-06-15\", \"AIRLINE_ID\": 20304, \"CARRIER\": \"OO\", \"FL_NUM\": 2882, \"ORIGIN_AIRPORT_ID\": 11823, \"ORIGIN_AIRPORT_SEQ_ID\": 1182304, \"ORIGIN_CITY_MARKET_ID\": 31823, \"ORIGIN\": \"FWA\", \"ORIGIN_CITY_NAME\": \"Fort Wayne, IN\", \"ORIGIN_STATE_ABR\": \"IN\", \"ORIGIN_STATE_NM\": \"Indiana\", \"DEST_AIRPORT_ID\": 13930, \"DEST_AIRPORT_SEQ_ID\": 1393004, \"DEST_CITY_MARKET_ID\": 30977, \"DEST\": \"ORD\", \"DEST_CITY_NAME\": \"Chicago, IL\", \"DEST_STATE_ABR\": \"IL\", \"DEST_STATE_NM\": \"Illinois\", \"DEP_TIME\": 731, \"DEP_DELAY\": 72, \"DEP_DELAY_NEW\": 72, \"WHEELS_OFF\": 740, \"WHEELS_ON\": 711, \"CRS_ARR_TIME\": 616, \"ARR_TIME\": 724, \"ARR_DELAY\": 68, \"ARR_DELAY_NEW\": 68, \"CANCELLED\": 0, \"CANCELLATION_CODE\": \"\", \"DIVERTED\": 0, \"ACTUAL_ELAPSED_TIME\": 53, \"AIR_TIME\": 31, \"DISTANCE\": 157, \"CARRIER_DELAY\": 68, \"WEATHER_DELAY\": 0, \"NAS_DELAY\": 0, \"SECURITY_DELAY\": 0, \"LATE_AIRCRAFT_DELAY\": 0, \"\": \"\"}, {\"_id\": {\"$oid\": \"59e9449772df5c7b88ae412b\"}, \"YEAR\": 2017, \"MONTH\": 6, \"DAY_OF_MONTH\": 15, \"FL_DATE\": \"2017-06-15\", \"AIRLINE_ID\": 20304, \"CARRIER\": \"OO\", \"FL_NUM\": 2884, \"ORIGIN_AIRPORT_ID\": 13930, \"ORIGIN_AIRPORT_SEQ_ID\": 1393004, \"ORIGIN_CITY_MARKET_ID\": 30977, \"ORIGIN\": \"ORD\", \"ORIGIN_CITY_NAME\": \"Chicago, IL\", \"ORIGIN_STATE_ABR\": \"IL\", \"ORIGIN_STATE_NM\": \"Illinois\", \"DEST_AIRPORT_ID\": 15295, \"DEST_AIRPORT_SEQ_ID\": 1529502, \"DEST_CITY_MARKET_ID\": 35165, \"DEST\": \"TOL\", \"DEST_CITY_NAME\": \"Toledo, OH\", \"DEST_STATE_ABR\": \"OH\", \"DEST_STATE_NM\": \"Ohio\", \"DEP_TIME\": 1821, \"DEP_DELAY\": 96, \"DEP_DELAY_NEW\": 96, \"WHEELS_OFF\": 1839, \"WHEELS_ON\": 2011, \"CRS_ARR_TIME\": 1847, \"ARR_TIME\": 2014, \"ARR_DELAY\": 87, \"ARR_DELAY_NEW\": 87, \"CANCELLED\": 0, \"CANCELLATION_CODE\": \"\", \"DIVERTED\": 0, \"ACTUAL_ELAPSED_TIME\": 53, \"AIR_TIME\": 32, \"DISTANCE\": 213, \"CARRIER_DELAY\": 0, \"WEATHER_DELAY\": 0, \"NAS_DELAY\": 0, \"SECURITY_DELAY\": 0, \"LATE_AIRCRAFT_DELAY\": 87, \"\": \"\"}, {\"_id\": {\"$oid\": \"59e9449772df5c7b88ae412c\"}, \"YEAR\": 2017, \"MONTH\": 6, \"DAY_OF_MONTH\": 15, \"FL_DATE\": \"2017-06-15\", \"AIRLINE_ID\": 20304, \"CARRIER\": \"OO\", \"FL_NUM\": 2883, \"ORIGIN_AIRPORT_ID\": 13930, \"ORIGIN_AIRPORT_SEQ_ID\": 1393004, \"ORIGIN_CITY_MARKET_ID\": 30977, \"ORIGIN\": \"ORD\", \"ORIGIN_CITY_NAME\": \"Chicago, IL\", \"ORIGIN_STATE_ABR\": \"IL\", \"ORIGIN_STATE_NM\": \"Illinois\", \"DEST_AIRPORT_ID\": 11823, \"DEST_AIRPORT_SEQ_ID\": 1182304, \"DEST_CITY_MARKET_ID\": 31823, \"DEST\": \"FWA\", \"DEST_CITY_NAME\": \"Fort Wayne, IN\", \"DEST_STATE_ABR\": \"IN\", \"DEST_STATE_NM\": \"Indiana\", \"DEP_TIME\": 1848, \"DEP_DELAY\": -2, \"DEP_DELAY_NEW\": 0, \"WHEELS_OFF\": 1915, \"WHEELS_ON\": 2042, \"CRS_ARR_TIME\": 2055, \"ARR_TIME\": 2046, \"ARR_DELAY\": -9, \"ARR_DELAY_NEW\": 0, \"CANCELLED\": 0, \"CANCELLATION_CODE\": \"\", \"DIVERTED\": 0, \"ACTUAL_ELAPSED_TIME\": 58, \"AIR_TIME\": 27, \"DISTANCE\": 157, \"CARRIER_DELAY\": \"\", \"WEATHER_DELAY\": \"\", \"NAS_DELAY\": \"\", \"SECURITY_DELAY\": \"\", \"LATE_AIRCRAFT_DELAY\": \"\", \"\": \"\"}, {\"_id\": {\"$oid\": \"59e9449772df5c7b88ae412d\"}, \"YEAR\": 2017, \"MONTH\": 6, \"DAY_OF_MONTH\": 15, \"FL_DATE\": \"2017-06-15\", \"AIRLINE_ID\": 20304, \"CARRIER\": \"OO\", \"FL_NUM\": 2884, \"ORIGIN_AIRPORT_ID\": 15295, \"ORIGIN_AIRPORT_SEQ_ID\": 1529502, \"ORIGIN_CITY_MARKET_ID\": 35165, \"ORIGIN\": \"TOL\", \"ORIGIN_CITY_NAME\": \"Toledo, OH\", \"ORIGIN_STATE_ABR\": \"OH\", \"ORIGIN_STATE_NM\": \"Ohio\", \"DEST_AIRPORT_ID\": 13930, \"DEST_AIRPORT_SEQ_ID\": 1393004, \"DEST_CITY_MARKET_ID\": 30977, \"DEST\": \"ORD\", \"DEST_CITY_NAME\": \"Chicago, IL\", \"DEST_STATE_ABR\": \"IL\", \"DEST_STATE_NM\": \"Illinois\", \"DEP_TIME\": 2034, \"DEP_DELAY\": 79, \"DEP_DELAY_NEW\": 79, \"WHEELS_OFF\": 2049, \"WHEELS_ON\": 2033, \"CRS_ARR_TIME\": 1930, \"ARR_TIME\": 2042, \"ARR_DELAY\": 72, \"ARR_DELAY_NEW\": 72, \"CANCELLED\": 0, \"CANCELLATION_CODE\": \"\", \"DIVERTED\": 0, \"ACTUAL_ELAPSED_TIME\": 68, \"AIR_TIME\": 44, \"DISTANCE\": 213, \"CARRIER_DELAY\": 0, \"WEATHER_DELAY\": 0, \"NAS_DELAY\": 0, \"SECURITY_DELAY\": 0, \"LATE_AIRCRAFT_DELAY\": 72, \"\": \"\"}, {\"_id\": {\"$oid\": \"59e9449772df5c7b88ae412e\"}, \"YEAR\": 2017, \"MONTH\": 6, \"DAY_OF_MONTH\": 15, \"FL_DATE\": \"2017-06-15\", \"AIRLINE_ID\": 20304, \"CARRIER\": \"OO\", \"FL_NUM\": 2885, \"ORIGIN_AIRPORT_ID\": 10685, \"ORIGIN_AIRPORT_SEQ_ID\": 1068502, \"ORIGIN_CITY_MARKET_ID\": 30685, \"ORIGIN\": \"BMI\", \"ORIGIN_CITY_NAME\": \"Bloomington/Normal, IL\", \"ORIGIN_STATE_ABR\": \"IL\", \"ORIGIN_STATE_NM\": \"Illinois\", \"DEST_AIRPORT_ID\": 13930, \"DEST_AIRPORT_SEQ_ID\": 1393004, \"DEST_CITY_MARKET_ID\": 30977, \"DEST\": \"ORD\", \"DEST_CITY_NAME\": \"Chicago, IL\", \"DEST_STATE_ABR\": \"IL\", \"DEST_STATE_NM\": \"Illinois\", \"DEP_TIME\": 1632, \"DEP_DELAY\": -13, \"DEP_DELAY_NEW\": 0, \"WHEELS_OFF\": 1656, \"WHEELS_ON\": 1726, \"CRS_ARR_TIME\": 1742, \"ARR_TIME\": 1735, \"ARR_DELAY\": -7, \"ARR_DELAY_NEW\": 0, \"CANCELLED\": 0, \"CANCELLATION_CODE\": \"\", \"DIVERTED\": 0, \"ACTUAL_ELAPSED_TIME\": 63, \"AIR_TIME\": 30, \"DISTANCE\": 116, \"CARRIER_DELAY\": \"\", \"WEATHER_DELAY\": \"\", \"NAS_DELAY\": \"\", \"SECURITY_DELAY\": \"\", \"LATE_AIRCRAFT_DELAY\": \"\", \"\": \"\"}, {\"_id\": {\"$oid\": \"59e9449772df5c7b88ae412f\"}, \"YEAR\": 2017, \"MONTH\": 6, \"DAY_OF_MONTH\": 15, \"FL_DATE\": \"2017-06-15\", \"AIRLINE_ID\": 20304, \"CARRIER\": \"OO\", \"FL_NUM\": 2885, \"ORIGIN_AIRPORT_ID\": 13930, \"ORIGIN_AIRPORT_SEQ_ID\": 1393004, \"ORIGIN_CITY_MARKET_ID\": 30977, \"ORIGIN\": \"ORD\", \"ORIGIN_CITY_NAME\": \"Chicago, IL\", \"ORIGIN_STATE_ABR\": \"IL\", \"ORIGIN_STATE_NM\": \"Illinois\", \"DEST_AIRPORT_ID\": 10685, \"DEST_AIRPORT_SEQ_ID\": 1068502, \"DEST_CITY_MARKET_ID\": 30685, \"DEST\": \"BMI\", \"DEST_CITY_NAME\": \"Bloomington/Normal, IL\", \"DEST_STATE_ABR\": \"IL\", \"DEST_STATE_NM\": \"Illinois\", \"DEP_TIME\": 1516, \"DEP_DELAY\": -4, \"DEP_DELAY_NEW\": 0, \"WHEELS_OFF\": 1537, \"WHEELS_ON\": 1601, \"CRS_ARR_TIME\": 1616, \"ARR_TIME\": 1606, \"ARR_DELAY\": -10, \"ARR_DELAY_NEW\": 0, \"CANCELLED\": 0, \"CANCELLATION_CODE\": \"\", \"DIVERTED\": 0, \"ACTUAL_ELAPSED_TIME\": 50, \"AIR_TIME\": 24, \"DISTANCE\": 116, \"CARRIER_DELAY\": \"\", \"WEATHER_DELAY\": \"\", \"NAS_DELAY\": \"\", \"SECURITY_DELAY\": \"\", \"LATE_AIRCRAFT_DELAY\": \"\", \"\": \"\"}, {\"_id\": {\"$oid\": \"59e9449772df5c7b88ae4130\"}, \"YEAR\": 2017, \"MONTH\": 6, \"DAY_OF_MONTH\": 15, \"FL_DATE\": \"2017-06-15\", \"AIRLINE_ID\": 20304, \"CARRIER\": \"OO\", \"FL_NUM\": 2887, \"ORIGIN_AIRPORT_ID\": 13930, \"ORIGIN_AIRPORT_SEQ_ID\": 1393004, \"ORIGIN_CITY_MARKET_ID\": 30977, \"ORIGIN\": \"ORD\", \"ORIGIN_CITY_NAME\": \"Chicago, IL\", \"ORIGIN_STATE_ABR\": \"IL\", \"ORIGIN_STATE_NM\": \"Illinois\", \"DEST_AIRPORT_ID\": 13931, \"DEST_AIRPORT_SEQ_ID\": 1393102, \"DEST_CITY_MARKET_ID\": 33667, \"DEST\": \"ORF\", \"DEST_CITY_NAME\": \"Norfolk, VA\", \"DEST_STATE_ABR\": \"VA\", \"DEST_STATE_NM\": \"Virginia\", \"DEP_TIME\": 1249, \"DEP_DELAY\": 44, \"DEP_DELAY_NEW\": 44, \"WHEELS_OFF\": 1313, \"WHEELS_ON\": 1559, \"CRS_ARR_TIME\": 1515, \"ARR_TIME\": 1603, \"ARR_DELAY\": 48, \"ARR_DELAY_NEW\": 48, \"CANCELLED\": 0, \"CANCELLATION_CODE\": \"\", \"DIVERTED\": 0, \"ACTUAL_ELAPSED_TIME\": 134, \"AIR_TIME\": 106, \"DISTANCE\": 717, \"CARRIER_DELAY\": 0, \"WEATHER_DELAY\": 0, \"NAS_DELAY\": 4, \"SECURITY_DELAY\": 0, \"LATE_AIRCRAFT_DELAY\": 44, \"\": \"\"}, {\"_id\": {\"$oid\": \"59e9449772df5c7b88ae4131\"}, \"YEAR\": 2017, \"MONTH\": 6, \"DAY_OF_MONTH\": 15, \"FL_DATE\": \"2017-06-15\", \"AIRLINE_ID\": 20304, \"CARRIER\": \"OO\", \"FL_NUM\": 2888, \"ORIGIN_AIRPORT_ID\": 13930, \"ORIGIN_AIRPORT_SEQ_ID\": 1393004, \"ORIGIN_CITY_MARKET_ID\": 30977, \"ORIGIN\": \"ORD\", \"ORIGIN_CITY_NAME\": \"Chicago, IL\", \"ORIGIN_STATE_ABR\": \"IL\", \"ORIGIN_STATE_NM\": \"Illinois\", \"DEST_AIRPORT_ID\": 11775, \"DEST_AIRPORT_SEQ_ID\": 1177502, \"DEST_CITY_MARKET_ID\": 31775, \"DEST\": \"FSD\", \"DEST_CITY_NAME\": \"Sioux Falls, SD\", \"DEST_STATE_ABR\": \"SD\", \"DEST_STATE_NM\": \"South Dakota\", \"DEP_TIME\": 1637, \"DEP_DELAY\": 387, \"DEP_DELAY_NEW\": 387, \"WHEELS_OFF\": 1653, \"WHEELS_ON\": 1806, \"CRS_ARR_TIME\": 1152, \"ARR_TIME\": 1811, \"ARR_DELAY\": 379, \"ARR_DELAY_NEW\": 379, \"CANCELLED\": 0, \"CANCELLATION_CODE\": \"\", \"DIVERTED\": 0, \"ACTUAL_ELAPSED_TIME\": 94, \"AIR_TIME\": 73, \"DISTANCE\": 462, \"CARRIER_DELAY\": 118, \"WEATHER_DELAY\": 0, \"NAS_DELAY\": 0, \"SECURITY_DELAY\": 0, \"LATE_AIRCRAFT_DELAY\": 261, \"\": \"\"}, {\"_id\": {\"$oid\": \"59e9449772df5c7b88ae4132\"}, \"YEAR\": 2017, \"MONTH\": 6, \"DAY_OF_MONTH\": 15, \"FL_DATE\": \"2017-06-15\", \"AIRLINE_ID\": 20304, \"CARRIER\": \"OO\", \"FL_NUM\": 2887, \"ORIGIN_AIRPORT_ID\": 13931, \"ORIGIN_AIRPORT_SEQ_ID\": 1393102, \"ORIGIN_CITY_MARKET_ID\": 33667, \"ORIGIN\": \"ORF\", \"ORIGIN_CITY_NAME\": \"Norfolk, VA\", \"ORIGIN_STATE_ABR\": \"VA\", \"ORIGIN_STATE_NM\": \"Virginia\", \"DEST_AIRPORT_ID\": 13930, \"DEST_AIRPORT_SEQ_ID\": 1393004, \"DEST_CITY_MARKET_ID\": 30977, \"DEST\": \"ORD\", \"DEST_CITY_NAME\": \"Chicago, IL\", \"DEST_STATE_ABR\": \"IL\", \"DEST_STATE_NM\": \"Illinois\", \"DEP_TIME\": 1645, \"DEP_DELAY\": 35, \"DEP_DELAY_NEW\": 35, \"WHEELS_OFF\": 1658, \"WHEELS_ON\": 1744, \"CRS_ARR_TIME\": 1732, \"ARR_TIME\": 1751, \"ARR_DELAY\": 19, \"ARR_DELAY_NEW\": 19, \"CANCELLED\": 0, \"CANCELLATION_CODE\": \"\", \"DIVERTED\": 0, \"ACTUAL_ELAPSED_TIME\": 126, \"AIR_TIME\": 106, \"DISTANCE\": 717, \"CARRIER_DELAY\": 0, \"WEATHER_DELAY\": 0, \"NAS_DELAY\": 0, \"SECURITY_DELAY\": 0, \"LATE_AIRCRAFT_DELAY\": 19, \"\": \"\"}, {\"_id\": {\"$oid\": \"59e9449772df5c7b88ae4133\"}, \"YEAR\": 2017, \"MONTH\": 6, \"DAY_OF_MONTH\": 15, \"FL_DATE\": \"2017-06-15\", \"AIRLINE_ID\": 20304, \"CARRIER\": \"OO\", \"FL_NUM\": 2888, \"ORIGIN_AIRPORT_ID\": 11775, \"ORIGIN_AIRPORT_SEQ_ID\": 1177502, \"ORIGIN_CITY_MARKET_ID\": 31775, \"ORIGIN\": \"FSD\", \"ORIGIN_CITY_NAME\": \"Sioux Falls, SD\", \"ORIGIN_STATE_ABR\": \"SD\", \"ORIGIN_STATE_NM\": \"South Dakota\", \"DEST_AIRPORT_ID\": 13930, \"DEST_AIRPORT_SEQ_ID\": 1393004, \"DEST_CITY_MARKET_ID\": 30977, \"DEST\": \"ORD\", \"DEST_CITY_NAME\": \"Chicago, IL\", \"DEST_STATE_ABR\": \"IL\", \"DEST_STATE_NM\": \"Illinois\", \"DEP_TIME\": 1831, \"DEP_DELAY\": 365, \"DEP_DELAY_NEW\": 365, \"WHEELS_OFF\": 1845, \"WHEELS_ON\": 1957, \"CRS_ARR_TIME\": 1409, \"ARR_TIME\": 2025, \"ARR_DELAY\": 376, \"ARR_DELAY_NEW\": 376, \"CANCELLED\": 0, \"CANCELLATION_CODE\": \"\", \"DIVERTED\": 0, \"ACTUAL_ELAPSED_TIME\": 114, \"AIR_TIME\": 72, \"DISTANCE\": 462, \"CARRIER_DELAY\": 0, \"WEATHER_DELAY\": 0, \"NAS_DELAY\": 11, \"SECURITY_DELAY\": 0, \"LATE_AIRCRAFT_DELAY\": 365, \"\": \"\"}, {\"_id\": {\"$oid\": \"59e9449772df5c7b88ae4134\"}, \"YEAR\": 2017, \"MONTH\": 6, \"DAY_OF_MONTH\": 15, \"FL_DATE\": \"2017-06-15\", \"AIRLINE_ID\": 20304, \"CARRIER\": \"OO\", \"FL_NUM\": 2889, \"ORIGIN_AIRPORT_ID\": 13871, \"ORIGIN_AIRPORT_SEQ_ID\": 1387102, \"ORIGIN_CITY_MARKET_ID\": 33316, \"ORIGIN\": \"OMA\", \"ORIGIN_CITY_NAME\": \"Omaha, NE\", \"ORIGIN_STATE_ABR\": \"NE\", \"ORIGIN_STATE_NM\": \"Nebraska\", \"DEST_AIRPORT_ID\": 13930, \"DEST_AIRPORT_SEQ_ID\": 1393004, \"DEST_CITY_MARKET_ID\": 30977, \"DEST\": \"ORD\", \"DEST_CITY_NAME\": \"Chicago, IL\", \"DEST_STATE_ABR\": \"IL\", \"DEST_STATE_NM\": \"Illinois\", \"DEP_TIME\": 1547, \"DEP_DELAY\": -5, \"DEP_DELAY_NEW\": 0, \"WHEELS_OFF\": 1602, \"WHEELS_ON\": 1708, \"CRS_ARR_TIME\": 1732, \"ARR_TIME\": 1722, \"ARR_DELAY\": -10, \"ARR_DELAY_NEW\": 0, \"CANCELLED\": 0, \"CANCELLATION_CODE\": \"\", \"DIVERTED\": 0, \"ACTUAL_ELAPSED_TIME\": 95, \"AIR_TIME\": 66, \"DISTANCE\": 416, \"CARRIER_DELAY\": \"\", \"WEATHER_DELAY\": \"\", \"NAS_DELAY\": \"\", \"SECURITY_DELAY\": \"\", \"LATE_AIRCRAFT_DELAY\": \"\", \"\": \"\"}, {\"_id\": {\"$oid\": \"59e9449772df5c7b88ae4135\"}, \"YEAR\": 2017, \"MONTH\": 6, \"DAY_OF_MONTH\": 15, \"FL_DATE\": \"2017-06-15\", \"AIRLINE_ID\": 20304, \"CARRIER\": \"OO\", \"FL_NUM\": 2889, \"ORIGIN_AIRPORT_ID\": 13930, \"ORIGIN_AIRPORT_SEQ_ID\": 1393004, \"ORIGIN_CITY_MARKET_ID\": 30977, \"ORIGIN\": \"ORD\", \"ORIGIN_CITY_NAME\": \"Chicago, IL\", \"ORIGIN_STATE_ABR\": \"IL\", \"ORIGIN_STATE_NM\": \"Illinois\", \"DEST_AIRPORT_ID\": 13871, \"DEST_AIRPORT_SEQ_ID\": 1387102, \"DEST_CITY_MARKET_ID\": 33316, \"DEST\": \"OMA\", \"DEST_CITY_NAME\": \"Omaha, NE\", \"DEST_STATE_ABR\": \"NE\", \"DEST_STATE_NM\": \"Nebraska\", \"DEP_TIME\": 1339, \"DEP_DELAY\": 9, \"DEP_DELAY_NEW\": 9, \"WHEELS_OFF\": 1409, \"WHEELS_ON\": 1511, \"CRS_ARR_TIME\": 1504, \"ARR_TIME\": 1514, \"ARR_DELAY\": 10, \"ARR_DELAY_NEW\": 10, \"CANCELLED\": 0, \"CANCELLATION_CODE\": \"\", \"DIVERTED\": 0, \"ACTUAL_ELAPSED_TIME\": 95, \"AIR_TIME\": 62, \"DISTANCE\": 416, \"CARRIER_DELAY\": \"\", \"WEATHER_DELAY\": \"\", \"NAS_DELAY\": \"\", \"SECURITY_DELAY\": \"\", \"LATE_AIRCRAFT_DELAY\": \"\", \"\": \"\"}, {\"_id\": {\"$oid\": \"59e9449772df5c7b88ae4136\"}, \"YEAR\": 2017, \"MONTH\": 6, \"DAY_OF_MONTH\": 15, \"FL_DATE\": \"2017-06-15\", \"AIRLINE_ID\": 20304, \"CARRIER\": \"OO\", \"FL_NUM\": 2890, \"ORIGIN_AIRPORT_ID\": 11433, \"ORIGIN_AIRPORT_SEQ_ID\": 1143302, \"ORIGIN_CITY_MARKET_ID\": 31295, \"ORIGIN\": \"DTW\", \"ORIGIN_CITY_NAME\": \"Detroit, MI\", \"ORIGIN_STATE_ABR\": \"MI\", \"ORIGIN_STATE_NM\": \"Michigan\", \"DEST_AIRPORT_ID\": 13930, \"DEST_AIRPORT_SEQ_ID\": 1393004, \"DEST_CITY_MARKET_ID\": 30977, \"DEST\": \"ORD\", \"DEST_CITY_NAME\": \"Chicago, IL\", \"DEST_STATE_ABR\": \"IL\", \"DEST_STATE_NM\": \"Illinois\", \"DEP_TIME\": 602, \"DEP_DELAY\": -3, \"DEP_DELAY_NEW\": 0, \"WHEELS_OFF\": 620, \"WHEELS_ON\": 608, \"CRS_ARR_TIME\": 622, \"ARR_TIME\": 615, \"ARR_DELAY\": -7, \"ARR_DELAY_NEW\": 0, \"CANCELLED\": 0, \"CANCELLATION_CODE\": \"\", \"DIVERTED\": 0, \"ACTUAL_ELAPSED_TIME\": 73, \"AIR_TIME\": 48, \"DISTANCE\": 235, \"CARRIER_DELAY\": \"\", \"WEATHER_DELAY\": \"\", \"NAS_DELAY\": \"\", \"SECURITY_DELAY\": \"\", \"LATE_AIRCRAFT_DELAY\": \"\", \"\": \"\"}, {\"_id\": {\"$oid\": \"59e9449772df5c7b88ae4137\"}, \"YEAR\": 2017, \"MONTH\": 6, \"DAY_OF_MONTH\": 15, \"FL_DATE\": \"2017-06-15\", \"AIRLINE_ID\": 20304, \"CARRIER\": \"OO\", \"FL_NUM\": 2891, \"ORIGIN_AIRPORT_ID\": 14107, \"ORIGIN_AIRPORT_SEQ_ID\": 1410702, \"ORIGIN_CITY_MARKET_ID\": 30466, \"ORIGIN\": \"PHX\", \"ORIGIN_CITY_NAME\": \"Phoenix, AZ\", \"ORIGIN_STATE_ABR\": \"AZ\", \"ORIGIN_STATE_NM\": \"Arizona\", \"DEST_AIRPORT_ID\": 12896, \"DEST_AIRPORT_SEQ_ID\": 1289605, \"DEST_CITY_MARKET_ID\": 32896, \"DEST\": \"LBB\", \"DEST_CITY_NAME\": \"Lubbock, TX\", \"DEST_STATE_ABR\": \"TX\", \"DEST_STATE_NM\": \"Texas\", \"DEP_TIME\": 839, \"DEP_DELAY\": -3, \"DEP_DELAY_NEW\": 0, \"WHEELS_OFF\": 902, \"WHEELS_ON\": 1221, \"CRS_ARR_TIME\": 1238, \"ARR_TIME\": 1225, \"ARR_DELAY\": -13, \"ARR_DELAY_NEW\": 0, \"CANCELLED\": 0, \"CANCELLATION_CODE\": \"\", \"DIVERTED\": 0, \"ACTUAL_ELAPSED_TIME\": 106, \"AIR_TIME\": 79, \"DISTANCE\": 588, \"CARRIER_DELAY\": \"\", \"WEATHER_DELAY\": \"\", \"NAS_DELAY\": \"\", \"SECURITY_DELAY\": \"\", \"LATE_AIRCRAFT_DELAY\": \"\", \"\": \"\"}, {\"_id\": {\"$oid\": \"59e9449772df5c7b88ae4138\"}, \"YEAR\": 2017, \"MONTH\": 6, \"DAY_OF_MONTH\": 15, \"FL_DATE\": \"2017-06-15\", \"AIRLINE_ID\": 20304, \"CARRIER\": \"OO\", \"FL_NUM\": 2892, \"ORIGIN_AIRPORT_ID\": 13930, \"ORIGIN_AIRPORT_SEQ_ID\": 1393004, \"ORIGIN_CITY_MARKET_ID\": 30977, \"ORIGIN\": \"ORD\", \"ORIGIN_CITY_NAME\": \"Chicago, IL\", \"ORIGIN_STATE_ABR\": \"IL\", \"ORIGIN_STATE_NM\": \"Illinois\", \"DEST_AIRPORT_ID\": 13367, \"DEST_AIRPORT_SEQ_ID\": 1336703, \"DEST_CITY_MARKET_ID\": 33367, \"DEST\": \"MLI\", \"DEST_CITY_NAME\": \"Moline, IL\", \"DEST_STATE_ABR\": \"IL\", \"DEST_STATE_NM\": \"Illinois\", \"DEP_TIME\": 1511, \"DEP_DELAY\": 11, \"DEP_DELAY_NEW\": 11, \"WHEELS_OFF\": 1534, \"WHEELS_ON\": 1604, \"CRS_ARR_TIME\": 1558, \"ARR_TIME\": 1609, \"ARR_DELAY\": 11, \"ARR_DELAY_NEW\": 11, \"CANCELLED\": 0, \"CANCELLATION_CODE\": \"\", \"DIVERTED\": 0, \"ACTUAL_ELAPSED_TIME\": 58, \"AIR_TIME\": 30, \"DISTANCE\": 139, \"CARRIER_DELAY\": \"\", \"WEATHER_DELAY\": \"\", \"NAS_DELAY\": \"\", \"SECURITY_DELAY\": \"\", \"LATE_AIRCRAFT_DELAY\": \"\", \"\": \"\"}, {\"_id\": {\"$oid\": \"59e9449772df5c7b88ae4139\"}, \"YEAR\": 2017, \"MONTH\": 6, \"DAY_OF_MONTH\": 15, \"FL_DATE\": \"2017-06-15\", \"AIRLINE_ID\": 20304, \"CARRIER\": \"OO\", \"FL_NUM\": 2892, \"ORIGIN_AIRPORT_ID\": 13367, \"ORIGIN_AIRPORT_SEQ_ID\": 1336703, \"ORIGIN_CITY_MARKET_ID\": 33367, \"ORIGIN\": \"MLI\", \"ORIGIN_CITY_NAME\": \"Moline, IL\", \"ORIGIN_STATE_ABR\": \"IL\", \"ORIGIN_STATE_NM\": \"Illinois\", \"DEST_AIRPORT_ID\": 13930, \"DEST_AIRPORT_SEQ_ID\": 1393004, \"DEST_CITY_MARKET_ID\": 30977, \"DEST\": \"ORD\", \"DEST_CITY_NAME\": \"Chicago, IL\", \"DEST_STATE_ABR\": \"IL\", \"DEST_STATE_NM\": \"Illinois\", \"DEP_TIME\": 1630, \"DEP_DELAY\": 5, \"DEP_DELAY_NEW\": 5, \"WHEELS_OFF\": 1644, \"WHEELS_ON\": 1719, \"CRS_ARR_TIME\": 1723, \"ARR_TIME\": 1731, \"ARR_DELAY\": 8, \"ARR_DELAY_NEW\": 8, \"CANCELLED\": 0, \"CANCELLATION_CODE\": \"\", \"DIVERTED\": 0, \"ACTUAL_ELAPSED_TIME\": 61, \"AIR_TIME\": 35, \"DISTANCE\": 139, \"CARRIER_DELAY\": \"\", \"WEATHER_DELAY\": \"\", \"NAS_DELAY\": \"\", \"SECURITY_DELAY\": \"\", \"LATE_AIRCRAFT_DELAY\": \"\", \"\": \"\"}]))});"
      ]
     },
     "metadata": {},
     "output_type": "display_data"
    },
    {
     "data": {
      "text/plain": [
       "{ \"_id\" : ObjectId(\"59e9449772df5c7b88ae4126\"), \"YEAR\" : 2017, \"MONTH\" : 6, \"DAY_OF_MONTH\" : 15, \"FL_DATE\" : \"2017-06-15\", \"AIRLINE_ID\" : 20304, \"CARRIER\" : \"OO\", \"FL_NUM\" : 2880, \"ORIGIN_AIRPORT_ID\" : 13485, \"ORIGIN_AIRPORT_SEQ_ID\" : 1348502, \"ORIGIN_CITY_MARKET_ID\" : 33485, \"ORIGIN\" : \"MSN\", \"ORIGIN_CITY_NAME\" : \"Madison, WI\", \"ORIGIN_STATE_ABR\" : \"WI\", \"ORIGIN_STATE_NM\" : \"Wisconsin\", \"DEST_AIRPORT_ID\" : 13930, \"DEST_AIRPORT_SEQ_ID\" : 1393004, \"DEST_CITY_MARKET_ID\" : 30977, \"DEST\" : \"ORD\", \"DEST_CITY_NAME\" : \"Chicago, IL\", \"DEST_STATE_ABR\" : \"IL\", \"DEST_STATE_NM\" : \"Illinois\", \"DEP_TIME\" : 1808, \"DEP_DELAY\" : -4, \"DEP_DELAY_NEW\" : 0, \"WHEELS_OFF\" : 1819, \"WHEELS_ON\" : 1848, \"CRS_ARR_TIME\" : 1909, \"ARR_TIME\" : 1916, \"ARR_DELAY\" : 7, \"ARR_DELAY_NEW\" : 7, \"CANCELLED\" : 0, \"CANCELLATION_CODE\" : \"\", \"DIVERTED\" : 0, \"ACTUAL_ELAPSED_TIME\" : 68, \"AIR_TIME\" : 29, \"DISTANCE\" : 108, \"CARRIER_DELAY\" : \"\", \"WEATHER_DELAY\" : \"\", \"NAS_DELAY\" : \"\", \"SECURITY_DELAY\" : \"\", \"LATE_AIRCRAFT_DELAY\" : \"\", \"\" : \"\" }\r\n",
       "{ \"_id\" : ObjectId(\"59e9449772df5c7b88ae4127\"), \"YEAR\" : 2017, \"MONTH\" : 6, \"DAY_OF_MONTH\" : 15, \"FL_DATE\" : \"2017-06-15\", \"AIRLINE_ID\" : 20304, \"CARRIER\" : \"OO\", \"FL_NUM\" : 2880, \"ORIGIN_AIRPORT_ID\" : 13930, \"ORIGIN_AIRPORT_SEQ_ID\" : 1393004, \"ORIGIN_CITY_MARKET_ID\" : 30977, \"ORIGIN\" : \"ORD\", \"ORIGIN_CITY_NAME\" : \"Chicago, IL\", \"ORIGIN_STATE_ABR\" : \"IL\", \"ORIGIN_STATE_NM\" : \"Illinois\", \"DEST_AIRPORT_ID\" : 13485, \"DEST_AIRPORT_SEQ_ID\" : 1348502, \"DEST_CITY_MARKET_ID\" : 33485, \"DEST\" : \"MSN\", \"DEST_CITY_NAME\" : \"Madison, WI\", \"DEST_STATE_ABR\" : \"WI\", \"DEST_STATE_NM\" : \"Wisconsin\", \"DEP_TIME\" : 1648, \"DEP_DELAY\" : -2, \"DEP_DELAY_NEW\" : 0, \"WHEELS_OFF\" : 1701, \"WHEELS_ON\" : 1731, \"CRS_ARR_TIME\" : 1747, \"ARR_TIME\" : 1747, \"ARR_DELAY\" : 0, \"ARR_DELAY_NEW\" : 0, \"CANCELLED\" : 0, \"CANCELLATION_CODE\" : \"\", \"DIVERTED\" : 0, \"ACTUAL_ELAPSED_TIME\" : 59, \"AIR_TIME\" : 30, \"DISTANCE\" : 108, \"CARRIER_DELAY\" : \"\", \"WEATHER_DELAY\" : \"\", \"NAS_DELAY\" : \"\", \"SECURITY_DELAY\" : \"\", \"LATE_AIRCRAFT_DELAY\" : \"\", \"\" : \"\" }\r\n",
       "{ \"_id\" : ObjectId(\"59e9449772df5c7b88ae4128\"), \"YEAR\" : 2017, \"MONTH\" : 6, \"DAY_OF_MONTH\" : 15, \"FL_DATE\" : \"2017-06-15\", \"AIRLINE_ID\" : 20304, \"CARRIER\" : \"OO\", \"FL_NUM\" : 2881, \"ORIGIN_AIRPORT_ID\" : 13485, \"ORIGIN_AIRPORT_SEQ_ID\" : 1348502, \"ORIGIN_CITY_MARKET_ID\" : 33485, \"ORIGIN\" : \"MSN\", \"ORIGIN_CITY_NAME\" : \"Madison, WI\", \"ORIGIN_STATE_ABR\" : \"WI\", \"ORIGIN_STATE_NM\" : \"Wisconsin\", \"DEST_AIRPORT_ID\" : 13930, \"DEST_AIRPORT_SEQ_ID\" : 1393004, \"DEST_CITY_MARKET_ID\" : 30977, \"DEST\" : \"ORD\", \"DEST_CITY_NAME\" : \"Chicago, IL\", \"DEST_STATE_ABR\" : \"IL\", \"DEST_STATE_NM\" : \"Illinois\", \"DEP_TIME\" : 1506, \"DEP_DELAY\" : 98, \"DEP_DELAY_NEW\" : 98, \"WHEELS_OFF\" : 1517, \"WHEELS_ON\" : 1547, \"CRS_ARR_TIME\" : 1425, \"ARR_TIME\" : 1600, \"ARR_DELAY\" : 95, \"ARR_DELAY_NEW\" : 95, \"CANCELLED\" : 0, \"CANCELLATION_CODE\" : \"\", \"DIVERTED\" : 0, \"ACTUAL_ELAPSED_TIME\" : 54, \"AIR_TIME\" : 30, \"DISTANCE\" : 108, \"CARRIER_DELAY\" : 0, \"WEATHER_DELAY\" : 0, \"NAS_DELAY\" : 0, \"SECURITY_DELAY\" : 0, \"LATE_AIRCRAFT_DELAY\" : 95, \"\" : \"\" }\r\n",
       "{ \"_id\" : ObjectId(\"59e9449772df5c7b88ae4129\"), \"YEAR\" : 2017, \"MONTH\" : 6, \"DAY_OF_MONTH\" : 15, \"FL_DATE\" : \"2017-06-15\", \"AIRLINE_ID\" : 20304, \"CARRIER\" : \"OO\", \"FL_NUM\" : 2881, \"ORIGIN_AIRPORT_ID\" : 13930, \"ORIGIN_AIRPORT_SEQ_ID\" : 1393004, \"ORIGIN_CITY_MARKET_ID\" : 30977, \"ORIGIN\" : \"ORD\", \"ORIGIN_CITY_NAME\" : \"Chicago, IL\", \"ORIGIN_STATE_ABR\" : \"IL\", \"ORIGIN_STATE_NM\" : \"Illinois\", \"DEST_AIRPORT_ID\" : 13485, \"DEST_AIRPORT_SEQ_ID\" : 1348502, \"DEST_CITY_MARKET_ID\" : 33485, \"DEST\" : \"MSN\", \"DEST_CITY_NAME\" : \"Madison, WI\", \"DEST_STATE_ABR\" : \"WI\", \"DEST_STATE_NM\" : \"Wisconsin\", \"DEP_TIME\" : 1335, \"DEP_DELAY\" : 90, \"DEP_DELAY_NEW\" : 90, \"WHEELS_OFF\" : 1411, \"WHEELS_ON\" : 1439, \"CRS_ARR_TIME\" : 1300, \"ARR_TIME\" : 1445, \"ARR_DELAY\" : 105, \"ARR_DELAY_NEW\" : 105, \"CANCELLED\" : 0, \"CANCELLATION_CODE\" : \"\", \"DIVERTED\" : 0, \"ACTUAL_ELAPSED_TIME\" : 70, \"AIR_TIME\" : 28, \"DISTANCE\" : 108, \"CARRIER_DELAY\" : 0, \"WEATHER_DELAY\" : 0, \"NAS_DELAY\" : 15, \"SECURITY_DELAY\" : 0, \"LATE_AIRCRAFT_DELAY\" : 90, \"\" : \"\" }\r\n",
       "{ \"_id\" : ObjectId(\"59e9449772df5c7b88ae412a\"), \"YEAR\" : 2017, \"MONTH\" : 6, \"DAY_OF_MONTH\" : 15, \"FL_DATE\" : \"2017-06-15\", \"AIRLINE_ID\" : 20304, \"CARRIER\" : \"OO\", \"FL_NUM\" : 2882, \"ORIGIN_AIRPORT_ID\" : 11823, \"ORIGIN_AIRPORT_SEQ_ID\" : 1182304, \"ORIGIN_CITY_MARKET_ID\" : 31823, \"ORIGIN\" : \"FWA\", \"ORIGIN_CITY_NAME\" : \"Fort Wayne, IN\", \"ORIGIN_STATE_ABR\" : \"IN\", \"ORIGIN_STATE_NM\" : \"Indiana\", \"DEST_AIRPORT_ID\" : 13930, \"DEST_AIRPORT_SEQ_ID\" : 1393004, \"DEST_CITY_MARKET_ID\" : 30977, \"DEST\" : \"ORD\", \"DEST_CITY_NAME\" : \"Chicago, IL\", \"DEST_STATE_ABR\" : \"IL\", \"DEST_STATE_NM\" : \"Illinois\", \"DEP_TIME\" : 731, \"DEP_DELAY\" : 72, \"DEP_DELAY_NEW\" : 72, \"WHEELS_OFF\" : 740, \"WHEELS_ON\" : 711, \"CRS_ARR_TIME\" : 616, \"ARR_TIME\" : 724, \"ARR_DELAY\" : 68, \"ARR_DELAY_NEW\" : 68, \"CANCELLED\" : 0, \"CANCELLATION_CODE\" : \"\", \"DIVERTED\" : 0, \"ACTUAL_ELAPSED_TIME\" : 53, \"AIR_TIME\" : 31, \"DISTANCE\" : 157, \"CARRIER_DELAY\" : 68, \"WEATHER_DELAY\" : 0, \"NAS_DELAY\" : 0, \"SECURITY_DELAY\" : 0, \"LATE_AIRCRAFT_DELAY\" : 0, \"\" : \"\" }\r\n",
       "{ \"_id\" : ObjectId(\"59e9449772df5c7b88ae412b\"), \"YEAR\" : 2017, \"MONTH\" : 6, \"DAY_OF_MONTH\" : 15, \"FL_DATE\" : \"2017-06-15\", \"AIRLINE_ID\" : 20304, \"CARRIER\" : \"OO\", \"FL_NUM\" : 2884, \"ORIGIN_AIRPORT_ID\" : 13930, \"ORIGIN_AIRPORT_SEQ_ID\" : 1393004, \"ORIGIN_CITY_MARKET_ID\" : 30977, \"ORIGIN\" : \"ORD\", \"ORIGIN_CITY_NAME\" : \"Chicago, IL\", \"ORIGIN_STATE_ABR\" : \"IL\", \"ORIGIN_STATE_NM\" : \"Illinois\", \"DEST_AIRPORT_ID\" : 15295, \"DEST_AIRPORT_SEQ_ID\" : 1529502, \"DEST_CITY_MARKET_ID\" : 35165, \"DEST\" : \"TOL\", \"DEST_CITY_NAME\" : \"Toledo, OH\", \"DEST_STATE_ABR\" : \"OH\", \"DEST_STATE_NM\" : \"Ohio\", \"DEP_TIME\" : 1821, \"DEP_DELAY\" : 96, \"DEP_DELAY_NEW\" : 96, \"WHEELS_OFF\" : 1839, \"WHEELS_ON\" : 2011, \"CRS_ARR_TIME\" : 1847, \"ARR_TIME\" : 2014, \"ARR_DELAY\" : 87, \"ARR_DELAY_NEW\" : 87, \"CANCELLED\" : 0, \"CANCELLATION_CODE\" : \"\", \"DIVERTED\" : 0, \"ACTUAL_ELAPSED_TIME\" : 53, \"AIR_TIME\" : 32, \"DISTANCE\" : 213, \"CARRIER_DELAY\" : 0, \"WEATHER_DELAY\" : 0, \"NAS_DELAY\" : 0, \"SECURITY_DELAY\" : 0, \"LATE_AIRCRAFT_DELAY\" : 87, \"\" : \"\" }\r\n",
       "{ \"_id\" : ObjectId(\"59e9449772df5c7b88ae412c\"), \"YEAR\" : 2017, \"MONTH\" : 6, \"DAY_OF_MONTH\" : 15, \"FL_DATE\" : \"2017-06-15\", \"AIRLINE_ID\" : 20304, \"CARRIER\" : \"OO\", \"FL_NUM\" : 2883, \"ORIGIN_AIRPORT_ID\" : 13930, \"ORIGIN_AIRPORT_SEQ_ID\" : 1393004, \"ORIGIN_CITY_MARKET_ID\" : 30977, \"ORIGIN\" : \"ORD\", \"ORIGIN_CITY_NAME\" : \"Chicago, IL\", \"ORIGIN_STATE_ABR\" : \"IL\", \"ORIGIN_STATE_NM\" : \"Illinois\", \"DEST_AIRPORT_ID\" : 11823, \"DEST_AIRPORT_SEQ_ID\" : 1182304, \"DEST_CITY_MARKET_ID\" : 31823, \"DEST\" : \"FWA\", \"DEST_CITY_NAME\" : \"Fort Wayne, IN\", \"DEST_STATE_ABR\" : \"IN\", \"DEST_STATE_NM\" : \"Indiana\", \"DEP_TIME\" : 1848, \"DEP_DELAY\" : -2, \"DEP_DELAY_NEW\" : 0, \"WHEELS_OFF\" : 1915, \"WHEELS_ON\" : 2042, \"CRS_ARR_TIME\" : 2055, \"ARR_TIME\" : 2046, \"ARR_DELAY\" : -9, \"ARR_DELAY_NEW\" : 0, \"CANCELLED\" : 0, \"CANCELLATION_CODE\" : \"\", \"DIVERTED\" : 0, \"ACTUAL_ELAPSED_TIME\" : 58, \"AIR_TIME\" : 27, \"DISTANCE\" : 157, \"CARRIER_DELAY\" : \"\", \"WEATHER_DELAY\" : \"\", \"NAS_DELAY\" : \"\", \"SECURITY_DELAY\" : \"\", \"LATE_AIRCRAFT_DELAY\" : \"\", \"\" : \"\" }\r\n",
       "{ \"_id\" : ObjectId(\"59e9449772df5c7b88ae412d\"), \"YEAR\" : 2017, \"MONTH\" : 6, \"DAY_OF_MONTH\" : 15, \"FL_DATE\" : \"2017-06-15\", \"AIRLINE_ID\" : 20304, \"CARRIER\" : \"OO\", \"FL_NUM\" : 2884, \"ORIGIN_AIRPORT_ID\" : 15295, \"ORIGIN_AIRPORT_SEQ_ID\" : 1529502, \"ORIGIN_CITY_MARKET_ID\" : 35165, \"ORIGIN\" : \"TOL\", \"ORIGIN_CITY_NAME\" : \"Toledo, OH\", \"ORIGIN_STATE_ABR\" : \"OH\", \"ORIGIN_STATE_NM\" : \"Ohio\", \"DEST_AIRPORT_ID\" : 13930, \"DEST_AIRPORT_SEQ_ID\" : 1393004, \"DEST_CITY_MARKET_ID\" : 30977, \"DEST\" : \"ORD\", \"DEST_CITY_NAME\" : \"Chicago, IL\", \"DEST_STATE_ABR\" : \"IL\", \"DEST_STATE_NM\" : \"Illinois\", \"DEP_TIME\" : 2034, \"DEP_DELAY\" : 79, \"DEP_DELAY_NEW\" : 79, \"WHEELS_OFF\" : 2049, \"WHEELS_ON\" : 2033, \"CRS_ARR_TIME\" : 1930, \"ARR_TIME\" : 2042, \"ARR_DELAY\" : 72, \"ARR_DELAY_NEW\" : 72, \"CANCELLED\" : 0, \"CANCELLATION_CODE\" : \"\", \"DIVERTED\" : 0, \"ACTUAL_ELAPSED_TIME\" : 68, \"AIR_TIME\" : 44, \"DISTANCE\" : 213, \"CARRIER_DELAY\" : 0, \"WEATHER_DELAY\" : 0, \"NAS_DELAY\" : 0, \"SECURITY_DELAY\" : 0, \"LATE_AIRCRAFT_DELAY\" : 72, \"\" : \"\" }\r\n",
       "{ \"_id\" : ObjectId(\"59e9449772df5c7b88ae412e\"), \"YEAR\" : 2017, \"MONTH\" : 6, \"DAY_OF_MONTH\" : 15, \"FL_DATE\" : \"2017-06-15\", \"AIRLINE_ID\" : 20304, \"CARRIER\" : \"OO\", \"FL_NUM\" : 2885, \"ORIGIN_AIRPORT_ID\" : 10685, \"ORIGIN_AIRPORT_SEQ_ID\" : 1068502, \"ORIGIN_CITY_MARKET_ID\" : 30685, \"ORIGIN\" : \"BMI\", \"ORIGIN_CITY_NAME\" : \"Bloomington/Normal, IL\", \"ORIGIN_STATE_ABR\" : \"IL\", \"ORIGIN_STATE_NM\" : \"Illinois\", \"DEST_AIRPORT_ID\" : 13930, \"DEST_AIRPORT_SEQ_ID\" : 1393004, \"DEST_CITY_MARKET_ID\" : 30977, \"DEST\" : \"ORD\", \"DEST_CITY_NAME\" : \"Chicago, IL\", \"DEST_STATE_ABR\" : \"IL\", \"DEST_STATE_NM\" : \"Illinois\", \"DEP_TIME\" : 1632, \"DEP_DELAY\" : -13, \"DEP_DELAY_NEW\" : 0, \"WHEELS_OFF\" : 1656, \"WHEELS_ON\" : 1726, \"CRS_ARR_TIME\" : 1742, \"ARR_TIME\" : 1735, \"ARR_DELAY\" : -7, \"ARR_DELAY_NEW\" : 0, \"CANCELLED\" : 0, \"CANCELLATION_CODE\" : \"\", \"DIVERTED\" : 0, \"ACTUAL_ELAPSED_TIME\" : 63, \"AIR_TIME\" : 30, \"DISTANCE\" : 116, \"CARRIER_DELAY\" : \"\", \"WEATHER_DELAY\" : \"\", \"NAS_DELAY\" : \"\", \"SECURITY_DELAY\" : \"\", \"LATE_AIRCRAFT_DELAY\" : \"\", \"\" : \"\" }\r\n",
       "{ \"_id\" : ObjectId(\"59e9449772df5c7b88ae412f\"), \"YEAR\" : 2017, \"MONTH\" : 6, \"DAY_OF_MONTH\" : 15, \"FL_DATE\" : \"2017-06-15\", \"AIRLINE_ID\" : 20304, \"CARRIER\" : \"OO\", \"FL_NUM\" : 2885, \"ORIGIN_AIRPORT_ID\" : 13930, \"ORIGIN_AIRPORT_SEQ_ID\" : 1393004, \"ORIGIN_CITY_MARKET_ID\" : 30977, \"ORIGIN\" : \"ORD\", \"ORIGIN_CITY_NAME\" : \"Chicago, IL\", \"ORIGIN_STATE_ABR\" : \"IL\", \"ORIGIN_STATE_NM\" : \"Illinois\", \"DEST_AIRPORT_ID\" : 10685, \"DEST_AIRPORT_SEQ_ID\" : 1068502, \"DEST_CITY_MARKET_ID\" : 30685, \"DEST\" : \"BMI\", \"DEST_CITY_NAME\" : \"Bloomington/Normal, IL\", \"DEST_STATE_ABR\" : \"IL\", \"DEST_STATE_NM\" : \"Illinois\", \"DEP_TIME\" : 1516, \"DEP_DELAY\" : -4, \"DEP_DELAY_NEW\" : 0, \"WHEELS_OFF\" : 1537, \"WHEELS_ON\" : 1601, \"CRS_ARR_TIME\" : 1616, \"ARR_TIME\" : 1606, \"ARR_DELAY\" : -10, \"ARR_DELAY_NEW\" : 0, \"CANCELLED\" : 0, \"CANCELLATION_CODE\" : \"\", \"DIVERTED\" : 0, \"ACTUAL_ELAPSED_TIME\" : 50, \"AIR_TIME\" : 24, \"DISTANCE\" : 116, \"CARRIER_DELAY\" : \"\", \"WEATHER_DELAY\" : \"\", \"NAS_DELAY\" : \"\", \"SECURITY_DELAY\" : \"\", \"LATE_AIRCRAFT_DELAY\" : \"\", \"\" : \"\" }\r\n",
       "{ \"_id\" : ObjectId(\"59e9449772df5c7b88ae4130\"), \"YEAR\" : 2017, \"MONTH\" : 6, \"DAY_OF_MONTH\" : 15, \"FL_DATE\" : \"2017-06-15\", \"AIRLINE_ID\" : 20304, \"CARRIER\" : \"OO\", \"FL_NUM\" : 2887, \"ORIGIN_AIRPORT_ID\" : 13930, \"ORIGIN_AIRPORT_SEQ_ID\" : 1393004, \"ORIGIN_CITY_MARKET_ID\" : 30977, \"ORIGIN\" : \"ORD\", \"ORIGIN_CITY_NAME\" : \"Chicago, IL\", \"ORIGIN_STATE_ABR\" : \"IL\", \"ORIGIN_STATE_NM\" : \"Illinois\", \"DEST_AIRPORT_ID\" : 13931, \"DEST_AIRPORT_SEQ_ID\" : 1393102, \"DEST_CITY_MARKET_ID\" : 33667, \"DEST\" : \"ORF\", \"DEST_CITY_NAME\" : \"Norfolk, VA\", \"DEST_STATE_ABR\" : \"VA\", \"DEST_STATE_NM\" : \"Virginia\", \"DEP_TIME\" : 1249, \"DEP_DELAY\" : 44, \"DEP_DELAY_NEW\" : 44, \"WHEELS_OFF\" : 1313, \"WHEELS_ON\" : 1559, \"CRS_ARR_TIME\" : 1515, \"ARR_TIME\" : 1603, \"ARR_DELAY\" : 48, \"ARR_DELAY_NEW\" : 48, \"CANCELLED\" : 0, \"CANCELLATION_CODE\" : \"\", \"DIVERTED\" : 0, \"ACTUAL_ELAPSED_TIME\" : 134, \"AIR_TIME\" : 106, \"DISTANCE\" : 717, \"CARRIER_DELAY\" : 0, \"WEATHER_DELAY\" : 0, \"NAS_DELAY\" : 4, \"SECURITY_DELAY\" : 0, \"LATE_AIRCRAFT_DELAY\" : 44, \"\" : \"\" }\r\n",
       "{ \"_id\" : ObjectId(\"59e9449772df5c7b88ae4131\"), \"YEAR\" : 2017, \"MONTH\" : 6, \"DAY_OF_MONTH\" : 15, \"FL_DATE\" : \"2017-06-15\", \"AIRLINE_ID\" : 20304, \"CARRIER\" : \"OO\", \"FL_NUM\" : 2888, \"ORIGIN_AIRPORT_ID\" : 13930, \"ORIGIN_AIRPORT_SEQ_ID\" : 1393004, \"ORIGIN_CITY_MARKET_ID\" : 30977, \"ORIGIN\" : \"ORD\", \"ORIGIN_CITY_NAME\" : \"Chicago, IL\", \"ORIGIN_STATE_ABR\" : \"IL\", \"ORIGIN_STATE_NM\" : \"Illinois\", \"DEST_AIRPORT_ID\" : 11775, \"DEST_AIRPORT_SEQ_ID\" : 1177502, \"DEST_CITY_MARKET_ID\" : 31775, \"DEST\" : \"FSD\", \"DEST_CITY_NAME\" : \"Sioux Falls, SD\", \"DEST_STATE_ABR\" : \"SD\", \"DEST_STATE_NM\" : \"South Dakota\", \"DEP_TIME\" : 1637, \"DEP_DELAY\" : 387, \"DEP_DELAY_NEW\" : 387, \"WHEELS_OFF\" : 1653, \"WHEELS_ON\" : 1806, \"CRS_ARR_TIME\" : 1152, \"ARR_TIME\" : 1811, \"ARR_DELAY\" : 379, \"ARR_DELAY_NEW\" : 379, \"CANCELLED\" : 0, \"CANCELLATION_CODE\" : \"\", \"DIVERTED\" : 0, \"ACTUAL_ELAPSED_TIME\" : 94, \"AIR_TIME\" : 73, \"DISTANCE\" : 462, \"CARRIER_DELAY\" : 118, \"WEATHER_DELAY\" : 0, \"NAS_DELAY\" : 0, \"SECURITY_DELAY\" : 0, \"LATE_AIRCRAFT_DELAY\" : 261, \"\" : \"\" }\r\n",
       "{ \"_id\" : ObjectId(\"59e9449772df5c7b88ae4132\"), \"YEAR\" : 2017, \"MONTH\" : 6, \"DAY_OF_MONTH\" : 15, \"FL_DATE\" : \"2017-06-15\", \"AIRLINE_ID\" : 20304, \"CARRIER\" : \"OO\", \"FL_NUM\" : 2887, \"ORIGIN_AIRPORT_ID\" : 13931, \"ORIGIN_AIRPORT_SEQ_ID\" : 1393102, \"ORIGIN_CITY_MARKET_ID\" : 33667, \"ORIGIN\" : \"ORF\", \"ORIGIN_CITY_NAME\" : \"Norfolk, VA\", \"ORIGIN_STATE_ABR\" : \"VA\", \"ORIGIN_STATE_NM\" : \"Virginia\", \"DEST_AIRPORT_ID\" : 13930, \"DEST_AIRPORT_SEQ_ID\" : 1393004, \"DEST_CITY_MARKET_ID\" : 30977, \"DEST\" : \"ORD\", \"DEST_CITY_NAME\" : \"Chicago, IL\", \"DEST_STATE_ABR\" : \"IL\", \"DEST_STATE_NM\" : \"Illinois\", \"DEP_TIME\" : 1645, \"DEP_DELAY\" : 35, \"DEP_DELAY_NEW\" : 35, \"WHEELS_OFF\" : 1658, \"WHEELS_ON\" : 1744, \"CRS_ARR_TIME\" : 1732, \"ARR_TIME\" : 1751, \"ARR_DELAY\" : 19, \"ARR_DELAY_NEW\" : 19, \"CANCELLED\" : 0, \"CANCELLATION_CODE\" : \"\", \"DIVERTED\" : 0, \"ACTUAL_ELAPSED_TIME\" : 126, \"AIR_TIME\" : 106, \"DISTANCE\" : 717, \"CARRIER_DELAY\" : 0, \"WEATHER_DELAY\" : 0, \"NAS_DELAY\" : 0, \"SECURITY_DELAY\" : 0, \"LATE_AIRCRAFT_DELAY\" : 19, \"\" : \"\" }\r\n",
       "{ \"_id\" : ObjectId(\"59e9449772df5c7b88ae4133\"), \"YEAR\" : 2017, \"MONTH\" : 6, \"DAY_OF_MONTH\" : 15, \"FL_DATE\" : \"2017-06-15\", \"AIRLINE_ID\" : 20304, \"CARRIER\" : \"OO\", \"FL_NUM\" : 2888, \"ORIGIN_AIRPORT_ID\" : 11775, \"ORIGIN_AIRPORT_SEQ_ID\" : 1177502, \"ORIGIN_CITY_MARKET_ID\" : 31775, \"ORIGIN\" : \"FSD\", \"ORIGIN_CITY_NAME\" : \"Sioux Falls, SD\", \"ORIGIN_STATE_ABR\" : \"SD\", \"ORIGIN_STATE_NM\" : \"South Dakota\", \"DEST_AIRPORT_ID\" : 13930, \"DEST_AIRPORT_SEQ_ID\" : 1393004, \"DEST_CITY_MARKET_ID\" : 30977, \"DEST\" : \"ORD\", \"DEST_CITY_NAME\" : \"Chicago, IL\", \"DEST_STATE_ABR\" : \"IL\", \"DEST_STATE_NM\" : \"Illinois\", \"DEP_TIME\" : 1831, \"DEP_DELAY\" : 365, \"DEP_DELAY_NEW\" : 365, \"WHEELS_OFF\" : 1845, \"WHEELS_ON\" : 1957, \"CRS_ARR_TIME\" : 1409, \"ARR_TIME\" : 2025, \"ARR_DELAY\" : 376, \"ARR_DELAY_NEW\" : 376, \"CANCELLED\" : 0, \"CANCELLATION_CODE\" : \"\", \"DIVERTED\" : 0, \"ACTUAL_ELAPSED_TIME\" : 114, \"AIR_TIME\" : 72, \"DISTANCE\" : 462, \"CARRIER_DELAY\" : 0, \"WEATHER_DELAY\" : 0, \"NAS_DELAY\" : 11, \"SECURITY_DELAY\" : 0, \"LATE_AIRCRAFT_DELAY\" : 365, \"\" : \"\" }\r\n",
       "{ \"_id\" : ObjectId(\"59e9449772df5c7b88ae4134\"), \"YEAR\" : 2017, \"MONTH\" : 6, \"DAY_OF_MONTH\" : 15, \"FL_DATE\" : \"2017-06-15\", \"AIRLINE_ID\" : 20304, \"CARRIER\" : \"OO\", \"FL_NUM\" : 2889, \"ORIGIN_AIRPORT_ID\" : 13871, \"ORIGIN_AIRPORT_SEQ_ID\" : 1387102, \"ORIGIN_CITY_MARKET_ID\" : 33316, \"ORIGIN\" : \"OMA\", \"ORIGIN_CITY_NAME\" : \"Omaha, NE\", \"ORIGIN_STATE_ABR\" : \"NE\", \"ORIGIN_STATE_NM\" : \"Nebraska\", \"DEST_AIRPORT_ID\" : 13930, \"DEST_AIRPORT_SEQ_ID\" : 1393004, \"DEST_CITY_MARKET_ID\" : 30977, \"DEST\" : \"ORD\", \"DEST_CITY_NAME\" : \"Chicago, IL\", \"DEST_STATE_ABR\" : \"IL\", \"DEST_STATE_NM\" : \"Illinois\", \"DEP_TIME\" : 1547, \"DEP_DELAY\" : -5, \"DEP_DELAY_NEW\" : 0, \"WHEELS_OFF\" : 1602, \"WHEELS_ON\" : 1708, \"CRS_ARR_TIME\" : 1732, \"ARR_TIME\" : 1722, \"ARR_DELAY\" : -10, \"ARR_DELAY_NEW\" : 0, \"CANCELLED\" : 0, \"CANCELLATION_CODE\" : \"\", \"DIVERTED\" : 0, \"ACTUAL_ELAPSED_TIME\" : 95, \"AIR_TIME\" : 66, \"DISTANCE\" : 416, \"CARRIER_DELAY\" : \"\", \"WEATHER_DELAY\" : \"\", \"NAS_DELAY\" : \"\", \"SECURITY_DELAY\" : \"\", \"LATE_AIRCRAFT_DELAY\" : \"\", \"\" : \"\" }\r\n",
       "{ \"_id\" : ObjectId(\"59e9449772df5c7b88ae4135\"), \"YEAR\" : 2017, \"MONTH\" : 6, \"DAY_OF_MONTH\" : 15, \"FL_DATE\" : \"2017-06-15\", \"AIRLINE_ID\" : 20304, \"CARRIER\" : \"OO\", \"FL_NUM\" : 2889, \"ORIGIN_AIRPORT_ID\" : 13930, \"ORIGIN_AIRPORT_SEQ_ID\" : 1393004, \"ORIGIN_CITY_MARKET_ID\" : 30977, \"ORIGIN\" : \"ORD\", \"ORIGIN_CITY_NAME\" : \"Chicago, IL\", \"ORIGIN_STATE_ABR\" : \"IL\", \"ORIGIN_STATE_NM\" : \"Illinois\", \"DEST_AIRPORT_ID\" : 13871, \"DEST_AIRPORT_SEQ_ID\" : 1387102, \"DEST_CITY_MARKET_ID\" : 33316, \"DEST\" : \"OMA\", \"DEST_CITY_NAME\" : \"Omaha, NE\", \"DEST_STATE_ABR\" : \"NE\", \"DEST_STATE_NM\" : \"Nebraska\", \"DEP_TIME\" : 1339, \"DEP_DELAY\" : 9, \"DEP_DELAY_NEW\" : 9, \"WHEELS_OFF\" : 1409, \"WHEELS_ON\" : 1511, \"CRS_ARR_TIME\" : 1504, \"ARR_TIME\" : 1514, \"ARR_DELAY\" : 10, \"ARR_DELAY_NEW\" : 10, \"CANCELLED\" : 0, \"CANCELLATION_CODE\" : \"\", \"DIVERTED\" : 0, \"ACTUAL_ELAPSED_TIME\" : 95, \"AIR_TIME\" : 62, \"DISTANCE\" : 416, \"CARRIER_DELAY\" : \"\", \"WEATHER_DELAY\" : \"\", \"NAS_DELAY\" : \"\", \"SECURITY_DELAY\" : \"\", \"LATE_AIRCRAFT_DELAY\" : \"\", \"\" : \"\" }\r\n",
       "{ \"_id\" : ObjectId(\"59e9449772df5c7b88ae4136\"), \"YEAR\" : 2017, \"MONTH\" : 6, \"DAY_OF_MONTH\" : 15, \"FL_DATE\" : \"2017-06-15\", \"AIRLINE_ID\" : 20304, \"CARRIER\" : \"OO\", \"FL_NUM\" : 2890, \"ORIGIN_AIRPORT_ID\" : 11433, \"ORIGIN_AIRPORT_SEQ_ID\" : 1143302, \"ORIGIN_CITY_MARKET_ID\" : 31295, \"ORIGIN\" : \"DTW\", \"ORIGIN_CITY_NAME\" : \"Detroit, MI\", \"ORIGIN_STATE_ABR\" : \"MI\", \"ORIGIN_STATE_NM\" : \"Michigan\", \"DEST_AIRPORT_ID\" : 13930, \"DEST_AIRPORT_SEQ_ID\" : 1393004, \"DEST_CITY_MARKET_ID\" : 30977, \"DEST\" : \"ORD\", \"DEST_CITY_NAME\" : \"Chicago, IL\", \"DEST_STATE_ABR\" : \"IL\", \"DEST_STATE_NM\" : \"Illinois\", \"DEP_TIME\" : 602, \"DEP_DELAY\" : -3, \"DEP_DELAY_NEW\" : 0, \"WHEELS_OFF\" : 620, \"WHEELS_ON\" : 608, \"CRS_ARR_TIME\" : 622, \"ARR_TIME\" : 615, \"ARR_DELAY\" : -7, \"ARR_DELAY_NEW\" : 0, \"CANCELLED\" : 0, \"CANCELLATION_CODE\" : \"\", \"DIVERTED\" : 0, \"ACTUAL_ELAPSED_TIME\" : 73, \"AIR_TIME\" : 48, \"DISTANCE\" : 235, \"CARRIER_DELAY\" : \"\", \"WEATHER_DELAY\" : \"\", \"NAS_DELAY\" : \"\", \"SECURITY_DELAY\" : \"\", \"LATE_AIRCRAFT_DELAY\" : \"\", \"\" : \"\" }\r\n",
       "{ \"_id\" : ObjectId(\"59e9449772df5c7b88ae4137\"), \"YEAR\" : 2017, \"MONTH\" : 6, \"DAY_OF_MONTH\" : 15, \"FL_DATE\" : \"2017-06-15\", \"AIRLINE_ID\" : 20304, \"CARRIER\" : \"OO\", \"FL_NUM\" : 2891, \"ORIGIN_AIRPORT_ID\" : 14107, \"ORIGIN_AIRPORT_SEQ_ID\" : 1410702, \"ORIGIN_CITY_MARKET_ID\" : 30466, \"ORIGIN\" : \"PHX\", \"ORIGIN_CITY_NAME\" : \"Phoenix, AZ\", \"ORIGIN_STATE_ABR\" : \"AZ\", \"ORIGIN_STATE_NM\" : \"Arizona\", \"DEST_AIRPORT_ID\" : 12896, \"DEST_AIRPORT_SEQ_ID\" : 1289605, \"DEST_CITY_MARKET_ID\" : 32896, \"DEST\" : \"LBB\", \"DEST_CITY_NAME\" : \"Lubbock, TX\", \"DEST_STATE_ABR\" : \"TX\", \"DEST_STATE_NM\" : \"Texas\", \"DEP_TIME\" : 839, \"DEP_DELAY\" : -3, \"DEP_DELAY_NEW\" : 0, \"WHEELS_OFF\" : 902, \"WHEELS_ON\" : 1221, \"CRS_ARR_TIME\" : 1238, \"ARR_TIME\" : 1225, \"ARR_DELAY\" : -13, \"ARR_DELAY_NEW\" : 0, \"CANCELLED\" : 0, \"CANCELLATION_CODE\" : \"\", \"DIVERTED\" : 0, \"ACTUAL_ELAPSED_TIME\" : 106, \"AIR_TIME\" : 79, \"DISTANCE\" : 588, \"CARRIER_DELAY\" : \"\", \"WEATHER_DELAY\" : \"\", \"NAS_DELAY\" : \"\", \"SECURITY_DELAY\" : \"\", \"LATE_AIRCRAFT_DELAY\" : \"\", \"\" : \"\" }\r\n",
       "{ \"_id\" : ObjectId(\"59e9449772df5c7b88ae4138\"), \"YEAR\" : 2017, \"MONTH\" : 6, \"DAY_OF_MONTH\" : 15, \"FL_DATE\" : \"2017-06-15\", \"AIRLINE_ID\" : 20304, \"CARRIER\" : \"OO\", \"FL_NUM\" : 2892, \"ORIGIN_AIRPORT_ID\" : 13930, \"ORIGIN_AIRPORT_SEQ_ID\" : 1393004, \"ORIGIN_CITY_MARKET_ID\" : 30977, \"ORIGIN\" : \"ORD\", \"ORIGIN_CITY_NAME\" : \"Chicago, IL\", \"ORIGIN_STATE_ABR\" : \"IL\", \"ORIGIN_STATE_NM\" : \"Illinois\", \"DEST_AIRPORT_ID\" : 13367, \"DEST_AIRPORT_SEQ_ID\" : 1336703, \"DEST_CITY_MARKET_ID\" : 33367, \"DEST\" : \"MLI\", \"DEST_CITY_NAME\" : \"Moline, IL\", \"DEST_STATE_ABR\" : \"IL\", \"DEST_STATE_NM\" : \"Illinois\", \"DEP_TIME\" : 1511, \"DEP_DELAY\" : 11, \"DEP_DELAY_NEW\" : 11, \"WHEELS_OFF\" : 1534, \"WHEELS_ON\" : 1604, \"CRS_ARR_TIME\" : 1558, \"ARR_TIME\" : 1609, \"ARR_DELAY\" : 11, \"ARR_DELAY_NEW\" : 11, \"CANCELLED\" : 0, \"CANCELLATION_CODE\" : \"\", \"DIVERTED\" : 0, \"ACTUAL_ELAPSED_TIME\" : 58, \"AIR_TIME\" : 30, \"DISTANCE\" : 139, \"CARRIER_DELAY\" : \"\", \"WEATHER_DELAY\" : \"\", \"NAS_DELAY\" : \"\", \"SECURITY_DELAY\" : \"\", \"LATE_AIRCRAFT_DELAY\" : \"\", \"\" : \"\" }\r\n",
       "{ \"_id\" : ObjectId(\"59e9449772df5c7b88ae4139\"), \"YEAR\" : 2017, \"MONTH\" : 6, \"DAY_OF_MONTH\" : 15, \"FL_DATE\" : \"2017-06-15\", \"AIRLINE_ID\" : 20304, \"CARRIER\" : \"OO\", \"FL_NUM\" : 2892, \"ORIGIN_AIRPORT_ID\" : 13367, \"ORIGIN_AIRPORT_SEQ_ID\" : 1336703, \"ORIGIN_CITY_MARKET_ID\" : 33367, \"ORIGIN\" : \"MLI\", \"ORIGIN_CITY_NAME\" : \"Moline, IL\", \"ORIGIN_STATE_ABR\" : \"IL\", \"ORIGIN_STATE_NM\" : \"Illinois\", \"DEST_AIRPORT_ID\" : 13930, \"DEST_AIRPORT_SEQ_ID\" : 1393004, \"DEST_CITY_MARKET_ID\" : 30977, \"DEST\" : \"ORD\", \"DEST_CITY_NAME\" : \"Chicago, IL\", \"DEST_STATE_ABR\" : \"IL\", \"DEST_STATE_NM\" : \"Illinois\", \"DEP_TIME\" : 1630, \"DEP_DELAY\" : 5, \"DEP_DELAY_NEW\" : 5, \"WHEELS_OFF\" : 1644, \"WHEELS_ON\" : 1719, \"CRS_ARR_TIME\" : 1723, \"ARR_TIME\" : 1731, \"ARR_DELAY\" : 8, \"ARR_DELAY_NEW\" : 8, \"CANCELLED\" : 0, \"CANCELLATION_CODE\" : \"\", \"DIVERTED\" : 0, \"ACTUAL_ELAPSED_TIME\" : 61, \"AIR_TIME\" : 35, \"DISTANCE\" : 139, \"CARRIER_DELAY\" : \"\", \"WEATHER_DELAY\" : \"\", \"NAS_DELAY\" : \"\", \"SECURITY_DELAY\" : \"\", \"LATE_AIRCRAFT_DELAY\" : \"\", \"\" : \"\" }\r\n",
       "Type \"it\" for more"
      ]
     },
     "execution_count": 2,
     "metadata": {},
     "output_type": "execute_result"
    }
   ],
   "source": [
    "db.flightstats.aggregate([ {$match : {\"DAY_OF_MONTH\":15}}])"
   ]
  },
  {
   "cell_type": "markdown",
   "metadata": {},
   "source": [
    "** Add our project to get the data we are interested in **"
   ]
  },
  {
   "cell_type": "code",
   "execution_count": 3,
   "metadata": {},
   "outputs": [
    {
     "data": {
      "text/html": [
       "<style>a.disclosure:link{text-decoration:none;}a.disclosure:visited{text-decoration:none;}.disclosure{color:#337AB7;font-size:150%;}.syntax{color:grey;}.string{color:#9A334F;}.number{color:#5C9632;}.boolean{color:#AA9739;}.key{color:#403075;}.keyword{color:#AA9739;}.object.syntax{color:#337AB7;}.array.syntax{color:#337AB7;}></style><div id=\"182b597e-1c34-42ff-a3a0-08e7dd6b57e0\"></div>"
      ]
     },
     "metadata": {},
     "output_type": "display_data"
    },
    {
     "data": {
      "application/javascript": [
       "require([\"https://rawgit.com/caldwell/renderjson/master/renderjson.js\"], function() {document.getElementById('182b597e-1c34-42ff-a3a0-08e7dd6b57e0').appendChild(renderjson.set_show_to_level(2)([{\"FL_DATE\": \"2017-06-15\", \"FL_NUM\": 2880, \"ORIGIN_CITY_NAME\": \"Madison, WI\", \"DEST_CITY_NAME\": \"Chicago, IL\", \"DEST_STATE_ABR\": \"IL\", \"DEST_STATE_NM\": \"Illinois\", \"DEP_TIME\": 1808, \"ARR_TIME\": 1916, \"CANCELLED\": 0, \"DIVERTED\": 0, \"ACTUAL_ELAPSED_TIME\": 68, \"AIR_TIME\": 29}, {\"FL_DATE\": \"2017-06-15\", \"FL_NUM\": 2880, \"ORIGIN_CITY_NAME\": \"Chicago, IL\", \"DEST_CITY_NAME\": \"Madison, WI\", \"DEST_STATE_ABR\": \"WI\", \"DEST_STATE_NM\": \"Wisconsin\", \"DEP_TIME\": 1648, \"ARR_TIME\": 1747, \"CANCELLED\": 0, \"DIVERTED\": 0, \"ACTUAL_ELAPSED_TIME\": 59, \"AIR_TIME\": 30}, {\"FL_DATE\": \"2017-06-15\", \"FL_NUM\": 2881, \"ORIGIN_CITY_NAME\": \"Madison, WI\", \"DEST_CITY_NAME\": \"Chicago, IL\", \"DEST_STATE_ABR\": \"IL\", \"DEST_STATE_NM\": \"Illinois\", \"DEP_TIME\": 1506, \"ARR_TIME\": 1600, \"CANCELLED\": 0, \"DIVERTED\": 0, \"ACTUAL_ELAPSED_TIME\": 54, \"AIR_TIME\": 30}, {\"FL_DATE\": \"2017-06-15\", \"FL_NUM\": 2881, \"ORIGIN_CITY_NAME\": \"Chicago, IL\", \"DEST_CITY_NAME\": \"Madison, WI\", \"DEST_STATE_ABR\": \"WI\", \"DEST_STATE_NM\": \"Wisconsin\", \"DEP_TIME\": 1335, \"ARR_TIME\": 1445, \"CANCELLED\": 0, \"DIVERTED\": 0, \"ACTUAL_ELAPSED_TIME\": 70, \"AIR_TIME\": 28}, {\"FL_DATE\": \"2017-06-15\", \"FL_NUM\": 2882, \"ORIGIN_CITY_NAME\": \"Fort Wayne, IN\", \"DEST_CITY_NAME\": \"Chicago, IL\", \"DEST_STATE_ABR\": \"IL\", \"DEST_STATE_NM\": \"Illinois\", \"DEP_TIME\": 731, \"ARR_TIME\": 724, \"CANCELLED\": 0, \"DIVERTED\": 0, \"ACTUAL_ELAPSED_TIME\": 53, \"AIR_TIME\": 31}, {\"FL_DATE\": \"2017-06-15\", \"FL_NUM\": 2884, \"ORIGIN_CITY_NAME\": \"Chicago, IL\", \"DEST_CITY_NAME\": \"Toledo, OH\", \"DEST_STATE_ABR\": \"OH\", \"DEST_STATE_NM\": \"Ohio\", \"DEP_TIME\": 1821, \"ARR_TIME\": 2014, \"CANCELLED\": 0, \"DIVERTED\": 0, \"ACTUAL_ELAPSED_TIME\": 53, \"AIR_TIME\": 32}, {\"FL_DATE\": \"2017-06-15\", \"FL_NUM\": 2883, \"ORIGIN_CITY_NAME\": \"Chicago, IL\", \"DEST_CITY_NAME\": \"Fort Wayne, IN\", \"DEST_STATE_ABR\": \"IN\", \"DEST_STATE_NM\": \"Indiana\", \"DEP_TIME\": 1848, \"ARR_TIME\": 2046, \"CANCELLED\": 0, \"DIVERTED\": 0, \"ACTUAL_ELAPSED_TIME\": 58, \"AIR_TIME\": 27}, {\"FL_DATE\": \"2017-06-15\", \"FL_NUM\": 2884, \"ORIGIN_CITY_NAME\": \"Toledo, OH\", \"DEST_CITY_NAME\": \"Chicago, IL\", \"DEST_STATE_ABR\": \"IL\", \"DEST_STATE_NM\": \"Illinois\", \"DEP_TIME\": 2034, \"ARR_TIME\": 2042, \"CANCELLED\": 0, \"DIVERTED\": 0, \"ACTUAL_ELAPSED_TIME\": 68, \"AIR_TIME\": 44}, {\"FL_DATE\": \"2017-06-15\", \"FL_NUM\": 2885, \"ORIGIN_CITY_NAME\": \"Bloomington/Normal, IL\", \"DEST_CITY_NAME\": \"Chicago, IL\", \"DEST_STATE_ABR\": \"IL\", \"DEST_STATE_NM\": \"Illinois\", \"DEP_TIME\": 1632, \"ARR_TIME\": 1735, \"CANCELLED\": 0, \"DIVERTED\": 0, \"ACTUAL_ELAPSED_TIME\": 63, \"AIR_TIME\": 30}, {\"FL_DATE\": \"2017-06-15\", \"FL_NUM\": 2885, \"ORIGIN_CITY_NAME\": \"Chicago, IL\", \"DEST_CITY_NAME\": \"Bloomington/Normal, IL\", \"DEST_STATE_ABR\": \"IL\", \"DEST_STATE_NM\": \"Illinois\", \"DEP_TIME\": 1516, \"ARR_TIME\": 1606, \"CANCELLED\": 0, \"DIVERTED\": 0, \"ACTUAL_ELAPSED_TIME\": 50, \"AIR_TIME\": 24}, {\"FL_DATE\": \"2017-06-15\", \"FL_NUM\": 2887, \"ORIGIN_CITY_NAME\": \"Chicago, IL\", \"DEST_CITY_NAME\": \"Norfolk, VA\", \"DEST_STATE_ABR\": \"VA\", \"DEST_STATE_NM\": \"Virginia\", \"DEP_TIME\": 1249, \"ARR_TIME\": 1603, \"CANCELLED\": 0, \"DIVERTED\": 0, \"ACTUAL_ELAPSED_TIME\": 134, \"AIR_TIME\": 106}, {\"FL_DATE\": \"2017-06-15\", \"FL_NUM\": 2888, \"ORIGIN_CITY_NAME\": \"Chicago, IL\", \"DEST_CITY_NAME\": \"Sioux Falls, SD\", \"DEST_STATE_ABR\": \"SD\", \"DEST_STATE_NM\": \"South Dakota\", \"DEP_TIME\": 1637, \"ARR_TIME\": 1811, \"CANCELLED\": 0, \"DIVERTED\": 0, \"ACTUAL_ELAPSED_TIME\": 94, \"AIR_TIME\": 73}, {\"FL_DATE\": \"2017-06-15\", \"FL_NUM\": 2887, \"ORIGIN_CITY_NAME\": \"Norfolk, VA\", \"DEST_CITY_NAME\": \"Chicago, IL\", \"DEST_STATE_ABR\": \"IL\", \"DEST_STATE_NM\": \"Illinois\", \"DEP_TIME\": 1645, \"ARR_TIME\": 1751, \"CANCELLED\": 0, \"DIVERTED\": 0, \"ACTUAL_ELAPSED_TIME\": 126, \"AIR_TIME\": 106}, {\"FL_DATE\": \"2017-06-15\", \"FL_NUM\": 2888, \"ORIGIN_CITY_NAME\": \"Sioux Falls, SD\", \"DEST_CITY_NAME\": \"Chicago, IL\", \"DEST_STATE_ABR\": \"IL\", \"DEST_STATE_NM\": \"Illinois\", \"DEP_TIME\": 1831, \"ARR_TIME\": 2025, \"CANCELLED\": 0, \"DIVERTED\": 0, \"ACTUAL_ELAPSED_TIME\": 114, \"AIR_TIME\": 72}, {\"FL_DATE\": \"2017-06-15\", \"FL_NUM\": 2889, \"ORIGIN_CITY_NAME\": \"Omaha, NE\", \"DEST_CITY_NAME\": \"Chicago, IL\", \"DEST_STATE_ABR\": \"IL\", \"DEST_STATE_NM\": \"Illinois\", \"DEP_TIME\": 1547, \"ARR_TIME\": 1722, \"CANCELLED\": 0, \"DIVERTED\": 0, \"ACTUAL_ELAPSED_TIME\": 95, \"AIR_TIME\": 66}, {\"FL_DATE\": \"2017-06-15\", \"FL_NUM\": 2889, \"ORIGIN_CITY_NAME\": \"Chicago, IL\", \"DEST_CITY_NAME\": \"Omaha, NE\", \"DEST_STATE_ABR\": \"NE\", \"DEST_STATE_NM\": \"Nebraska\", \"DEP_TIME\": 1339, \"ARR_TIME\": 1514, \"CANCELLED\": 0, \"DIVERTED\": 0, \"ACTUAL_ELAPSED_TIME\": 95, \"AIR_TIME\": 62}, {\"FL_DATE\": \"2017-06-15\", \"FL_NUM\": 2890, \"ORIGIN_CITY_NAME\": \"Detroit, MI\", \"DEST_CITY_NAME\": \"Chicago, IL\", \"DEST_STATE_ABR\": \"IL\", \"DEST_STATE_NM\": \"Illinois\", \"DEP_TIME\": 602, \"ARR_TIME\": 615, \"CANCELLED\": 0, \"DIVERTED\": 0, \"ACTUAL_ELAPSED_TIME\": 73, \"AIR_TIME\": 48}, {\"FL_DATE\": \"2017-06-15\", \"FL_NUM\": 2891, \"ORIGIN_CITY_NAME\": \"Phoenix, AZ\", \"DEST_CITY_NAME\": \"Lubbock, TX\", \"DEST_STATE_ABR\": \"TX\", \"DEST_STATE_NM\": \"Texas\", \"DEP_TIME\": 839, \"ARR_TIME\": 1225, \"CANCELLED\": 0, \"DIVERTED\": 0, \"ACTUAL_ELAPSED_TIME\": 106, \"AIR_TIME\": 79}, {\"FL_DATE\": \"2017-06-15\", \"FL_NUM\": 2892, \"ORIGIN_CITY_NAME\": \"Chicago, IL\", \"DEST_CITY_NAME\": \"Moline, IL\", \"DEST_STATE_ABR\": \"IL\", \"DEST_STATE_NM\": \"Illinois\", \"DEP_TIME\": 1511, \"ARR_TIME\": 1609, \"CANCELLED\": 0, \"DIVERTED\": 0, \"ACTUAL_ELAPSED_TIME\": 58, \"AIR_TIME\": 30}, {\"FL_DATE\": \"2017-06-15\", \"FL_NUM\": 2892, \"ORIGIN_CITY_NAME\": \"Moline, IL\", \"DEST_CITY_NAME\": \"Chicago, IL\", \"DEST_STATE_ABR\": \"IL\", \"DEST_STATE_NM\": \"Illinois\", \"DEP_TIME\": 1630, \"ARR_TIME\": 1731, \"CANCELLED\": 0, \"DIVERTED\": 0, \"ACTUAL_ELAPSED_TIME\": 61, \"AIR_TIME\": 35}]))});"
      ]
     },
     "metadata": {},
     "output_type": "display_data"
    },
    {
     "data": {
      "text/plain": [
       "{ \"FL_DATE\" : \"2017-06-15\", \"FL_NUM\" : 2880, \"ORIGIN_CITY_NAME\" : \"Madison, WI\", \"DEST_CITY_NAME\" : \"Chicago, IL\", \"DEST_STATE_ABR\" : \"IL\", \"DEST_STATE_NM\" : \"Illinois\", \"DEP_TIME\" : 1808, \"ARR_TIME\" : 1916, \"CANCELLED\" : 0, \"DIVERTED\" : 0, \"ACTUAL_ELAPSED_TIME\" : 68, \"AIR_TIME\" : 29 }\r\n",
       "{ \"FL_DATE\" : \"2017-06-15\", \"FL_NUM\" : 2880, \"ORIGIN_CITY_NAME\" : \"Chicago, IL\", \"DEST_CITY_NAME\" : \"Madison, WI\", \"DEST_STATE_ABR\" : \"WI\", \"DEST_STATE_NM\" : \"Wisconsin\", \"DEP_TIME\" : 1648, \"ARR_TIME\" : 1747, \"CANCELLED\" : 0, \"DIVERTED\" : 0, \"ACTUAL_ELAPSED_TIME\" : 59, \"AIR_TIME\" : 30 }\r\n",
       "{ \"FL_DATE\" : \"2017-06-15\", \"FL_NUM\" : 2881, \"ORIGIN_CITY_NAME\" : \"Madison, WI\", \"DEST_CITY_NAME\" : \"Chicago, IL\", \"DEST_STATE_ABR\" : \"IL\", \"DEST_STATE_NM\" : \"Illinois\", \"DEP_TIME\" : 1506, \"ARR_TIME\" : 1600, \"CANCELLED\" : 0, \"DIVERTED\" : 0, \"ACTUAL_ELAPSED_TIME\" : 54, \"AIR_TIME\" : 30 }\r\n",
       "{ \"FL_DATE\" : \"2017-06-15\", \"FL_NUM\" : 2881, \"ORIGIN_CITY_NAME\" : \"Chicago, IL\", \"DEST_CITY_NAME\" : \"Madison, WI\", \"DEST_STATE_ABR\" : \"WI\", \"DEST_STATE_NM\" : \"Wisconsin\", \"DEP_TIME\" : 1335, \"ARR_TIME\" : 1445, \"CANCELLED\" : 0, \"DIVERTED\" : 0, \"ACTUAL_ELAPSED_TIME\" : 70, \"AIR_TIME\" : 28 }\r\n",
       "{ \"FL_DATE\" : \"2017-06-15\", \"FL_NUM\" : 2882, \"ORIGIN_CITY_NAME\" : \"Fort Wayne, IN\", \"DEST_CITY_NAME\" : \"Chicago, IL\", \"DEST_STATE_ABR\" : \"IL\", \"DEST_STATE_NM\" : \"Illinois\", \"DEP_TIME\" : 731, \"ARR_TIME\" : 724, \"CANCELLED\" : 0, \"DIVERTED\" : 0, \"ACTUAL_ELAPSED_TIME\" : 53, \"AIR_TIME\" : 31 }\r\n",
       "{ \"FL_DATE\" : \"2017-06-15\", \"FL_NUM\" : 2884, \"ORIGIN_CITY_NAME\" : \"Chicago, IL\", \"DEST_CITY_NAME\" : \"Toledo, OH\", \"DEST_STATE_ABR\" : \"OH\", \"DEST_STATE_NM\" : \"Ohio\", \"DEP_TIME\" : 1821, \"ARR_TIME\" : 2014, \"CANCELLED\" : 0, \"DIVERTED\" : 0, \"ACTUAL_ELAPSED_TIME\" : 53, \"AIR_TIME\" : 32 }\r\n",
       "{ \"FL_DATE\" : \"2017-06-15\", \"FL_NUM\" : 2883, \"ORIGIN_CITY_NAME\" : \"Chicago, IL\", \"DEST_CITY_NAME\" : \"Fort Wayne, IN\", \"DEST_STATE_ABR\" : \"IN\", \"DEST_STATE_NM\" : \"Indiana\", \"DEP_TIME\" : 1848, \"ARR_TIME\" : 2046, \"CANCELLED\" : 0, \"DIVERTED\" : 0, \"ACTUAL_ELAPSED_TIME\" : 58, \"AIR_TIME\" : 27 }\r\n",
       "{ \"FL_DATE\" : \"2017-06-15\", \"FL_NUM\" : 2884, \"ORIGIN_CITY_NAME\" : \"Toledo, OH\", \"DEST_CITY_NAME\" : \"Chicago, IL\", \"DEST_STATE_ABR\" : \"IL\", \"DEST_STATE_NM\" : \"Illinois\", \"DEP_TIME\" : 2034, \"ARR_TIME\" : 2042, \"CANCELLED\" : 0, \"DIVERTED\" : 0, \"ACTUAL_ELAPSED_TIME\" : 68, \"AIR_TIME\" : 44 }\r\n",
       "{ \"FL_DATE\" : \"2017-06-15\", \"FL_NUM\" : 2885, \"ORIGIN_CITY_NAME\" : \"Bloomington/Normal, IL\", \"DEST_CITY_NAME\" : \"Chicago, IL\", \"DEST_STATE_ABR\" : \"IL\", \"DEST_STATE_NM\" : \"Illinois\", \"DEP_TIME\" : 1632, \"ARR_TIME\" : 1735, \"CANCELLED\" : 0, \"DIVERTED\" : 0, \"ACTUAL_ELAPSED_TIME\" : 63, \"AIR_TIME\" : 30 }\r\n",
       "{ \"FL_DATE\" : \"2017-06-15\", \"FL_NUM\" : 2885, \"ORIGIN_CITY_NAME\" : \"Chicago, IL\", \"DEST_CITY_NAME\" : \"Bloomington/Normal, IL\", \"DEST_STATE_ABR\" : \"IL\", \"DEST_STATE_NM\" : \"Illinois\", \"DEP_TIME\" : 1516, \"ARR_TIME\" : 1606, \"CANCELLED\" : 0, \"DIVERTED\" : 0, \"ACTUAL_ELAPSED_TIME\" : 50, \"AIR_TIME\" : 24 }\r\n",
       "{ \"FL_DATE\" : \"2017-06-15\", \"FL_NUM\" : 2887, \"ORIGIN_CITY_NAME\" : \"Chicago, IL\", \"DEST_CITY_NAME\" : \"Norfolk, VA\", \"DEST_STATE_ABR\" : \"VA\", \"DEST_STATE_NM\" : \"Virginia\", \"DEP_TIME\" : 1249, \"ARR_TIME\" : 1603, \"CANCELLED\" : 0, \"DIVERTED\" : 0, \"ACTUAL_ELAPSED_TIME\" : 134, \"AIR_TIME\" : 106 }\r\n",
       "{ \"FL_DATE\" : \"2017-06-15\", \"FL_NUM\" : 2888, \"ORIGIN_CITY_NAME\" : \"Chicago, IL\", \"DEST_CITY_NAME\" : \"Sioux Falls, SD\", \"DEST_STATE_ABR\" : \"SD\", \"DEST_STATE_NM\" : \"South Dakota\", \"DEP_TIME\" : 1637, \"ARR_TIME\" : 1811, \"CANCELLED\" : 0, \"DIVERTED\" : 0, \"ACTUAL_ELAPSED_TIME\" : 94, \"AIR_TIME\" : 73 }\r\n",
       "{ \"FL_DATE\" : \"2017-06-15\", \"FL_NUM\" : 2887, \"ORIGIN_CITY_NAME\" : \"Norfolk, VA\", \"DEST_CITY_NAME\" : \"Chicago, IL\", \"DEST_STATE_ABR\" : \"IL\", \"DEST_STATE_NM\" : \"Illinois\", \"DEP_TIME\" : 1645, \"ARR_TIME\" : 1751, \"CANCELLED\" : 0, \"DIVERTED\" : 0, \"ACTUAL_ELAPSED_TIME\" : 126, \"AIR_TIME\" : 106 }\r\n",
       "{ \"FL_DATE\" : \"2017-06-15\", \"FL_NUM\" : 2888, \"ORIGIN_CITY_NAME\" : \"Sioux Falls, SD\", \"DEST_CITY_NAME\" : \"Chicago, IL\", \"DEST_STATE_ABR\" : \"IL\", \"DEST_STATE_NM\" : \"Illinois\", \"DEP_TIME\" : 1831, \"ARR_TIME\" : 2025, \"CANCELLED\" : 0, \"DIVERTED\" : 0, \"ACTUAL_ELAPSED_TIME\" : 114, \"AIR_TIME\" : 72 }\r\n",
       "{ \"FL_DATE\" : \"2017-06-15\", \"FL_NUM\" : 2889, \"ORIGIN_CITY_NAME\" : \"Omaha, NE\", \"DEST_CITY_NAME\" : \"Chicago, IL\", \"DEST_STATE_ABR\" : \"IL\", \"DEST_STATE_NM\" : \"Illinois\", \"DEP_TIME\" : 1547, \"ARR_TIME\" : 1722, \"CANCELLED\" : 0, \"DIVERTED\" : 0, \"ACTUAL_ELAPSED_TIME\" : 95, \"AIR_TIME\" : 66 }\r\n",
       "{ \"FL_DATE\" : \"2017-06-15\", \"FL_NUM\" : 2889, \"ORIGIN_CITY_NAME\" : \"Chicago, IL\", \"DEST_CITY_NAME\" : \"Omaha, NE\", \"DEST_STATE_ABR\" : \"NE\", \"DEST_STATE_NM\" : \"Nebraska\", \"DEP_TIME\" : 1339, \"ARR_TIME\" : 1514, \"CANCELLED\" : 0, \"DIVERTED\" : 0, \"ACTUAL_ELAPSED_TIME\" : 95, \"AIR_TIME\" : 62 }\r\n",
       "{ \"FL_DATE\" : \"2017-06-15\", \"FL_NUM\" : 2890, \"ORIGIN_CITY_NAME\" : \"Detroit, MI\", \"DEST_CITY_NAME\" : \"Chicago, IL\", \"DEST_STATE_ABR\" : \"IL\", \"DEST_STATE_NM\" : \"Illinois\", \"DEP_TIME\" : 602, \"ARR_TIME\" : 615, \"CANCELLED\" : 0, \"DIVERTED\" : 0, \"ACTUAL_ELAPSED_TIME\" : 73, \"AIR_TIME\" : 48 }\r\n",
       "{ \"FL_DATE\" : \"2017-06-15\", \"FL_NUM\" : 2891, \"ORIGIN_CITY_NAME\" : \"Phoenix, AZ\", \"DEST_CITY_NAME\" : \"Lubbock, TX\", \"DEST_STATE_ABR\" : \"TX\", \"DEST_STATE_NM\" : \"Texas\", \"DEP_TIME\" : 839, \"ARR_TIME\" : 1225, \"CANCELLED\" : 0, \"DIVERTED\" : 0, \"ACTUAL_ELAPSED_TIME\" : 106, \"AIR_TIME\" : 79 }\r\n",
       "{ \"FL_DATE\" : \"2017-06-15\", \"FL_NUM\" : 2892, \"ORIGIN_CITY_NAME\" : \"Chicago, IL\", \"DEST_CITY_NAME\" : \"Moline, IL\", \"DEST_STATE_ABR\" : \"IL\", \"DEST_STATE_NM\" : \"Illinois\", \"DEP_TIME\" : 1511, \"ARR_TIME\" : 1609, \"CANCELLED\" : 0, \"DIVERTED\" : 0, \"ACTUAL_ELAPSED_TIME\" : 58, \"AIR_TIME\" : 30 }\r\n",
       "{ \"FL_DATE\" : \"2017-06-15\", \"FL_NUM\" : 2892, \"ORIGIN_CITY_NAME\" : \"Moline, IL\", \"DEST_CITY_NAME\" : \"Chicago, IL\", \"DEST_STATE_ABR\" : \"IL\", \"DEST_STATE_NM\" : \"Illinois\", \"DEP_TIME\" : 1630, \"ARR_TIME\" : 1731, \"CANCELLED\" : 0, \"DIVERTED\" : 0, \"ACTUAL_ELAPSED_TIME\" : 61, \"AIR_TIME\" : 35 }\r\n",
       "Type \"it\" for more"
      ]
     },
     "execution_count": 3,
     "metadata": {},
     "output_type": "execute_result"
    }
   ],
   "source": [
    "db.flightstats.aggregate(    [{$match : {\"DAY_OF_MONTH\":15}},\n",
    "    { $project : {\"_id\" : 0,\"FL_DATE\" : 1, \"FL_NUM\" : 1, \"ORIGIN_CITY_NAME\" : 1, \n",
    "              \"DEST_CITY_NAME\" : 1, \"DEST_STATE_ABR\" : 1, \"DEST_STATE_NM\" : 1, \n",
    "              \"DEP_TIME\" : 1, \"ARR_TIME\" : 1, \"CANCELLED\" : 1, \n",
    "               \"DIVERTED\" : 1, \"ACTUAL_ELAPSED_TIME\" : 1, \"AIR_TIME\" : 1}}]);"
   ]
  },
  {
   "cell_type": "markdown",
   "metadata": {},
   "source": [
    "** Update the match to grab the data we care about **"
   ]
  },
  {
   "cell_type": "code",
   "execution_count": 4,
   "metadata": {},
   "outputs": [
    {
     "data": {
      "text/html": [
       "<style>a.disclosure:link{text-decoration:none;}a.disclosure:visited{text-decoration:none;}.disclosure{color:#337AB7;font-size:150%;}.syntax{color:grey;}.string{color:#9A334F;}.number{color:#5C9632;}.boolean{color:#AA9739;}.key{color:#403075;}.keyword{color:#AA9739;}.object.syntax{color:#337AB7;}.array.syntax{color:#337AB7;}></style><div id=\"06255c56-564b-44bb-9906-08f68e48949a\"></div>"
      ]
     },
     "metadata": {},
     "output_type": "display_data"
    },
    {
     "data": {
      "application/javascript": [
       "require([\"https://rawgit.com/caldwell/renderjson/master/renderjson.js\"], function() {document.getElementById('06255c56-564b-44bb-9906-08f68e48949a').appendChild(renderjson.set_show_to_level(2)([{\"FL_DATE\": \"2017-06-15\", \"FL_NUM\": 4474, \"ORIGIN_CITY_NAME\": \"Minneapolis, MN\", \"DEST_CITY_NAME\": \"Cleveland, OH\", \"DEST_STATE_ABR\": \"OH\", \"DEST_STATE_NM\": \"Ohio\", \"DEP_TIME\": 1502, \"ARR_TIME\": 1749, \"CANCELLED\": 0, \"DIVERTED\": 0, \"ACTUAL_ELAPSED_TIME\": 107, \"AIR_TIME\": 81}, {\"FL_DATE\": \"2017-06-15\", \"FL_NUM\": 4520, \"ORIGIN_CITY_NAME\": \"Detroit, MI\", \"DEST_CITY_NAME\": \"Columbus, OH\", \"DEST_STATE_ABR\": \"OH\", \"DEST_STATE_NM\": \"Ohio\", \"DEP_TIME\": 830, \"ARR_TIME\": 936, \"CANCELLED\": 0, \"DIVERTED\": 0, \"ACTUAL_ELAPSED_TIME\": 66, \"AIR_TIME\": 33}, {\"FL_DATE\": \"2017-06-15\", \"FL_NUM\": 4527, \"ORIGIN_CITY_NAME\": \"Detroit, MI\", \"DEST_CITY_NAME\": \"Columbus, OH\", \"DEST_STATE_ABR\": \"OH\", \"DEST_STATE_NM\": \"Ohio\", \"DEP_TIME\": 1346, \"ARR_TIME\": 1443, \"CANCELLED\": 0, \"DIVERTED\": 0, \"ACTUAL_ELAPSED_TIME\": 57, \"AIR_TIME\": 33}, {\"FL_DATE\": \"2017-06-15\", \"FL_NUM\": 4678, \"ORIGIN_CITY_NAME\": \"Minneapolis, MN\", \"DEST_CITY_NAME\": \"Dayton, OH\", \"DEST_STATE_ABR\": \"OH\", \"DEST_STATE_NM\": \"Ohio\", \"DEP_TIME\": 1458, \"ARR_TIME\": 1732, \"CANCELLED\": 0, \"DIVERTED\": 0, \"ACTUAL_ELAPSED_TIME\": 94, \"AIR_TIME\": 79}, {\"FL_DATE\": \"2017-06-15\", \"FL_NUM\": 4831, \"ORIGIN_CITY_NAME\": \"Detroit, MI\", \"DEST_CITY_NAME\": \"Dayton, OH\", \"DEST_STATE_ABR\": \"OH\", \"DEST_STATE_NM\": \"Ohio\", \"DEP_TIME\": 1556, \"ARR_TIME\": 1641, \"CANCELLED\": 0, \"DIVERTED\": 0, \"ACTUAL_ELAPSED_TIME\": 45, \"AIR_TIME\": 29}, {\"FL_DATE\": \"2017-06-15\", \"FL_NUM\": 4904, \"ORIGIN_CITY_NAME\": \"Minneapolis, MN\", \"DEST_CITY_NAME\": \"Dayton, OH\", \"DEST_STATE_ABR\": \"OH\", \"DEST_STATE_NM\": \"Ohio\", \"DEP_TIME\": 950, \"ARR_TIME\": 1229, \"CANCELLED\": 0, \"DIVERTED\": 0, \"ACTUAL_ELAPSED_TIME\": 99, \"AIR_TIME\": 78}, {\"FL_DATE\": \"2017-06-15\", \"FL_NUM\": 4951, \"ORIGIN_CITY_NAME\": \"Detroit, MI\", \"DEST_CITY_NAME\": \"Cleveland, OH\", \"DEST_STATE_ABR\": \"OH\", \"DEST_STATE_NM\": \"Ohio\", \"DEP_TIME\": 1404, \"ARR_TIME\": 1504, \"CANCELLED\": 0, \"DIVERTED\": 0, \"ACTUAL_ELAPSED_TIME\": 60, \"AIR_TIME\": 23}, {\"FL_DATE\": \"2017-06-15\", \"FL_NUM\": 5386, \"ORIGIN_CITY_NAME\": \"Chicago, IL\", \"DEST_CITY_NAME\": \"Dayton, OH\", \"DEST_STATE_ABR\": \"OH\", \"DEST_STATE_NM\": \"Ohio\", \"DEP_TIME\": 1735, \"ARR_TIME\": 1953, \"CANCELLED\": 0, \"DIVERTED\": 0, \"ACTUAL_ELAPSED_TIME\": 78, \"AIR_TIME\": 44}, {\"FL_DATE\": \"2017-06-15\", \"FL_NUM\": 5420, \"ORIGIN_CITY_NAME\": \"Chicago, IL\", \"DEST_CITY_NAME\": \"Cleveland, OH\", \"DEST_STATE_ABR\": \"OH\", \"DEST_STATE_NM\": \"Ohio\", \"DEP_TIME\": 1503, \"ARR_TIME\": 1718, \"CANCELLED\": 0, \"DIVERTED\": 0, \"ACTUAL_ELAPSED_TIME\": 75, \"AIR_TIME\": 53}, {\"FL_DATE\": \"2017-06-15\", \"FL_NUM\": 5602, \"ORIGIN_CITY_NAME\": \"Chicago, IL\", \"DEST_CITY_NAME\": \"Columbus, OH\", \"DEST_STATE_ABR\": \"OH\", \"DEST_STATE_NM\": \"Ohio\", \"DEP_TIME\": 1727, \"ARR_TIME\": 1948, \"CANCELLED\": 0, \"DIVERTED\": 0, \"ACTUAL_ELAPSED_TIME\": 81, \"AIR_TIME\": 51}, {\"FL_DATE\": \"2017-06-15\", \"FL_NUM\": 5697, \"ORIGIN_CITY_NAME\": \"Chicago, IL\", \"DEST_CITY_NAME\": \"Dayton, OH\", \"DEST_STATE_ABR\": \"OH\", \"DEST_STATE_NM\": \"Ohio\", \"DEP_TIME\": 1357, \"ARR_TIME\": 1617, \"CANCELLED\": 0, \"DIVERTED\": 0, \"ACTUAL_ELAPSED_TIME\": 80, \"AIR_TIME\": 43}, {\"FL_DATE\": \"2017-06-15\", \"FL_NUM\": 5779, \"ORIGIN_CITY_NAME\": \"Chicago, IL\", \"DEST_CITY_NAME\": \"Akron, OH\", \"DEST_STATE_ABR\": \"OH\", \"DEST_STATE_NM\": \"Ohio\", \"DEP_TIME\": 1923, \"ARR_TIME\": 2148, \"CANCELLED\": 0, \"DIVERTED\": 0, \"ACTUAL_ELAPSED_TIME\": 85, \"AIR_TIME\": 54}, {\"FL_DATE\": \"2017-06-15\", \"FL_NUM\": 5914, \"ORIGIN_CITY_NAME\": \"Chicago, IL\", \"DEST_CITY_NAME\": \"Dayton, OH\", \"DEST_STATE_ABR\": \"OH\", \"DEST_STATE_NM\": \"Ohio\", \"DEP_TIME\": 1517, \"ARR_TIME\": 1720, \"CANCELLED\": 0, \"DIVERTED\": 0, \"ACTUAL_ELAPSED_TIME\": 63, \"AIR_TIME\": 42}, {\"FL_DATE\": \"2017-06-15\", \"FL_NUM\": 5942, \"ORIGIN_CITY_NAME\": \"Chicago, IL\", \"DEST_CITY_NAME\": \"Akron, OH\", \"DEST_STATE_ABR\": \"OH\", \"DEST_STATE_NM\": \"Ohio\", \"DEP_TIME\": 1135, \"ARR_TIME\": 1354, \"CANCELLED\": 0, \"DIVERTED\": 0, \"ACTUAL_ELAPSED_TIME\": 79, \"AIR_TIME\": 54}, {\"FL_DATE\": \"2017-06-15\", \"FL_NUM\": 1830, \"ORIGIN_CITY_NAME\": \"Charlotte, NC\", \"DEST_CITY_NAME\": \"Cleveland, OH\", \"DEST_STATE_ABR\": \"OH\", \"DEST_STATE_NM\": \"Ohio\", \"DEP_TIME\": 753, \"ARR_TIME\": 927, \"CANCELLED\": 0, \"DIVERTED\": 0, \"ACTUAL_ELAPSED_TIME\": 94, \"AIR_TIME\": 67}, {\"FL_DATE\": \"2017-06-15\", \"FL_NUM\": 2239, \"ORIGIN_CITY_NAME\": \"Dallas/Fort Worth, TX\", \"DEST_CITY_NAME\": \"Columbus, OH\", \"DEST_STATE_ABR\": \"OH\", \"DEST_STATE_NM\": \"Ohio\", \"DEP_TIME\": 1824, \"ARR_TIME\": 2141, \"CANCELLED\": 0, \"DIVERTED\": 0, \"ACTUAL_ELAPSED_TIME\": 137, \"AIR_TIME\": 120}, {\"FL_DATE\": \"2017-06-15\", \"FL_NUM\": 508, \"ORIGIN_CITY_NAME\": \"Los Angeles, CA\", \"DEST_CITY_NAME\": \"Columbus, OH\", \"DEST_STATE_ABR\": \"OH\", \"DEST_STATE_NM\": \"Ohio\", \"DEP_TIME\": 937, \"ARR_TIME\": 1701, \"CANCELLED\": 0, \"DIVERTED\": 0, \"ACTUAL_ELAPSED_TIME\": 264, \"AIR_TIME\": 233}, {\"FL_DATE\": \"2017-06-15\", \"FL_NUM\": 1064, \"ORIGIN_CITY_NAME\": \"Orlando, FL\", \"DEST_CITY_NAME\": \"Cleveland, OH\", \"DEST_STATE_ABR\": \"OH\", \"DEST_STATE_NM\": \"Ohio\", \"DEP_TIME\": 1042, \"ARR_TIME\": 1257, \"CANCELLED\": 0, \"DIVERTED\": 0, \"ACTUAL_ELAPSED_TIME\": 135, \"AIR_TIME\": 112}, {\"FL_DATE\": \"2017-06-15\", \"FL_NUM\": 1068, \"ORIGIN_CITY_NAME\": \"Las Vegas, NV\", \"DEST_CITY_NAME\": \"Cleveland, OH\", \"DEST_STATE_ABR\": \"OH\", \"DEST_STATE_NM\": \"Ohio\", \"DEP_TIME\": 925, \"ARR_TIME\": 1624, \"CANCELLED\": 0, \"DIVERTED\": 0, \"ACTUAL_ELAPSED_TIME\": 239, \"AIR_TIME\": 211}, {\"FL_DATE\": \"2017-06-15\", \"FL_NUM\": 122, \"ORIGIN_CITY_NAME\": \"Myrtle Beach, SC\", \"DEST_CITY_NAME\": \"Akron, OH\", \"DEST_STATE_ABR\": \"OH\", \"DEST_STATE_NM\": \"Ohio\", \"DEP_TIME\": 1458, \"ARR_TIME\": 1626, \"CANCELLED\": 0, \"DIVERTED\": 0, \"ACTUAL_ELAPSED_TIME\": 88, \"AIR_TIME\": 74}]))});"
      ]
     },
     "metadata": {},
     "output_type": "display_data"
    },
    {
     "data": {
      "text/plain": [
       "{ \"FL_DATE\" : \"2017-06-15\", \"FL_NUM\" : 4474, \"ORIGIN_CITY_NAME\" : \"Minneapolis, MN\", \"DEST_CITY_NAME\" : \"Cleveland, OH\", \"DEST_STATE_ABR\" : \"OH\", \"DEST_STATE_NM\" : \"Ohio\", \"DEP_TIME\" : 1502, \"ARR_TIME\" : 1749, \"CANCELLED\" : 0, \"DIVERTED\" : 0, \"ACTUAL_ELAPSED_TIME\" : 107, \"AIR_TIME\" : 81 }\r\n",
       "{ \"FL_DATE\" : \"2017-06-15\", \"FL_NUM\" : 4520, \"ORIGIN_CITY_NAME\" : \"Detroit, MI\", \"DEST_CITY_NAME\" : \"Columbus, OH\", \"DEST_STATE_ABR\" : \"OH\", \"DEST_STATE_NM\" : \"Ohio\", \"DEP_TIME\" : 830, \"ARR_TIME\" : 936, \"CANCELLED\" : 0, \"DIVERTED\" : 0, \"ACTUAL_ELAPSED_TIME\" : 66, \"AIR_TIME\" : 33 }\r\n",
       "{ \"FL_DATE\" : \"2017-06-15\", \"FL_NUM\" : 4527, \"ORIGIN_CITY_NAME\" : \"Detroit, MI\", \"DEST_CITY_NAME\" : \"Columbus, OH\", \"DEST_STATE_ABR\" : \"OH\", \"DEST_STATE_NM\" : \"Ohio\", \"DEP_TIME\" : 1346, \"ARR_TIME\" : 1443, \"CANCELLED\" : 0, \"DIVERTED\" : 0, \"ACTUAL_ELAPSED_TIME\" : 57, \"AIR_TIME\" : 33 }\r\n",
       "{ \"FL_DATE\" : \"2017-06-15\", \"FL_NUM\" : 4678, \"ORIGIN_CITY_NAME\" : \"Minneapolis, MN\", \"DEST_CITY_NAME\" : \"Dayton, OH\", \"DEST_STATE_ABR\" : \"OH\", \"DEST_STATE_NM\" : \"Ohio\", \"DEP_TIME\" : 1458, \"ARR_TIME\" : 1732, \"CANCELLED\" : 0, \"DIVERTED\" : 0, \"ACTUAL_ELAPSED_TIME\" : 94, \"AIR_TIME\" : 79 }\r\n",
       "{ \"FL_DATE\" : \"2017-06-15\", \"FL_NUM\" : 4831, \"ORIGIN_CITY_NAME\" : \"Detroit, MI\", \"DEST_CITY_NAME\" : \"Dayton, OH\", \"DEST_STATE_ABR\" : \"OH\", \"DEST_STATE_NM\" : \"Ohio\", \"DEP_TIME\" : 1556, \"ARR_TIME\" : 1641, \"CANCELLED\" : 0, \"DIVERTED\" : 0, \"ACTUAL_ELAPSED_TIME\" : 45, \"AIR_TIME\" : 29 }\r\n",
       "{ \"FL_DATE\" : \"2017-06-15\", \"FL_NUM\" : 4904, \"ORIGIN_CITY_NAME\" : \"Minneapolis, MN\", \"DEST_CITY_NAME\" : \"Dayton, OH\", \"DEST_STATE_ABR\" : \"OH\", \"DEST_STATE_NM\" : \"Ohio\", \"DEP_TIME\" : 950, \"ARR_TIME\" : 1229, \"CANCELLED\" : 0, \"DIVERTED\" : 0, \"ACTUAL_ELAPSED_TIME\" : 99, \"AIR_TIME\" : 78 }\r\n",
       "{ \"FL_DATE\" : \"2017-06-15\", \"FL_NUM\" : 4951, \"ORIGIN_CITY_NAME\" : \"Detroit, MI\", \"DEST_CITY_NAME\" : \"Cleveland, OH\", \"DEST_STATE_ABR\" : \"OH\", \"DEST_STATE_NM\" : \"Ohio\", \"DEP_TIME\" : 1404, \"ARR_TIME\" : 1504, \"CANCELLED\" : 0, \"DIVERTED\" : 0, \"ACTUAL_ELAPSED_TIME\" : 60, \"AIR_TIME\" : 23 }\r\n",
       "{ \"FL_DATE\" : \"2017-06-15\", \"FL_NUM\" : 5386, \"ORIGIN_CITY_NAME\" : \"Chicago, IL\", \"DEST_CITY_NAME\" : \"Dayton, OH\", \"DEST_STATE_ABR\" : \"OH\", \"DEST_STATE_NM\" : \"Ohio\", \"DEP_TIME\" : 1735, \"ARR_TIME\" : 1953, \"CANCELLED\" : 0, \"DIVERTED\" : 0, \"ACTUAL_ELAPSED_TIME\" : 78, \"AIR_TIME\" : 44 }\r\n",
       "{ \"FL_DATE\" : \"2017-06-15\", \"FL_NUM\" : 5420, \"ORIGIN_CITY_NAME\" : \"Chicago, IL\", \"DEST_CITY_NAME\" : \"Cleveland, OH\", \"DEST_STATE_ABR\" : \"OH\", \"DEST_STATE_NM\" : \"Ohio\", \"DEP_TIME\" : 1503, \"ARR_TIME\" : 1718, \"CANCELLED\" : 0, \"DIVERTED\" : 0, \"ACTUAL_ELAPSED_TIME\" : 75, \"AIR_TIME\" : 53 }\r\n",
       "{ \"FL_DATE\" : \"2017-06-15\", \"FL_NUM\" : 5602, \"ORIGIN_CITY_NAME\" : \"Chicago, IL\", \"DEST_CITY_NAME\" : \"Columbus, OH\", \"DEST_STATE_ABR\" : \"OH\", \"DEST_STATE_NM\" : \"Ohio\", \"DEP_TIME\" : 1727, \"ARR_TIME\" : 1948, \"CANCELLED\" : 0, \"DIVERTED\" : 0, \"ACTUAL_ELAPSED_TIME\" : 81, \"AIR_TIME\" : 51 }\r\n",
       "{ \"FL_DATE\" : \"2017-06-15\", \"FL_NUM\" : 5697, \"ORIGIN_CITY_NAME\" : \"Chicago, IL\", \"DEST_CITY_NAME\" : \"Dayton, OH\", \"DEST_STATE_ABR\" : \"OH\", \"DEST_STATE_NM\" : \"Ohio\", \"DEP_TIME\" : 1357, \"ARR_TIME\" : 1617, \"CANCELLED\" : 0, \"DIVERTED\" : 0, \"ACTUAL_ELAPSED_TIME\" : 80, \"AIR_TIME\" : 43 }\r\n",
       "{ \"FL_DATE\" : \"2017-06-15\", \"FL_NUM\" : 5779, \"ORIGIN_CITY_NAME\" : \"Chicago, IL\", \"DEST_CITY_NAME\" : \"Akron, OH\", \"DEST_STATE_ABR\" : \"OH\", \"DEST_STATE_NM\" : \"Ohio\", \"DEP_TIME\" : 1923, \"ARR_TIME\" : 2148, \"CANCELLED\" : 0, \"DIVERTED\" : 0, \"ACTUAL_ELAPSED_TIME\" : 85, \"AIR_TIME\" : 54 }\r\n",
       "{ \"FL_DATE\" : \"2017-06-15\", \"FL_NUM\" : 5914, \"ORIGIN_CITY_NAME\" : \"Chicago, IL\", \"DEST_CITY_NAME\" : \"Dayton, OH\", \"DEST_STATE_ABR\" : \"OH\", \"DEST_STATE_NM\" : \"Ohio\", \"DEP_TIME\" : 1517, \"ARR_TIME\" : 1720, \"CANCELLED\" : 0, \"DIVERTED\" : 0, \"ACTUAL_ELAPSED_TIME\" : 63, \"AIR_TIME\" : 42 }\r\n",
       "{ \"FL_DATE\" : \"2017-06-15\", \"FL_NUM\" : 5942, \"ORIGIN_CITY_NAME\" : \"Chicago, IL\", \"DEST_CITY_NAME\" : \"Akron, OH\", \"DEST_STATE_ABR\" : \"OH\", \"DEST_STATE_NM\" : \"Ohio\", \"DEP_TIME\" : 1135, \"ARR_TIME\" : 1354, \"CANCELLED\" : 0, \"DIVERTED\" : 0, \"ACTUAL_ELAPSED_TIME\" : 79, \"AIR_TIME\" : 54 }\r\n",
       "{ \"FL_DATE\" : \"2017-06-15\", \"FL_NUM\" : 1830, \"ORIGIN_CITY_NAME\" : \"Charlotte, NC\", \"DEST_CITY_NAME\" : \"Cleveland, OH\", \"DEST_STATE_ABR\" : \"OH\", \"DEST_STATE_NM\" : \"Ohio\", \"DEP_TIME\" : 753, \"ARR_TIME\" : 927, \"CANCELLED\" : 0, \"DIVERTED\" : 0, \"ACTUAL_ELAPSED_TIME\" : 94, \"AIR_TIME\" : 67 }\r\n",
       "{ \"FL_DATE\" : \"2017-06-15\", \"FL_NUM\" : 2239, \"ORIGIN_CITY_NAME\" : \"Dallas/Fort Worth, TX\", \"DEST_CITY_NAME\" : \"Columbus, OH\", \"DEST_STATE_ABR\" : \"OH\", \"DEST_STATE_NM\" : \"Ohio\", \"DEP_TIME\" : 1824, \"ARR_TIME\" : 2141, \"CANCELLED\" : 0, \"DIVERTED\" : 0, \"ACTUAL_ELAPSED_TIME\" : 137, \"AIR_TIME\" : 120 }\r\n",
       "{ \"FL_DATE\" : \"2017-06-15\", \"FL_NUM\" : 508, \"ORIGIN_CITY_NAME\" : \"Los Angeles, CA\", \"DEST_CITY_NAME\" : \"Columbus, OH\", \"DEST_STATE_ABR\" : \"OH\", \"DEST_STATE_NM\" : \"Ohio\", \"DEP_TIME\" : 937, \"ARR_TIME\" : 1701, \"CANCELLED\" : 0, \"DIVERTED\" : 0, \"ACTUAL_ELAPSED_TIME\" : 264, \"AIR_TIME\" : 233 }\r\n",
       "{ \"FL_DATE\" : \"2017-06-15\", \"FL_NUM\" : 1064, \"ORIGIN_CITY_NAME\" : \"Orlando, FL\", \"DEST_CITY_NAME\" : \"Cleveland, OH\", \"DEST_STATE_ABR\" : \"OH\", \"DEST_STATE_NM\" : \"Ohio\", \"DEP_TIME\" : 1042, \"ARR_TIME\" : 1257, \"CANCELLED\" : 0, \"DIVERTED\" : 0, \"ACTUAL_ELAPSED_TIME\" : 135, \"AIR_TIME\" : 112 }\r\n",
       "{ \"FL_DATE\" : \"2017-06-15\", \"FL_NUM\" : 1068, \"ORIGIN_CITY_NAME\" : \"Las Vegas, NV\", \"DEST_CITY_NAME\" : \"Cleveland, OH\", \"DEST_STATE_ABR\" : \"OH\", \"DEST_STATE_NM\" : \"Ohio\", \"DEP_TIME\" : 925, \"ARR_TIME\" : 1624, \"CANCELLED\" : 0, \"DIVERTED\" : 0, \"ACTUAL_ELAPSED_TIME\" : 239, \"AIR_TIME\" : 211 }\r\n",
       "{ \"FL_DATE\" : \"2017-06-15\", \"FL_NUM\" : 122, \"ORIGIN_CITY_NAME\" : \"Myrtle Beach, SC\", \"DEST_CITY_NAME\" : \"Akron, OH\", \"DEST_STATE_ABR\" : \"OH\", \"DEST_STATE_NM\" : \"Ohio\", \"DEP_TIME\" : 1458, \"ARR_TIME\" : 1626, \"CANCELLED\" : 0, \"DIVERTED\" : 0, \"ACTUAL_ELAPSED_TIME\" : 88, \"AIR_TIME\" : 74 }\r\n",
       "Type \"it\" for more"
      ]
     },
     "execution_count": 4,
     "metadata": {},
     "output_type": "execute_result"
    }
   ],
   "source": [
    "db.flightstats.aggregate([ \n",
    "    {$match : { $and: [\n",
    "                       {\"DEST_STATE_ABR\": {$eq: \"OH\"}},\n",
    "                       {\"MONTH\": {$eq: 6}}, \n",
    "                       {\"DAY_OF_MONTH\": {$eq: 15}},\n",
    "                       {\"ARR_DELAY\": {$lt: 0}} ]}},\n",
    "    { $project : {\"_id\" : 0,\"FL_DATE\" : 1, \"FL_NUM\" : 1, \"ORIGIN_CITY_NAME\" : 1, \n",
    "              \"DEST_CITY_NAME\" : 1, \"DEST_STATE_ABR\" : 1, \"DEST_STATE_NM\" : 1, \n",
    "              \"DEP_TIME\" : 1, \"ARR_TIME\" : 1, \"CANCELLED\" : 1, \n",
    "               \"DIVERTED\" : 1, \"ACTUAL_ELAPSED_TIME\" : 1, \"AIR_TIME\" : 1}}\n",
    "]);"
   ]
  },
  {
   "cell_type": "markdown",
   "metadata": {},
   "source": [
    "** Add our sort to order the data **"
   ]
  },
  {
   "cell_type": "code",
   "execution_count": 5,
   "metadata": {},
   "outputs": [
    {
     "data": {
      "text/html": [
       "<style>a.disclosure:link{text-decoration:none;}a.disclosure:visited{text-decoration:none;}.disclosure{color:#337AB7;font-size:150%;}.syntax{color:grey;}.string{color:#9A334F;}.number{color:#5C9632;}.boolean{color:#AA9739;}.key{color:#403075;}.keyword{color:#AA9739;}.object.syntax{color:#337AB7;}.array.syntax{color:#337AB7;}></style><div id=\"3299aa29-f154-48ad-90bd-26c3c402f8d5\"></div>"
      ]
     },
     "metadata": {},
     "output_type": "display_data"
    },
    {
     "data": {
      "application/javascript": [
       "require([\"https://rawgit.com/caldwell/renderjson/master/renderjson.js\"], function() {document.getElementById('3299aa29-f154-48ad-90bd-26c3c402f8d5').appendChild(renderjson.set_show_to_level(2)([{\"FL_DATE\": \"2017-06-15\", \"FL_NUM\": 4474, \"ORIGIN_CITY_NAME\": \"Minneapolis, MN\", \"DEST_CITY_NAME\": \"Cleveland, OH\", \"DEST_STATE_ABR\": \"OH\", \"DEST_STATE_NM\": \"Ohio\", \"DEP_TIME\": 1502, \"ARR_TIME\": 1749, \"CANCELLED\": 0, \"DIVERTED\": 0, \"ACTUAL_ELAPSED_TIME\": 107, \"AIR_TIME\": 81}, {\"FL_DATE\": \"2017-06-15\", \"FL_NUM\": 4520, \"ORIGIN_CITY_NAME\": \"Detroit, MI\", \"DEST_CITY_NAME\": \"Columbus, OH\", \"DEST_STATE_ABR\": \"OH\", \"DEST_STATE_NM\": \"Ohio\", \"DEP_TIME\": 830, \"ARR_TIME\": 936, \"CANCELLED\": 0, \"DIVERTED\": 0, \"ACTUAL_ELAPSED_TIME\": 66, \"AIR_TIME\": 33}, {\"FL_DATE\": \"2017-06-15\", \"FL_NUM\": 4527, \"ORIGIN_CITY_NAME\": \"Detroit, MI\", \"DEST_CITY_NAME\": \"Columbus, OH\", \"DEST_STATE_ABR\": \"OH\", \"DEST_STATE_NM\": \"Ohio\", \"DEP_TIME\": 1346, \"ARR_TIME\": 1443, \"CANCELLED\": 0, \"DIVERTED\": 0, \"ACTUAL_ELAPSED_TIME\": 57, \"AIR_TIME\": 33}, {\"FL_DATE\": \"2017-06-15\", \"FL_NUM\": 4678, \"ORIGIN_CITY_NAME\": \"Minneapolis, MN\", \"DEST_CITY_NAME\": \"Dayton, OH\", \"DEST_STATE_ABR\": \"OH\", \"DEST_STATE_NM\": \"Ohio\", \"DEP_TIME\": 1458, \"ARR_TIME\": 1732, \"CANCELLED\": 0, \"DIVERTED\": 0, \"ACTUAL_ELAPSED_TIME\": 94, \"AIR_TIME\": 79}, {\"FL_DATE\": \"2017-06-15\", \"FL_NUM\": 4831, \"ORIGIN_CITY_NAME\": \"Detroit, MI\", \"DEST_CITY_NAME\": \"Dayton, OH\", \"DEST_STATE_ABR\": \"OH\", \"DEST_STATE_NM\": \"Ohio\", \"DEP_TIME\": 1556, \"ARR_TIME\": 1641, \"CANCELLED\": 0, \"DIVERTED\": 0, \"ACTUAL_ELAPSED_TIME\": 45, \"AIR_TIME\": 29}, {\"FL_DATE\": \"2017-06-15\", \"FL_NUM\": 4904, \"ORIGIN_CITY_NAME\": \"Minneapolis, MN\", \"DEST_CITY_NAME\": \"Dayton, OH\", \"DEST_STATE_ABR\": \"OH\", \"DEST_STATE_NM\": \"Ohio\", \"DEP_TIME\": 950, \"ARR_TIME\": 1229, \"CANCELLED\": 0, \"DIVERTED\": 0, \"ACTUAL_ELAPSED_TIME\": 99, \"AIR_TIME\": 78}, {\"FL_DATE\": \"2017-06-15\", \"FL_NUM\": 4951, \"ORIGIN_CITY_NAME\": \"Detroit, MI\", \"DEST_CITY_NAME\": \"Cleveland, OH\", \"DEST_STATE_ABR\": \"OH\", \"DEST_STATE_NM\": \"Ohio\", \"DEP_TIME\": 1404, \"ARR_TIME\": 1504, \"CANCELLED\": 0, \"DIVERTED\": 0, \"ACTUAL_ELAPSED_TIME\": 60, \"AIR_TIME\": 23}, {\"FL_DATE\": \"2017-06-15\", \"FL_NUM\": 5386, \"ORIGIN_CITY_NAME\": \"Chicago, IL\", \"DEST_CITY_NAME\": \"Dayton, OH\", \"DEST_STATE_ABR\": \"OH\", \"DEST_STATE_NM\": \"Ohio\", \"DEP_TIME\": 1735, \"ARR_TIME\": 1953, \"CANCELLED\": 0, \"DIVERTED\": 0, \"ACTUAL_ELAPSED_TIME\": 78, \"AIR_TIME\": 44}, {\"FL_DATE\": \"2017-06-15\", \"FL_NUM\": 5420, \"ORIGIN_CITY_NAME\": \"Chicago, IL\", \"DEST_CITY_NAME\": \"Cleveland, OH\", \"DEST_STATE_ABR\": \"OH\", \"DEST_STATE_NM\": \"Ohio\", \"DEP_TIME\": 1503, \"ARR_TIME\": 1718, \"CANCELLED\": 0, \"DIVERTED\": 0, \"ACTUAL_ELAPSED_TIME\": 75, \"AIR_TIME\": 53}, {\"FL_DATE\": \"2017-06-15\", \"FL_NUM\": 5602, \"ORIGIN_CITY_NAME\": \"Chicago, IL\", \"DEST_CITY_NAME\": \"Columbus, OH\", \"DEST_STATE_ABR\": \"OH\", \"DEST_STATE_NM\": \"Ohio\", \"DEP_TIME\": 1727, \"ARR_TIME\": 1948, \"CANCELLED\": 0, \"DIVERTED\": 0, \"ACTUAL_ELAPSED_TIME\": 81, \"AIR_TIME\": 51}, {\"FL_DATE\": \"2017-06-15\", \"FL_NUM\": 5697, \"ORIGIN_CITY_NAME\": \"Chicago, IL\", \"DEST_CITY_NAME\": \"Dayton, OH\", \"DEST_STATE_ABR\": \"OH\", \"DEST_STATE_NM\": \"Ohio\", \"DEP_TIME\": 1357, \"ARR_TIME\": 1617, \"CANCELLED\": 0, \"DIVERTED\": 0, \"ACTUAL_ELAPSED_TIME\": 80, \"AIR_TIME\": 43}, {\"FL_DATE\": \"2017-06-15\", \"FL_NUM\": 5779, \"ORIGIN_CITY_NAME\": \"Chicago, IL\", \"DEST_CITY_NAME\": \"Akron, OH\", \"DEST_STATE_ABR\": \"OH\", \"DEST_STATE_NM\": \"Ohio\", \"DEP_TIME\": 1923, \"ARR_TIME\": 2148, \"CANCELLED\": 0, \"DIVERTED\": 0, \"ACTUAL_ELAPSED_TIME\": 85, \"AIR_TIME\": 54}, {\"FL_DATE\": \"2017-06-15\", \"FL_NUM\": 5914, \"ORIGIN_CITY_NAME\": \"Chicago, IL\", \"DEST_CITY_NAME\": \"Dayton, OH\", \"DEST_STATE_ABR\": \"OH\", \"DEST_STATE_NM\": \"Ohio\", \"DEP_TIME\": 1517, \"ARR_TIME\": 1720, \"CANCELLED\": 0, \"DIVERTED\": 0, \"ACTUAL_ELAPSED_TIME\": 63, \"AIR_TIME\": 42}, {\"FL_DATE\": \"2017-06-15\", \"FL_NUM\": 5942, \"ORIGIN_CITY_NAME\": \"Chicago, IL\", \"DEST_CITY_NAME\": \"Akron, OH\", \"DEST_STATE_ABR\": \"OH\", \"DEST_STATE_NM\": \"Ohio\", \"DEP_TIME\": 1135, \"ARR_TIME\": 1354, \"CANCELLED\": 0, \"DIVERTED\": 0, \"ACTUAL_ELAPSED_TIME\": 79, \"AIR_TIME\": 54}, {\"FL_DATE\": \"2017-06-15\", \"FL_NUM\": 1830, \"ORIGIN_CITY_NAME\": \"Charlotte, NC\", \"DEST_CITY_NAME\": \"Cleveland, OH\", \"DEST_STATE_ABR\": \"OH\", \"DEST_STATE_NM\": \"Ohio\", \"DEP_TIME\": 753, \"ARR_TIME\": 927, \"CANCELLED\": 0, \"DIVERTED\": 0, \"ACTUAL_ELAPSED_TIME\": 94, \"AIR_TIME\": 67}, {\"FL_DATE\": \"2017-06-15\", \"FL_NUM\": 2239, \"ORIGIN_CITY_NAME\": \"Dallas/Fort Worth, TX\", \"DEST_CITY_NAME\": \"Columbus, OH\", \"DEST_STATE_ABR\": \"OH\", \"DEST_STATE_NM\": \"Ohio\", \"DEP_TIME\": 1824, \"ARR_TIME\": 2141, \"CANCELLED\": 0, \"DIVERTED\": 0, \"ACTUAL_ELAPSED_TIME\": 137, \"AIR_TIME\": 120}, {\"FL_DATE\": \"2017-06-15\", \"FL_NUM\": 508, \"ORIGIN_CITY_NAME\": \"Los Angeles, CA\", \"DEST_CITY_NAME\": \"Columbus, OH\", \"DEST_STATE_ABR\": \"OH\", \"DEST_STATE_NM\": \"Ohio\", \"DEP_TIME\": 937, \"ARR_TIME\": 1701, \"CANCELLED\": 0, \"DIVERTED\": 0, \"ACTUAL_ELAPSED_TIME\": 264, \"AIR_TIME\": 233}, {\"FL_DATE\": \"2017-06-15\", \"FL_NUM\": 1064, \"ORIGIN_CITY_NAME\": \"Orlando, FL\", \"DEST_CITY_NAME\": \"Cleveland, OH\", \"DEST_STATE_ABR\": \"OH\", \"DEST_STATE_NM\": \"Ohio\", \"DEP_TIME\": 1042, \"ARR_TIME\": 1257, \"CANCELLED\": 0, \"DIVERTED\": 0, \"ACTUAL_ELAPSED_TIME\": 135, \"AIR_TIME\": 112}, {\"FL_DATE\": \"2017-06-15\", \"FL_NUM\": 1068, \"ORIGIN_CITY_NAME\": \"Las Vegas, NV\", \"DEST_CITY_NAME\": \"Cleveland, OH\", \"DEST_STATE_ABR\": \"OH\", \"DEST_STATE_NM\": \"Ohio\", \"DEP_TIME\": 925, \"ARR_TIME\": 1624, \"CANCELLED\": 0, \"DIVERTED\": 0, \"ACTUAL_ELAPSED_TIME\": 239, \"AIR_TIME\": 211}, {\"FL_DATE\": \"2017-06-15\", \"FL_NUM\": 122, \"ORIGIN_CITY_NAME\": \"Myrtle Beach, SC\", \"DEST_CITY_NAME\": \"Akron, OH\", \"DEST_STATE_ABR\": \"OH\", \"DEST_STATE_NM\": \"Ohio\", \"DEP_TIME\": 1458, \"ARR_TIME\": 1626, \"CANCELLED\": 0, \"DIVERTED\": 0, \"ACTUAL_ELAPSED_TIME\": 88, \"AIR_TIME\": 74}]))});"
      ]
     },
     "metadata": {},
     "output_type": "display_data"
    },
    {
     "data": {
      "text/plain": [
       "{ \"FL_DATE\" : \"2017-06-15\", \"FL_NUM\" : 4474, \"ORIGIN_CITY_NAME\" : \"Minneapolis, MN\", \"DEST_CITY_NAME\" : \"Cleveland, OH\", \"DEST_STATE_ABR\" : \"OH\", \"DEST_STATE_NM\" : \"Ohio\", \"DEP_TIME\" : 1502, \"ARR_TIME\" : 1749, \"CANCELLED\" : 0, \"DIVERTED\" : 0, \"ACTUAL_ELAPSED_TIME\" : 107, \"AIR_TIME\" : 81 }\r\n",
       "{ \"FL_DATE\" : \"2017-06-15\", \"FL_NUM\" : 4520, \"ORIGIN_CITY_NAME\" : \"Detroit, MI\", \"DEST_CITY_NAME\" : \"Columbus, OH\", \"DEST_STATE_ABR\" : \"OH\", \"DEST_STATE_NM\" : \"Ohio\", \"DEP_TIME\" : 830, \"ARR_TIME\" : 936, \"CANCELLED\" : 0, \"DIVERTED\" : 0, \"ACTUAL_ELAPSED_TIME\" : 66, \"AIR_TIME\" : 33 }\r\n",
       "{ \"FL_DATE\" : \"2017-06-15\", \"FL_NUM\" : 4527, \"ORIGIN_CITY_NAME\" : \"Detroit, MI\", \"DEST_CITY_NAME\" : \"Columbus, OH\", \"DEST_STATE_ABR\" : \"OH\", \"DEST_STATE_NM\" : \"Ohio\", \"DEP_TIME\" : 1346, \"ARR_TIME\" : 1443, \"CANCELLED\" : 0, \"DIVERTED\" : 0, \"ACTUAL_ELAPSED_TIME\" : 57, \"AIR_TIME\" : 33 }\r\n",
       "{ \"FL_DATE\" : \"2017-06-15\", \"FL_NUM\" : 4678, \"ORIGIN_CITY_NAME\" : \"Minneapolis, MN\", \"DEST_CITY_NAME\" : \"Dayton, OH\", \"DEST_STATE_ABR\" : \"OH\", \"DEST_STATE_NM\" : \"Ohio\", \"DEP_TIME\" : 1458, \"ARR_TIME\" : 1732, \"CANCELLED\" : 0, \"DIVERTED\" : 0, \"ACTUAL_ELAPSED_TIME\" : 94, \"AIR_TIME\" : 79 }\r\n",
       "{ \"FL_DATE\" : \"2017-06-15\", \"FL_NUM\" : 4831, \"ORIGIN_CITY_NAME\" : \"Detroit, MI\", \"DEST_CITY_NAME\" : \"Dayton, OH\", \"DEST_STATE_ABR\" : \"OH\", \"DEST_STATE_NM\" : \"Ohio\", \"DEP_TIME\" : 1556, \"ARR_TIME\" : 1641, \"CANCELLED\" : 0, \"DIVERTED\" : 0, \"ACTUAL_ELAPSED_TIME\" : 45, \"AIR_TIME\" : 29 }\r\n",
       "{ \"FL_DATE\" : \"2017-06-15\", \"FL_NUM\" : 4904, \"ORIGIN_CITY_NAME\" : \"Minneapolis, MN\", \"DEST_CITY_NAME\" : \"Dayton, OH\", \"DEST_STATE_ABR\" : \"OH\", \"DEST_STATE_NM\" : \"Ohio\", \"DEP_TIME\" : 950, \"ARR_TIME\" : 1229, \"CANCELLED\" : 0, \"DIVERTED\" : 0, \"ACTUAL_ELAPSED_TIME\" : 99, \"AIR_TIME\" : 78 }\r\n",
       "{ \"FL_DATE\" : \"2017-06-15\", \"FL_NUM\" : 4951, \"ORIGIN_CITY_NAME\" : \"Detroit, MI\", \"DEST_CITY_NAME\" : \"Cleveland, OH\", \"DEST_STATE_ABR\" : \"OH\", \"DEST_STATE_NM\" : \"Ohio\", \"DEP_TIME\" : 1404, \"ARR_TIME\" : 1504, \"CANCELLED\" : 0, \"DIVERTED\" : 0, \"ACTUAL_ELAPSED_TIME\" : 60, \"AIR_TIME\" : 23 }\r\n",
       "{ \"FL_DATE\" : \"2017-06-15\", \"FL_NUM\" : 5386, \"ORIGIN_CITY_NAME\" : \"Chicago, IL\", \"DEST_CITY_NAME\" : \"Dayton, OH\", \"DEST_STATE_ABR\" : \"OH\", \"DEST_STATE_NM\" : \"Ohio\", \"DEP_TIME\" : 1735, \"ARR_TIME\" : 1953, \"CANCELLED\" : 0, \"DIVERTED\" : 0, \"ACTUAL_ELAPSED_TIME\" : 78, \"AIR_TIME\" : 44 }\r\n",
       "{ \"FL_DATE\" : \"2017-06-15\", \"FL_NUM\" : 5420, \"ORIGIN_CITY_NAME\" : \"Chicago, IL\", \"DEST_CITY_NAME\" : \"Cleveland, OH\", \"DEST_STATE_ABR\" : \"OH\", \"DEST_STATE_NM\" : \"Ohio\", \"DEP_TIME\" : 1503, \"ARR_TIME\" : 1718, \"CANCELLED\" : 0, \"DIVERTED\" : 0, \"ACTUAL_ELAPSED_TIME\" : 75, \"AIR_TIME\" : 53 }\r\n",
       "{ \"FL_DATE\" : \"2017-06-15\", \"FL_NUM\" : 5602, \"ORIGIN_CITY_NAME\" : \"Chicago, IL\", \"DEST_CITY_NAME\" : \"Columbus, OH\", \"DEST_STATE_ABR\" : \"OH\", \"DEST_STATE_NM\" : \"Ohio\", \"DEP_TIME\" : 1727, \"ARR_TIME\" : 1948, \"CANCELLED\" : 0, \"DIVERTED\" : 0, \"ACTUAL_ELAPSED_TIME\" : 81, \"AIR_TIME\" : 51 }\r\n",
       "{ \"FL_DATE\" : \"2017-06-15\", \"FL_NUM\" : 5697, \"ORIGIN_CITY_NAME\" : \"Chicago, IL\", \"DEST_CITY_NAME\" : \"Dayton, OH\", \"DEST_STATE_ABR\" : \"OH\", \"DEST_STATE_NM\" : \"Ohio\", \"DEP_TIME\" : 1357, \"ARR_TIME\" : 1617, \"CANCELLED\" : 0, \"DIVERTED\" : 0, \"ACTUAL_ELAPSED_TIME\" : 80, \"AIR_TIME\" : 43 }\r\n",
       "{ \"FL_DATE\" : \"2017-06-15\", \"FL_NUM\" : 5779, \"ORIGIN_CITY_NAME\" : \"Chicago, IL\", \"DEST_CITY_NAME\" : \"Akron, OH\", \"DEST_STATE_ABR\" : \"OH\", \"DEST_STATE_NM\" : \"Ohio\", \"DEP_TIME\" : 1923, \"ARR_TIME\" : 2148, \"CANCELLED\" : 0, \"DIVERTED\" : 0, \"ACTUAL_ELAPSED_TIME\" : 85, \"AIR_TIME\" : 54 }\r\n",
       "{ \"FL_DATE\" : \"2017-06-15\", \"FL_NUM\" : 5914, \"ORIGIN_CITY_NAME\" : \"Chicago, IL\", \"DEST_CITY_NAME\" : \"Dayton, OH\", \"DEST_STATE_ABR\" : \"OH\", \"DEST_STATE_NM\" : \"Ohio\", \"DEP_TIME\" : 1517, \"ARR_TIME\" : 1720, \"CANCELLED\" : 0, \"DIVERTED\" : 0, \"ACTUAL_ELAPSED_TIME\" : 63, \"AIR_TIME\" : 42 }\r\n",
       "{ \"FL_DATE\" : \"2017-06-15\", \"FL_NUM\" : 5942, \"ORIGIN_CITY_NAME\" : \"Chicago, IL\", \"DEST_CITY_NAME\" : \"Akron, OH\", \"DEST_STATE_ABR\" : \"OH\", \"DEST_STATE_NM\" : \"Ohio\", \"DEP_TIME\" : 1135, \"ARR_TIME\" : 1354, \"CANCELLED\" : 0, \"DIVERTED\" : 0, \"ACTUAL_ELAPSED_TIME\" : 79, \"AIR_TIME\" : 54 }\r\n",
       "{ \"FL_DATE\" : \"2017-06-15\", \"FL_NUM\" : 1830, \"ORIGIN_CITY_NAME\" : \"Charlotte, NC\", \"DEST_CITY_NAME\" : \"Cleveland, OH\", \"DEST_STATE_ABR\" : \"OH\", \"DEST_STATE_NM\" : \"Ohio\", \"DEP_TIME\" : 753, \"ARR_TIME\" : 927, \"CANCELLED\" : 0, \"DIVERTED\" : 0, \"ACTUAL_ELAPSED_TIME\" : 94, \"AIR_TIME\" : 67 }\r\n",
       "{ \"FL_DATE\" : \"2017-06-15\", \"FL_NUM\" : 2239, \"ORIGIN_CITY_NAME\" : \"Dallas/Fort Worth, TX\", \"DEST_CITY_NAME\" : \"Columbus, OH\", \"DEST_STATE_ABR\" : \"OH\", \"DEST_STATE_NM\" : \"Ohio\", \"DEP_TIME\" : 1824, \"ARR_TIME\" : 2141, \"CANCELLED\" : 0, \"DIVERTED\" : 0, \"ACTUAL_ELAPSED_TIME\" : 137, \"AIR_TIME\" : 120 }\r\n",
       "{ \"FL_DATE\" : \"2017-06-15\", \"FL_NUM\" : 508, \"ORIGIN_CITY_NAME\" : \"Los Angeles, CA\", \"DEST_CITY_NAME\" : \"Columbus, OH\", \"DEST_STATE_ABR\" : \"OH\", \"DEST_STATE_NM\" : \"Ohio\", \"DEP_TIME\" : 937, \"ARR_TIME\" : 1701, \"CANCELLED\" : 0, \"DIVERTED\" : 0, \"ACTUAL_ELAPSED_TIME\" : 264, \"AIR_TIME\" : 233 }\r\n",
       "{ \"FL_DATE\" : \"2017-06-15\", \"FL_NUM\" : 1064, \"ORIGIN_CITY_NAME\" : \"Orlando, FL\", \"DEST_CITY_NAME\" : \"Cleveland, OH\", \"DEST_STATE_ABR\" : \"OH\", \"DEST_STATE_NM\" : \"Ohio\", \"DEP_TIME\" : 1042, \"ARR_TIME\" : 1257, \"CANCELLED\" : 0, \"DIVERTED\" : 0, \"ACTUAL_ELAPSED_TIME\" : 135, \"AIR_TIME\" : 112 }\r\n",
       "{ \"FL_DATE\" : \"2017-06-15\", \"FL_NUM\" : 1068, \"ORIGIN_CITY_NAME\" : \"Las Vegas, NV\", \"DEST_CITY_NAME\" : \"Cleveland, OH\", \"DEST_STATE_ABR\" : \"OH\", \"DEST_STATE_NM\" : \"Ohio\", \"DEP_TIME\" : 925, \"ARR_TIME\" : 1624, \"CANCELLED\" : 0, \"DIVERTED\" : 0, \"ACTUAL_ELAPSED_TIME\" : 239, \"AIR_TIME\" : 211 }\r\n",
       "{ \"FL_DATE\" : \"2017-06-15\", \"FL_NUM\" : 122, \"ORIGIN_CITY_NAME\" : \"Myrtle Beach, SC\", \"DEST_CITY_NAME\" : \"Akron, OH\", \"DEST_STATE_ABR\" : \"OH\", \"DEST_STATE_NM\" : \"Ohio\", \"DEP_TIME\" : 1458, \"ARR_TIME\" : 1626, \"CANCELLED\" : 0, \"DIVERTED\" : 0, \"ACTUAL_ELAPSED_TIME\" : 88, \"AIR_TIME\" : 74 }\r\n",
       "Type \"it\" for more"
      ]
     },
     "execution_count": 5,
     "metadata": {},
     "output_type": "execute_result"
    }
   ],
   "source": [
    "db.flightstats.aggregate([ \n",
    "    {$match : { $and: [\n",
    "                       {\"DEST_STATE_ABR\": {$eq: \"OH\"}},\n",
    "                       {\"MONTH\": {$eq: 6}}, \n",
    "                       {\"DAY_OF_MONTH\": {$eq: 15}},\n",
    "                       {\"ARR_DELAY\": {$lt: 0}} ]}},\n",
    "    { $project : {\"_id\" : 0,\"FL_DATE\" : 1, \"FL_NUM\" : 1, \"ORIGIN_CITY_NAME\" : 1, \n",
    "              \"DEST_CITY_NAME\" : 1, \"DEST_STATE_ABR\" : 1, \"DEST_STATE_NM\" : 1, \n",
    "              \"DEP_TIME\" : 1, \"ARR_TIME\" : 1, \"CANCELLED\" : 1, \n",
    "               \"DIVERTED\" : 1, \"ACTUAL_ELAPSED_TIME\" : 1, \"AIR_TIME\" : 1}},\n",
    "             { $sort : {\"ARR_DELAY\": 1}}\n",
    "]);"
   ]
  },
  {
   "cell_type": "markdown",
   "metadata": {},
   "source": [
    "** Which arrival city had the most early flights on June 15th 2017? **"
   ]
  },
  {
   "cell_type": "code",
   "execution_count": 6,
   "metadata": {},
   "outputs": [
    {
     "data": {
      "text/html": [
       "<style>a.disclosure:link{text-decoration:none;}a.disclosure:visited{text-decoration:none;}.disclosure{color:#337AB7;font-size:150%;}.syntax{color:grey;}.string{color:#9A334F;}.number{color:#5C9632;}.boolean{color:#AA9739;}.key{color:#403075;}.keyword{color:#AA9739;}.object.syntax{color:#337AB7;}.array.syntax{color:#337AB7;}></style><div id=\"f3e10f1c-09a2-443f-ab43-b65e5c56f909\"></div>"
      ]
     },
     "metadata": {},
     "output_type": "display_data"
    },
    {
     "data": {
      "application/javascript": [
       "require([\"https://rawgit.com/caldwell/renderjson/master/renderjson.js\"], function() {document.getElementById('f3e10f1c-09a2-443f-ab43-b65e5c56f909').appendChild(renderjson.set_show_to_level(2)([{\"_id\": \"Cleveland, OH\", \"flightCount\": 53, \"minutesSaved\": -757}, {\"_id\": \"Columbus, OH\", \"flightCount\": 27, \"minutesSaved\": -259}, {\"_id\": \"Akron, OH\", \"flightCount\": 8, \"minutesSaved\": -105}, {\"_id\": \"Dayton, OH\", \"flightCount\": 7, \"minutesSaved\": -100}]))});"
      ]
     },
     "metadata": {},
     "output_type": "display_data"
    },
    {
     "data": {
      "text/plain": [
       "{ \"_id\" : \"Cleveland, OH\", \"flightCount\" : 53, \"minutesSaved\" : -757 }\r\n",
       "{ \"_id\" : \"Columbus, OH\", \"flightCount\" : 27, \"minutesSaved\" : -259 }\r\n",
       "{ \"_id\" : \"Akron, OH\", \"flightCount\" : 8, \"minutesSaved\" : -105 }\r\n",
       "{ \"_id\" : \"Dayton, OH\", \"flightCount\" : 7, \"minutesSaved\" : -100 }"
      ]
     },
     "execution_count": 6,
     "metadata": {},
     "output_type": "execute_result"
    }
   ],
   "source": [
    "db.flightstats.aggregate([ \n",
    "    {$match : { $and: [\n",
    "                       {\"DEST_STATE_ABR\": {$eq: \"OH\"}},\n",
    "                       {\"MONTH\": {$eq: 6}}, \n",
    "                       {\"DAY_OF_MONTH\": {$eq: 15}},\n",
    "                       {\"ARR_DELAY\": {$lt: 0}} ]}},\n",
    "             { $group : { \"_id\" : \"$DEST_CITY_NAME\",\n",
    "                         flightCount : { $sum : 1},\n",
    "                         minutesSaved: { $sum : \"$ARR_DELAY\"}}},\n",
    "             { $sort : {minutesSaved : 1}}\n",
    "]);"
   ]
  },
  {
   "cell_type": "markdown",
   "metadata": {},
   "source": [
    "** How do flights to Ohio really look on June 15th? **"
   ]
  },
  {
   "cell_type": "code",
   "execution_count": 7,
   "metadata": {},
   "outputs": [
    {
     "data": {},
     "metadata": {},
     "output_type": "display_data"
    },
    {
     "data": {},
     "metadata": {},
     "output_type": "display_data"
    },
    {
     "data": {
      "text/plain": [
       "{\r\n",
       "\t\"_id\" : \"Cleveland, OH\",\r\n",
       "\t\"flightCount\" : 112,\r\n",
       "\t\"numEarly\" : 53,\r\n",
       "\t\"numLate\" : 57,\r\n",
       "\t\"minutesSaved\" : -757,\r\n",
       "\t\"minutesLost\" : 2440\r\n",
       "}\r\n",
       "{\r\n",
       "\t\"_id\" : \"Columbus, OH\",\r\n",
       "\t\"flightCount\" : 71,\r\n",
       "\t\"numEarly\" : 27,\r\n",
       "\t\"numLate\" : 44,\r\n",
       "\t\"minutesSaved\" : -259,\r\n",
       "\t\"minutesLost\" : 1822\r\n",
       "}\r\n",
       "{\r\n",
       "\t\"_id\" : \"Dayton, OH\",\r\n",
       "\t\"flightCount\" : 18,\r\n",
       "\t\"numEarly\" : 7,\r\n",
       "\t\"numLate\" : 11,\r\n",
       "\t\"minutesSaved\" : -100,\r\n",
       "\t\"minutesLost\" : 450\r\n",
       "}\r\n",
       "{\r\n",
       "\t\"_id\" : \"Akron, OH\",\r\n",
       "\t\"flightCount\" : 17,\r\n",
       "\t\"numEarly\" : 8,\r\n",
       "\t\"numLate\" : 9,\r\n",
       "\t\"minutesSaved\" : -105,\r\n",
       "\t\"minutesLost\" : 339\r\n",
       "}\r\n",
       "{\r\n",
       "\t\"_id\" : \"Toledo, OH\",\r\n",
       "\t\"flightCount\" : 1,\r\n",
       "\t\"numEarly\" : 0,\r\n",
       "\t\"numLate\" : 1,\r\n",
       "\t\"minutesSaved\" : 0,\r\n",
       "\t\"minutesLost\" : 87\r\n",
       "}"
      ]
     },
     "execution_count": 7,
     "metadata": {},
     "output_type": "execute_result"
    }
   ],
   "source": [
    "db.flightstats.aggregate([ \n",
    "    {$match : { $and: [\n",
    "                       {\"DEST_STATE_ABR\": {$eq: \"OH\"}},\n",
    "                       {\"MONTH\": {$eq: 6}}, \n",
    "                       {\"DAY_OF_MONTH\": {$eq: 15}}]}},\n",
    "    { $project : {\n",
    "                 \"_id\" : 0, \"DEST_CITY_NAME\" : 1,\n",
    "                 early   : {$cond: [{$lt: [\"$ARR_DELAY\", 0]}, \"$ARR_DELAY\", 0]},\n",
    "                 late    : {$cond: [{$gt: [\"$ARR_DELAY\", 0]}, \"$ARR_DELAY\", 0]},\n",
    "                 earlyCt : {$cond: [{$lt: [\"$ARR_DELAY\", 0]}, 1, 0]},\n",
    "                 lateCt  : {$cond: [{$gt: [\"$ARR_DELAY\", 0]}, 1, 0]},\n",
    "                 ontimeCt: {$cond: [{$eq: [\"$ARR_DELAY\", 0]}, 1, 0]}                  \n",
    "    }},\n",
    "    { $group : { \n",
    "                \"_id\" : \"$DEST_CITY_NAME\",\n",
    "                flightCount : { $sum : 1},\n",
    "                numEarly : { $sum : \"$earlyCt\"},\n",
    "                numLate  : { $sum : \"$lateCt\"},\n",
    "                minutesSaved : { $sum : \"$early\"},\n",
    "                minutesLost : { $sum : \"$late\"}\n",
    "                }},                \n",
    "    { $sort : {flightCount : -1}}\n",
    "]).pretty();"
   ]
  }
 ],
 "metadata": {
  "kernelspec": {
   "display_name": "IMongo",
   "language": "",
   "name": "imongo"
  },
  "language_info": {
   "codemirror_mode": "shell",
   "file_extension": ".js",
   "mimetype": "text/x-mongodb",
   "name": "javascript"
  }
 },
 "nbformat": 4,
 "nbformat_minor": 2
}
